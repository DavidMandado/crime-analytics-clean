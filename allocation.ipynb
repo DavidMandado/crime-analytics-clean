{
 "cells": [
  {
   "cell_type": "code",
   "execution_count": 225,
   "id": "7fb1e5bf",
   "metadata": {},
   "outputs": [],
   "source": [
    "import geopandas as gpd\n",
    "import plotly.express as px\n",
    "import json\n",
    "import pandas as pd\n",
    "import numpy as np"
   ]
  },
  {
   "cell_type": "code",
   "execution_count": 226,
   "id": "54ac8835",
   "metadata": {},
   "outputs": [
    {
     "name": "stdout",
     "output_type": "stream",
     "text": [
      "4225 LSOAs in more than one ward\n",
      "LSOA names with multiple ward intersections: ['City of London 001B', 'City of London 001C', 'City of London 001E', 'Barking and Dagenham 016A', 'Barking and Dagenham 015B', 'Barking and Dagenham 016B', 'Barking and Dagenham 015C', 'Barking and Dagenham 016C', 'Barking and Dagenham 015D', 'Barking and Dagenham 013A', 'Barking and Dagenham 013B', 'Barking and Dagenham 009A', 'Barking and Dagenham 009B', 'Barking and Dagenham 009C', 'Barking and Dagenham 023A', 'Barking and Dagenham 023B', 'Barking and Dagenham 008A', 'Barking and Dagenham 008C', 'Barking and Dagenham 008D', 'Barking and Dagenham 008E', 'Barking and Dagenham 001A', 'Barking and Dagenham 001B', 'Barking and Dagenham 001C', 'Barking and Dagenham 002A', 'Barking and Dagenham 002B', 'Barking and Dagenham 006A', 'Barking and Dagenham 003A', 'Barking and Dagenham 010A', 'Barking and Dagenham 010B', 'Barking and Dagenham 003B', 'Barking and Dagenham 003C', 'Barking and Dagenham 003D', 'Barking and Dagenham 019A', 'Barking and Dagenham 017A', 'Barking and Dagenham 017B', 'Barking and Dagenham 019B', 'Barking and Dagenham 016D', 'Barking and Dagenham 017C', 'Barking and Dagenham 017D', 'Barking and Dagenham 021C', 'Barking and Dagenham 019C', 'Barking and Dagenham 021D', 'Barking and Dagenham 019D', 'Barking and Dagenham 020A', 'Barking and Dagenham 018A', 'Barking and Dagenham 018B', 'Barking and Dagenham 018C', 'Barking and Dagenham 012A', 'Barking and Dagenham 018D', 'Barking and Dagenham 013C', 'Barking and Dagenham 006B', 'Barking and Dagenham 006C', 'Barking and Dagenham 006D', 'Barking and Dagenham 004A', 'Barking and Dagenham 006E', 'Barking and Dagenham 007A', 'Barking and Dagenham 011A', 'Barking and Dagenham 011B', 'Barking and Dagenham 016E', 'Barking and Dagenham 011D', 'Barking and Dagenham 011E', 'Barking and Dagenham 017E', 'Barking and Dagenham 012B', 'Barking and Dagenham 012C', 'Barking and Dagenham 012D', 'Barking and Dagenham 012E', 'Barking and Dagenham 008F', 'Barking and Dagenham 007B', 'Barking and Dagenham 009E', 'Barking and Dagenham 007C', 'Barking and Dagenham 007D', 'Barking and Dagenham 007E', 'Barking and Dagenham 007F', 'Barking and Dagenham 013D', 'Barking and Dagenham 013E', 'Barking and Dagenham 013F', 'Barking and Dagenham 020B', 'Barking and Dagenham 020C', 'Barking and Dagenham 020D', 'Barking and Dagenham 020E', 'Barking and Dagenham 019E', 'Barking and Dagenham 022B', 'Barking and Dagenham 018E', 'Barking and Dagenham 022D', 'Barking and Dagenham 023C', 'Barking and Dagenham 023D', 'Barking and Dagenham 023E', 'Barking and Dagenham 004B', 'Barking and Dagenham 004C', 'Barking and Dagenham 007G', 'Barking and Dagenham 014A', 'Barking and Dagenham 014B', 'Barking and Dagenham 014C', 'Barking and Dagenham 014D', 'Barking and Dagenham 010C', 'Barking and Dagenham 004D', 'Barking and Dagenham 002C', 'Barking and Dagenham 002D', 'Barking and Dagenham 002E', 'Barking and Dagenham 002F', 'Barking and Dagenham 004E', 'Barnet 009A', 'Barnet 009B', 'Barnet 010A', 'Barnet 010B', 'Barnet 009C', 'Barnet 010C', 'Barnet 009E', 'Barnet 010D', 'Barnet 010E', 'Barnet 024A', 'Barnet 026A', 'Barnet 024D', 'Barnet 021A', 'Barnet 024E', 'Barnet 021B', 'Barnet 021C', 'Barnet 024F', 'Barnet 038A', 'Barnet 038B', 'Barnet 040A', 'Barnet 041B', 'Barnet 041C', 'Barnet 039A', 'Barnet 040B', 'Barnet 041D', 'Barnet 038C', 'Barnet 037A', 'Barnet 038D', 'Barnet 030A', 'Barnet 030B', 'Barnet 036A', 'Barnet 026C', 'Barnet 026D', 'Barnet 026E', 'Barnet 030D', 'Barnet 022A', 'Barnet 022B', 'Barnet 015A', 'Barnet 015B', 'Barnet 015C', 'Barnet 015E', 'Barnet 022C', 'Barnet 022D', 'Barnet 003A', 'Barnet 002A', 'Barnet 003B', 'Barnet 006B', 'Barnet 003D', 'Barnet 006D', 'Barnet 006E', 'Barnet 027A', 'Barnet 027B', 'Barnet 029C', 'Barnet 029D', 'Barnet 029E', 'Barnet 033A', 'Barnet 027C', 'Barnet 014A', 'Barnet 014B', 'Barnet 014C', 'Barnet 014D', 'Barnet 014E', 'Barnet 018A', 'Barnet 018B', 'Barnet 018C', 'Barnet 013A', 'Barnet 023A', 'Barnet 025A', 'Barnet 025B', 'Barnet 028C', 'Barnet 028E', 'Barnet 025C', 'Barnet 035A', 'Barnet 033B', 'Barnet 033D', 'Barnet 033E', 'Barnet 035C', 'Barnet 035D', 'Barnet 038E', 'Barnet 037B', 'Barnet 035E', 'Barnet 035F', 'Barnet 037C', 'Barnet 037D', 'Barnet 037E', 'Barnet 039B', 'Barnet 040C', 'Barnet 039C', 'Barnet 040D', 'Barnet 037F', 'Barnet 018D', 'Barnet 018E', 'Barnet 007A', 'Barnet 013B', 'Barnet 013C', 'Barnet 013D', 'Barnet 013E', 'Barnet 021D', 'Barnet 021E', 'Barnet 034A', 'Barnet 032A', 'Barnet 034B', 'Barnet 031A', 'Barnet 031B', 'Barnet 031C', 'Barnet 032B', 'Barnet 002B', 'Barnet 002C', 'Barnet 001A', 'Barnet 001B', 'Barnet 001C', 'Barnet 002D', 'Barnet 002E', 'Barnet 007B', 'Barnet 001D', 'Barnet 017A', 'Barnet 017B', 'Barnet 016B', 'Barnet 025D', 'Barnet 025E', 'Barnet 017C', 'Barnet 017D', 'Barnet 016C', 'Barnet 016D', 'Barnet 011A', 'Barnet 011B', 'Barnet 005A', 'Barnet 005B', 'Barnet 005C', 'Barnet 008A', 'Barnet 008B', 'Barnet 008C', 'Barnet 011C', 'Barnet 012A', 'Barnet 020A', 'Barnet 012B', 'Barnet 020B', 'Barnet 007C', 'Barnet 007D', 'Barnet 008D', 'Barnet 008E', 'Barnet 012D', 'Barnet 007E', 'Barnet 004B', 'Barnet 004C', 'Barnet 004D', 'Barnet 007F', 'Barnet 004E', 'Barnet 001E', 'Barnet 001F', 'Barnet 004F', 'Barnet 023B', 'Barnet 023C', 'Barnet 027D', 'Barnet 023D', 'Barnet 019A', 'Barnet 019B', 'Barnet 020C', 'Barnet 019C', 'Barnet 020D', 'Barnet 020E', 'Barnet 036B', 'Barnet 039D', 'Barnet 036D', 'Barnet 031D', 'Barnet 034C', 'Barnet 034D', 'Barnet 036E', 'Barnet 036F', 'Barnet 022F', 'Barnet 027E', 'Barnet 019D', 'Barnet 027F', 'Barnet 011D', 'Barnet 012E', 'Barnet 019F', 'Barnet 015F', 'Bexley 014B', 'Bexley 017A', 'Bexley 017B', 'Bexley 017C', 'Bexley 017D', 'Bexley 017E', 'Bexley 005A', 'Bexley 006A', 'Bexley 003B', 'Bexley 003C', 'Bexley 003D', 'Bexley 025A', 'Bexley 018A', 'Bexley 022A', 'Bexley 022B', 'Bexley 022C', 'Bexley 025B', 'Bexley 022D', 'Bexley 021B', 'Bexley 020A', 'Bexley 020B', 'Bexley 021C', 'Bexley 024A', 'Bexley 021D', 'Bexley 011A', 'Bexley 011C', 'Bexley 009A', 'Bexley 009B', 'Bexley 011D', 'Bexley 009C', 'Bexley 015A', 'Bexley 020C', 'Bexley 015B', 'Bexley 020D', 'Bexley 023A', 'Bexley 015C', 'Bexley 015D', 'Bexley 010A', 'Bexley 010B', 'Bexley 014C', 'Bexley 014D', 'Bexley 014E', 'Bexley 010C', 'Bexley 008A', 'Bexley 019A', 'Bexley 019D', 'Bexley 019E', 'Bexley 010D', 'Bexley 028A', 'Bexley 027A', 'Bexley 028B', 'Bexley 027B', 'Bexley 028C', 'Bexley 028D', 'Bexley 027C', 'Bexley 016A', 'Bexley 020E', 'Bexley 020F', 'Bexley 021E', 'Bexley 016B', 'Bexley 020G', 'Bexley 015E', 'Bexley 018B', 'Bexley 018C', 'Bexley 029A', 'Bexley 029B', 'Bexley 029C', 'Bexley 013A', 'Bexley 005B', 'Bexley 004A', 'Bexley 005C', 'Bexley 005D', 'Bexley 004D', 'Bexley 016C', 'Bexley 016D', 'Bexley 018E', 'Bexley 018F', 'Bexley 016E', 'Bexley 002A', 'Bexley 006B', 'Bexley 002B', 'Bexley 006C', 'Bexley 006D', 'Bexley 009D', 'Bexley 002C', 'Bexley 025C', 'Bexley 026A', 'Bexley 025D', 'Bexley 026B', 'Bexley 026C', 'Bexley 027D', 'Bexley 008B', 'Bexley 008D', 'Bexley 008F', 'Bexley 008G', 'Bexley 010E', 'Bexley 011E', 'Bexley 007A', 'Bexley 007B', 'Bexley 007C', 'Bexley 007D', 'Bexley 007E', 'Bexley 006E', 'Bexley 024B', 'Bexley 023B', 'Bexley 024C', 'Bexley 024D', 'Bexley 023C', 'Bexley 023D', 'Bexley 023E', 'Bexley 009E', 'Bexley 009F', 'Bexley 009G', 'Bexley 013C', 'Bexley 013D', 'Bexley 013E', 'Bexley 026D', 'Bexley 027E', 'Bexley 027F', 'Bexley 022E', 'Bexley 024E', 'Bexley 026E', 'Bexley 025E', 'Bexley 002D', 'Bexley 002E', 'Bexley 001A', 'Bexley 001B', 'Bexley 001D', 'Bexley 002F', 'Brent 026A', 'Brent 029A', 'Brent 029B', 'Brent 026B', 'Brent 029C', 'Brent 026D', 'Brent 009A', 'Brent 006A', 'Brent 009B', 'Brent 009C', 'Brent 009D', 'Brent 006B', 'Brent 006C', 'Brent 006D', 'Brent 006E', 'Brent 022A', 'Brent 030A', 'Brent 023A', 'Brent 030C', 'Brent 030D', 'Brent 023B', 'Brent 023C', 'Brent 011A', 'Brent 010B', 'Brent 011B', 'Brent 011D', 'Brent 011E', 'Brent 018A', 'Brent 018B', 'Brent 014A', 'Brent 018C', 'Brent 025A', 'Brent 014B', 'Brent 014C', 'Brent 014D', 'Brent 018D', 'Brent 002A', 'Brent 003A', 'Brent 002C', 'Brent 003B', 'Brent 005A', 'Brent 005B', 'Brent 002D', 'Brent 025B', 'Brent 025C', 'Brent 031A', 'Brent 031B', 'Brent 031C', 'Brent 025D', 'Brent 025E', 'Brent 025F', 'Brent 033A', 'Brent 033B', 'Brent 033C', 'Brent 031E', 'Brent 033D', 'Brent 031F', 'Brent 004A', 'Brent 004C', 'Brent 004D', 'Brent 004E', 'Brent 003E', 'Brent 034A', 'Brent 028A', 'Brent 028B', 'Brent 028C', 'Brent 028D', 'Brent 028E', 'Brent 034B', 'Brent 034C', 'Brent 034D', 'Brent 015A', 'Brent 015B', 'Brent 015C', 'Brent 015D', 'Brent 015F', 'Brent 018E', 'Brent 023D', 'Brent 023E', 'Brent 008A', 'Brent 008B', 'Brent 013A', 'Brent 013B', 'Brent 016A', 'Brent 008D', 'Brent 012A', 'Brent 012B', 'Brent 007A', 'Brent 007B', 'Brent 007C', 'Brent 007D', 'Brent 012C', 'Brent 007E', 'Brent 012D', 'Brent 032A', 'Brent 032B', 'Brent 030E', 'Brent 032C', 'Brent 032D', 'Brent 033E', 'Brent 033F', 'Brent 032E', 'Brent 002E', 'Brent 001B', 'Brent 001C', 'Brent 003F', 'Brent 001D', 'Brent 001E', 'Brent 001F', 'Brent 027A', 'Brent 027E', 'Brent 021B', 'Brent 021C', 'Brent 021E', 'Brent 021F', 'Brent 016B', 'Brent 013D', 'Brent 016C', 'Brent 019A', 'Brent 016D', 'Brent 019B', 'Brent 013E', 'Brent 017B', 'Brent 020A', 'Brent 017C', 'Brent 017E', 'Brent 020B', 'Brent 020C', 'Brent 010D', 'Brent 005C', 'Brent 005D', 'Brent 009E', 'Brent 010E', 'Brent 014E', 'Brent 014F', 'Brent 005E', 'Brent 026E', 'Brent 019C', 'Brent 029E', 'Brent 019D', 'Brent 019E', 'Brent 020D', 'Brent 020E', 'Brent 022B', 'Brent 024A', 'Brent 022C', 'Brent 024C', 'Brent 022D', 'Brent 024D', 'Brent 022E', 'Bromley 007A', 'Bromley 016A', 'Bromley 016B', 'Bromley 016C', 'Bromley 007B', 'Bromley 022A', 'Bromley 020A', 'Bromley 022B', 'Bromley 016D', 'Bromley 039C', 'Bromley 042A', 'Bromley 026A', 'Bromley 026B', 'Bromley 026C', 'Bromley 026D', 'Bromley 033A', 'Bromley 033B', 'Bromley 033C', 'Bromley 020B', 'Bromley 020C', 'Bromley 018A', 'Bromley 020D', 'Bromley 011A', 'Bromley 011B', 'Bromley 008A', 'Bromley 018B', 'Bromley 008B', 'Bromley 018C', 'Bromley 016E', 'Bromley 020E', 'Bromley 037A', 'Bromley 035A', 'Bromley 035B', 'Bromley 035C', 'Bromley 035D', 'Bromley 037B', 'Bromley 037C', 'Bromley 037D', 'Bromley 037E', 'Bromley 002A', 'Bromley 002B', 'Bromley 002C', 'Bromley 010A', 'Bromley 007C', 'Bromley 007D', 'Bromley 007E', 'Bromley 007F', 'Bromley 010B', 'Bromley 015A', 'Bromley 015B', 'Bromley 013B', 'Bromley 013C', 'Bromley 015C', 'Bromley 015D', 'Bromley 013D', 'Bromley 041A', 'Bromley 041B', 'Bromley 006A', 'Bromley 006B', 'Bromley 006C', 'Bromley 012A', 'Bromley 012B', 'Bromley 006D', 'Bromley 012C', 'Bromley 011C', 'Bromley 011D', 'Bromley 006E', 'Bromley 019A', 'Bromley 019B', 'Bromley 023A', 'Bromley 029A', 'Bromley 023B', 'Bromley 029B', 'Bromley 028A', 'Bromley 019E', 'Bromley 014B', 'Bromley 023C', 'Bromley 023D', 'Bromley 023E', 'Bromley 028B', 'Bromley 014C', 'Bromley 010C', 'Bromley 010D', 'Bromley 014D', 'Bromley 005A', 'Bromley 005B', 'Bromley 005C', 'Bromley 009A', 'Bromley 009B', 'Bromley 005D', 'Bromley 005E', 'Bromley 042B', 'Bromley 042C', 'Bromley 036A', 'Bromley 036C', 'Bromley 036D', 'Bromley 031A', 'Bromley 031B', 'Bromley 031C', 'Bromley 033D', 'Bromley 031E', 'Bromley 034A', 'Bromley 034B', 'Bromley 018D', 'Bromley 027A', 'Bromley 027B', 'Bromley 034D', 'Bromley 027C', 'Bromley 034E', 'Bromley 024A', 'Bromley 012D', 'Bromley 041C', 'Bromley 012E', 'Bromley 041D', 'Bromley 024C', 'Bromley 024E', 'Bromley 001A', 'Bromley 001B', 'Bromley 001C', 'Bromley 001D', 'Bromley 002E', 'Bromley 001F', 'Bromley 032A', 'Bromley 029C', 'Bromley 029D', 'Bromley 032B', 'Bromley 028C', 'Bromley 035E', 'Bromley 032E', 'Bromley 013E', 'Bromley 004A', 'Bromley 009E', 'Bromley 015E', 'Bromley 004B', 'Bromley 004C', 'Bromley 004D', 'Bromley 009F', 'Bromley 022C', 'Bromley 025A', 'Bromley 022D', 'Bromley 025B', 'Bromley 028D', 'Bromley 025D', 'Bromley 028E', 'Bromley 025E', 'Bromley 040A', 'Bromley 040B', 'Bromley 008C', 'Bromley 008D', 'Bromley 008E', 'Bromley 008F', 'Bromley 008G', 'Bromley 021A', 'Bromley 021B', 'Bromley 011E', 'Bromley 018E', 'Bromley 021C', 'Bromley 021D', 'Bromley 030A', 'Bromley 021E', 'Bromley 027E', 'Bromley 030D', 'Bromley 030E', 'Bromley 030F', 'Bromley 030G', 'Camden 014A', 'Camden 011B', 'Camden 014B', 'Camden 014C', 'Camden 014D', 'Camden 011C', 'Camden 011D', 'Camden 026A', 'Camden 026B', 'Camden 026C', 'Camden 025A', 'Camden 026D', 'Camden 028A', 'Camden 019A', 'Camden 018A', 'Camden 018B', 'Camden 018C', 'Camden 018D', 'Camden 019B', 'Camden 018E', 'Camden 021A', 'Camden 015A', 'Camden 015B', 'Camden 009A', 'Camden 015C', 'Camden 015D', 'Camden 015E', 'Camden 009B', 'Camden 005A', 'Camden 005B', 'Camden 005D', 'Camden 013A', 'Camden 013B', 'Camden 005E', 'Camden 004A', 'Camden 004B', 'Camden 004C', 'Camden 008A', 'Camden 008B', 'Camden 008C', 'Camden 004D', 'Camden 004E', 'Camden 006A', 'Camden 006B', 'Camden 007A', 'Camden 007B', 'Camden 007C', 'Camden 006D', 'Camden 002A', 'Camden 002C', 'Camden 002D', 'Camden 008D', 'Camden 008E', 'Camden 002E', 'Camden 012A', 'Camden 007D', 'Camden 006E', 'Camden 012C', 'Camden 012E', 'Camden 001A', 'Camden 003B', 'Camden 001D', 'Camden 001E', 'Camden 028B', 'Camden 027B', 'Camden 027C', 'Camden 028C', 'Camden 028D', 'Camden 027D', 'Camden 003C', 'Camden 007E', 'Camden 009C', 'Camden 009E', 'Camden 007F', 'Camden 003E', 'Camden 020A', 'Camden 020B', 'Camden 013C', 'Camden 013D', 'Camden 020C', 'Camden 020D', 'Camden 020E', 'Camden 024A', 'Camden 025B', 'Camden 024B', 'Camden 024C', 'Camden 025D', 'Camden 025E', 'Camden 023B', 'Camden 021B', 'Camden 021C', 'Camden 021D', 'Camden 022A', 'Camden 022B', 'Camden 022C', 'Camden 022D', 'Camden 022E', 'Camden 019C', 'Camden 019D', 'Camden 019E', 'Camden 017A', 'Camden 017B', 'Camden 016A', 'Camden 017C', 'Camden 016B', 'Camden 016C', 'Camden 016D', 'Camden 017D', 'Camden 016E', 'Camden 010A', 'Camden 010B', 'Camden 010C', 'Camden 010D', 'Camden 010E', 'Camden 013E', 'Croydon 022A', 'Croydon 022B', 'Croydon 022C', 'Croydon 022D', 'Croydon 022E', 'Croydon 017A', 'Croydon 017B', 'Croydon 017D', 'Croydon 021A', 'Croydon 021B', 'Croydon 018A', 'Croydon 045A', 'Croydon 018B', 'Croydon 014A', 'Croydon 021D', 'Croydon 009A', 'Croydon 009B', 'Croydon 009D', 'Croydon 010A', 'Croydon 009E', 'Croydon 010B', 'Croydon 013A', 'Croydon 009F', 'Croydon 010C', 'Croydon 015A', 'Croydon 016A', 'Croydon 016B', 'Croydon 019B', 'Croydon 019C', 'Croydon 019D', 'Croydon 019E', 'Croydon 020A', 'Croydon 024A', 'Croydon 041A', 'Croydon 041B', 'Croydon 043A', 'Croydon 044A', 'Croydon 044E', 'Croydon 041C', 'Croydon 043B', 'Croydon 043C', 'Croydon 043E', 'Croydon 038A', 'Croydon 038B', 'Croydon 038C', 'Croydon 038D', 'Croydon 035A', 'Croydon 031A', 'Croydon 027A', 'Croydon 029A', 'Croydon 029B', 'Croydon 029C', 'Croydon 029E', 'Croydon 031C', 'Croydon 024B', 'Croydon 027B', 'Croydon 023A', 'Croydon 027C', 'Croydon 027D', 'Croydon 020C', 'Croydon 023C', 'Croydon 023D', 'Croydon 030A', 'Croydon 030B', 'Croydon 032A', 'Croydon 030C', 'Croydon 032B', 'Croydon 030E', 'Croydon 034B', 'Croydon 034C', 'Croydon 034D', 'Croydon 026A', 'Croydon 026B', 'Croydon 026C', 'Croydon 034E', 'Croydon 034F', 'Croydon 041D', 'Croydon 042A', 'Croydon 040A', 'Croydon 040B', 'Croydon 042B', 'Croydon 042C', 'Croydon 037A', 'Croydon 041E', 'Croydon 040C', 'Croydon 032C', 'Croydon 032D', 'Croydon 036B', 'Croydon 036C', 'Croydon 036D', 'Croydon 032E', 'Croydon 003A', 'Croydon 002A', 'Croydon 004A', 'Croydon 003B', 'Croydon 003C', 'Croydon 004B', 'Croydon 004E', 'Croydon 037B', 'Croydon 037C', 'Croydon 038E', 'Croydon 031D', 'Croydon 037D', 'Croydon 037E', 'Croydon 037F', 'Croydon 040D', 'Croydon 031E', 'Croydon 035C', 'Croydon 039A', 'Croydon 042D', 'Croydon 039B', 'Croydon 039C', 'Croydon 035D', 'Croydon 035E', 'Croydon 013B', 'Croydon 020D', 'Croydon 010D', 'Croydon 013C', 'Croydon 013E', 'Croydon 015B', 'Croydon 015C', 'Croydon 034G', 'Croydon 039D', 'Croydon 033B', 'Croydon 033C', 'Croydon 033D', 'Croydon 033E', 'Croydon 034H', 'Croydon 025A', 'Croydon 025B', 'Croydon 026D', 'Croydon 025C', 'Croydon 018C', 'Croydon 018D', 'Croydon 026E', 'Croydon 018E', 'Croydon 025D', 'Croydon 007A', 'Croydon 001A', 'Croydon 001B', 'Croydon 007B', 'Croydon 007C', 'Croydon 008A', 'Croydon 007D', 'Croydon 008B', 'Croydon 007E', 'Croydon 008C', 'Croydon 006A', 'Croydon 005A', 'Croydon 005B', 'Croydon 006B', 'Croydon 006C', 'Croydon 005C', 'Croydon 005D', 'Croydon 006E', 'Croydon 010E', 'Croydon 001C', 'Croydon 002B', 'Croydon 005E', 'Croydon 002C', 'Croydon 002D', 'Croydon 003D', 'Croydon 001D', 'Croydon 002E', 'Croydon 001E', 'Croydon 024C', 'Croydon 024D', 'Croydon 028A', 'Croydon 027E', 'Croydon 028D', 'Croydon 028E', 'Croydon 011B', 'Croydon 016C', 'Croydon 015D', 'Croydon 016E', 'Croydon 015E', 'Croydon 011D', 'Croydon 011E', 'Croydon 011F', 'Croydon 014B', 'Croydon 017E', 'Croydon 014D', 'Croydon 045B', 'Croydon 045C', 'Croydon 008D', 'Croydon 008E', 'Croydon 014E', 'Croydon 045D', 'Ealing 021A', 'Ealing 015A', 'Ealing 021B', 'Ealing 025A', 'Ealing 025C', 'Ealing 025D', 'Ealing 018A', 'Ealing 018B', 'Ealing 018C', 'Ealing 018D', 'Ealing 018E', 'Ealing 013A', 'Ealing 016A', 'Ealing 013B', 'Ealing 018F', 'Ealing 023A', 'Ealing 023B', 'Ealing 023C', 'Ealing 023D', 'Ealing 014A', 'Ealing 012A', 'Ealing 029B', 'Ealing 020A', 'Ealing 019A', 'Ealing 020B', 'Ealing 019B', 'Ealing 020C', 'Ealing 019C', 'Ealing 019E', 'Ealing 031B', 'Ealing 027A', 'Ealing 031C', 'Ealing 031D', 'Ealing 027B', 'Ealing 020D', 'Ealing 020E', 'Ealing 015B', 'Ealing 015C', 'Ealing 024A', 'Ealing 024B', 'Ealing 024C', 'Ealing 024D', 'Ealing 024E', 'Ealing 024F', 'Ealing 015D', 'Ealing 015E', 'Ealing 035A', 'Ealing 028A', 'Ealing 028B', 'Ealing 030A', 'Ealing 030D', 'Ealing 028C', 'Ealing 008A', 'Ealing 010B', 'Ealing 014B', 'Ealing 012B', 'Ealing 012C', 'Ealing 010C', 'Ealing 010D', 'Ealing 010E', 'Ealing 006A', 'Ealing 006B', 'Ealing 006C', 'Ealing 012D', 'Ealing 001A', 'Ealing 004A', 'Ealing 001B', 'Ealing 006D', 'Ealing 020F', 'Ealing 020G', 'Ealing 020H', 'Ealing 011A', 'Ealing 011B', 'Ealing 011C', 'Ealing 011D', 'Ealing 013D', 'Ealing 016B', 'Ealing 016C', 'Ealing 022A', 'Ealing 016E', 'Ealing 022C', 'Ealing 022D', 'Ealing 014C', 'Ealing 014D', 'Ealing 014E', 'Ealing 017A', 'Ealing 017C', 'Ealing 017D', 'Ealing 017E', 'Ealing 035B', 'Ealing 039B', 'Ealing 039C', 'Ealing 032A', 'Ealing 039D', 'Ealing 035C', 'Ealing 035D', 'Ealing 002A', 'Ealing 002B', 'Ealing 001C', 'Ealing 001D', 'Ealing 001E', 'Ealing 002C', 'Ealing 002D', 'Ealing 003A', 'Ealing 003B', 'Ealing 003C', 'Ealing 003D', 'Ealing 004B', 'Ealing 003E', 'Ealing 004C', 'Ealing 008B', 'Ealing 009A', 'Ealing 008C', 'Ealing 008D', 'Ealing 009E', 'Ealing 008E', 'Ealing 038A', 'Ealing 038B', 'Ealing 038C', 'Ealing 029D', 'Ealing 029E', 'Ealing 029F', 'Ealing 005B', 'Ealing 005C', 'Ealing 007A', 'Ealing 005D', 'Ealing 007B', 'Ealing 007C', 'Ealing 007D', 'Ealing 006E', 'Ealing 027C', 'Ealing 025E', 'Ealing 027D', 'Ealing 033A', 'Ealing 027E', 'Ealing 033B', 'Ealing 033D', 'Ealing 033E', 'Ealing 023E', 'Ealing 026C', 'Ealing 026D', 'Ealing 026E', 'Ealing 026F', 'Ealing 037A', 'Ealing 037B', 'Ealing 038D', 'Ealing 037D', 'Ealing 037E', 'Ealing 037F', 'Ealing 037G', 'Ealing 040A', 'Ealing 034A', 'Ealing 040B', 'Ealing 034B', 'Ealing 040C', 'Ealing 034D', 'Ealing 028D', 'Ealing 032C', 'Ealing 032D', 'Ealing 031F', 'Ealing 032E', 'Ealing 028E', 'Ealing 028F', 'Enfield 036A', 'Enfield 036B', 'Enfield 032A', 'Enfield 036C', 'Enfield 035A', 'Enfield 035B', 'Enfield 036D', 'Enfield 035C', 'Enfield 021B', 'Enfield 021C', 'Enfield 016A', 'Enfield 021D', 'Enfield 021E', 'Enfield 026A', 'Enfield 015A', 'Enfield 015B', 'Enfield 005A', 'Enfield 004A', 'Enfield 005B', 'Enfield 005C', 'Enfield 004B', 'Enfield 004C', 'Enfield 004E', 'Enfield 011A', 'Enfield 013A', 'Enfield 011B', 'Enfield 020A', 'Enfield 020B', 'Enfield 020C', 'Enfield 011D', 'Enfield 027A', 'Enfield 027B', 'Enfield 030B', 'Enfield 030C', 'Enfield 027C', 'Enfield 030D', 'Enfield 007A', 'Enfield 014A', 'Enfield 006A', 'Enfield 012A', 'Enfield 006B', 'Enfield 002A', 'Enfield 001A', 'Enfield 001B', 'Enfield 003D', 'Enfield 003E', 'Enfield 015C', 'Enfield 017B', 'Enfield 017C', 'Enfield 017D', 'Enfield 021F', 'Enfield 022A', 'Enfield 010A', 'Enfield 037A', 'Enfield 024A', 'Enfield 024B', 'Enfield 027D', 'Enfield 031A', 'Enfield 027E', 'Enfield 031B', 'Enfield 031C', 'Enfield 010B', 'Enfield 008A', 'Enfield 013B', 'Enfield 010D', 'Enfield 013C', 'Enfield 010E', 'Enfield 013D', 'Enfield 018A', 'Enfield 018B', 'Enfield 016B', 'Enfield 023A', 'Enfield 024D', 'Enfield 023B', 'Enfield 025A', 'Enfield 016C', 'Enfield 025B', 'Enfield 025C', 'Enfield 023C', 'Enfield 024E', 'Enfield 023D', 'Enfield 023E', 'Enfield 026B', 'Enfield 026C', 'Enfield 029A', 'Enfield 031E', 'Enfield 029B', 'Enfield 031F', 'Enfield 035D', 'Enfield 036E', 'Enfield 018D', 'Enfield 018E', 'Enfield 012B', 'Enfield 012C', 'Enfield 014B', 'Enfield 012E', 'Enfield 014D', 'Enfield 016D', 'Enfield 015D', 'Enfield 012F', 'Enfield 016E', 'Enfield 015E', 'Enfield 005D', 'Enfield 006C', 'Enfield 016F', 'Enfield 020D', 'Enfield 019A', 'Enfield 028A', 'Enfield 019B', 'Enfield 019C', 'Enfield 019D', 'Enfield 020E', 'Enfield 019E', 'Enfield 036F', 'Enfield 032B', 'Enfield 032C', 'Enfield 032D', 'Enfield 028B', 'Enfield 028C', 'Enfield 028D', 'Enfield 032E', 'Enfield 028E', 'Enfield 008B', 'Enfield 005E', 'Enfield 009A', 'Enfield 009B', 'Enfield 008C', 'Enfield 008D', 'Enfield 008E', 'Enfield 009C', 'Enfield 009D', 'Enfield 001C', 'Enfield 002C', 'Enfield 006D', 'Enfield 006E', 'Enfield 002E', 'Enfield 001D', 'Enfield 037B', 'Enfield 037C', 'Enfield 033C', 'Enfield 035E', 'Enfield 033D', 'Enfield 033E', 'Enfield 033F', 'Enfield 035F', 'Enfield 037D', 'Enfield 029C', 'Enfield 022B', 'Enfield 029D', 'Enfield 029E', 'Enfield 022C', 'Enfield 022D', 'Enfield 022E', 'Enfield 026E', 'Greenwich 008B', 'Greenwich 008C', 'Greenwich 008D', 'Greenwich 003A', 'Greenwich 003B', 'Greenwich 003C', 'Greenwich 003D', 'Greenwich 003E', 'Greenwich 021A', 'Greenwich 016A', 'Greenwich 021B', 'Greenwich 021C', 'Greenwich 021D', 'Greenwich 016B', 'Greenwich 016D', 'Greenwich 012A', 'Greenwich 012B', 'Greenwich 014A', 'Greenwich 014B', 'Greenwich 014C', 'Greenwich 014D', 'Greenwich 012D', 'Greenwich 032A', 'Greenwich 031A', 'Greenwich 031B', 'Greenwich 032B', 'Greenwich 032C', 'Greenwich 032D', 'Greenwich 031C', 'Greenwich 031D', 'Greenwich 027A', 'Greenwich 023A', 'Greenwich 027B', 'Greenwich 027C', 'Greenwich 027D', 'Greenwich 023C', 'Greenwich 023D', 'Greenwich 028A', 'Greenwich 028B', 'Greenwich 028C', 'Greenwich 028D', 'Greenwich 030C', 'Greenwich 030D', 'Greenwich 025A', 'Greenwich 025B', 'Greenwich 025D', 'Greenwich 025E', 'Greenwich 009A', 'Greenwich 007B', 'Greenwich 007C', 'Greenwich 009B', 'Greenwich 007D', 'Greenwich 007E', 'Greenwich 009D', 'Greenwich 038A', 'Greenwich 038B', 'Greenwich 038C', 'Greenwich 038D', 'Greenwich 022A', 'Greenwich 019A', 'Greenwich 022B', 'Greenwich 022C', 'Greenwich 022D', 'Greenwich 019B', 'Greenwich 019C', 'Greenwich 019D', 'Greenwich 029A', 'Greenwich 029B', 'Greenwich 029C', 'Greenwich 034A', 'Greenwich 034B', 'Greenwich 034C', 'Greenwich 034D', 'Greenwich 029D', 'Greenwich 029E', 'Greenwich 037A', 'Greenwich 037B', 'Greenwich 037C', 'Greenwich 036A', 'Greenwich 036C', 'Greenwich 033A', 'Greenwich 033B', 'Greenwich 006A', 'Greenwich 006B', 'Greenwich 006C', 'Greenwich 006D', 'Greenwich 033C', 'Greenwich 017A', 'Greenwich 020A', 'Greenwich 020C', 'Greenwich 020D', 'Greenwich 017B', 'Greenwich 017C', 'Greenwich 017D', 'Greenwich 020E', 'Greenwich 002A', 'Greenwich 002B', 'Greenwich 001A', 'Greenwich 001C', 'Greenwich 001D', 'Greenwich 011A', 'Greenwich 011B', 'Greenwich 015A', 'Greenwich 015B', 'Greenwich 011D', 'Greenwich 015C', 'Greenwich 011E', 'Greenwich 011F', 'Greenwich 005A', 'Greenwich 005C', 'Greenwich 004B', 'Hackney 002A', 'Hackney 007B', 'Hackney 007C', 'Hackney 007D', 'Hackney 007E', 'Hackney 007F', 'Hackney 029A', 'Hackney 006B', 'Hackney 004A', 'Hackney 004B', 'Hackney 006C', 'Hackney 029B', 'Hackney 019A', 'Hackney 019B', 'Hackney 017A', 'Hackney 019C', 'Hackney 015A', 'Hackney 017B', 'Hackney 019D', 'Hackney 012A', 'Hackney 012B', 'Hackney 012C', 'Hackney 012D', 'Hackney 014A', 'Hackney 009A', 'Hackney 008A', 'Hackney 021B', 'Hackney 016A', 'Hackney 016B', 'Hackney 014B', 'Hackney 020A', 'Hackney 020B', 'Hackney 021C', 'Hackney 021D', 'Hackney 025A', 'Hackney 025C', 'Hackney 025D', 'Hackney 021E', 'Hackney 016C', 'Hackney 016D', 'Hackney 016E', 'Hackney 017C', 'Hackney 016F', 'Hackney 017D', 'Hackney 020C', 'Hackney 010A', 'Hackney 010B', 'Hackney 010D', 'Hackney 006D', 'Hackney 006E', 'Hackney 010E', 'Hackney 024A', 'Hackney 025E', 'Hackney 024B', 'Hackney 024C', 'Hackney 025F', 'Hackney 027B', 'Hackney 026A', 'Hackney 027D', 'Hackney 026B', 'Hackney 026C', 'Hackney 027E', 'Hackney 015B', 'Hackney 013A', 'Hackney 013B', 'Hackney 015C', 'Hackney 015D', 'Hackney 011A', 'Hackney 011B', 'Hackney 011C', 'Hackney 011D', 'Hackney 011E', 'Hackney 028A', 'Hackney 003A', 'Hackney 008C', 'Hackney 003C', 'Hackney 009B', 'Hackney 008D', 'Hackney 003D', 'Hackney 001A', 'Hackney 001B', 'Hackney 002D', 'Hackney 003E', 'Hackney 002E', 'Hackney 001C', 'Hackney 020D', 'Hackney 020E', 'Hackney 024E', 'Hackney 024F', 'Hackney 029C', 'Hackney 001D', 'Hackney 004D', 'Hackney 001E', 'Hackney 004E', 'Hackney 029D', 'Hackney 028B', 'Hackney 009C', 'Hackney 014C', 'Hackney 009D', 'Hackney 009E', 'Hackney 014D', 'Hackney 014E', 'Hackney 014F', 'Hackney 022A', 'Hackney 023B', 'Hackney 019E', 'Hackney 023C', 'Hackney 022B', 'Hackney 022C', 'Hackney 023D', 'Hackney 022D', 'Hackney 022E', 'Hackney 018A', 'Hackney 018B', 'Hackney 018C', 'Hackney 018D', 'Hackney 019F', 'Hammersmith and Fulham 010A', 'Hammersmith and Fulham 007A', 'Hammersmith and Fulham 007B', 'Hammersmith and Fulham 010B', 'Hammersmith and Fulham 010C', 'Hammersmith and Fulham 007D', 'Hammersmith and Fulham 006A', 'Hammersmith and Fulham 008A', 'Hammersmith and Fulham 006B', 'Hammersmith and Fulham 006C', 'Hammersmith and Fulham 005A', 'Hammersmith and Fulham 008B', 'Hammersmith and Fulham 012A', 'Hammersmith and Fulham 012B', 'Hammersmith and Fulham 010D', 'Hammersmith and Fulham 012D', 'Hammersmith and Fulham 012E', 'Hammersmith and Fulham 010E', 'Hammersmith and Fulham 001A', 'Hammersmith and Fulham 001B', 'Hammersmith and Fulham 001C', 'Hammersmith and Fulham 001D', 'Hammersmith and Fulham 001E', 'Hammersmith and Fulham 019A', 'Hammersmith and Fulham 017A', 'Hammersmith and Fulham 017B', 'Hammersmith and Fulham 017C', 'Hammersmith and Fulham 017D', 'Hammersmith and Fulham 017E', 'Hammersmith and Fulham 015A', 'Hammersmith and Fulham 016A', 'Hammersmith and Fulham 016B', 'Hammersmith and Fulham 018A', 'Hammersmith and Fulham 014A', 'Hammersmith and Fulham 018B', 'Hammersmith and Fulham 016D', 'Hammersmith and Fulham 013A', 'Hammersmith and Fulham 013B', 'Hammersmith and Fulham 009A', 'Hammersmith and Fulham 009B', 'Hammersmith and Fulham 009C', 'Hammersmith and Fulham 013C', 'Hammersmith and Fulham 013D', 'Hammersmith and Fulham 013E', 'Hammersmith and Fulham 019B', 'Hammersmith and Fulham 019C', 'Hammersmith and Fulham 019D', 'Hammersmith and Fulham 022A', 'Hammersmith and Fulham 022B', 'Hammersmith and Fulham 022C', 'Hammersmith and Fulham 022D', 'Hammersmith and Fulham 015C', 'Hammersmith and Fulham 014B', 'Hammersmith and Fulham 015D', 'Hammersmith and Fulham 015E', 'Hammersmith and Fulham 014C', 'Hammersmith and Fulham 014D', 'Hammersmith and Fulham 024A', 'Hammersmith and Fulham 024B', 'Hammersmith and Fulham 018C', 'Hammersmith and Fulham 018D', 'Hammersmith and Fulham 020A', 'Hammersmith and Fulham 020B', 'Hammersmith and Fulham 020C', 'Hammersmith and Fulham 020D', 'Hammersmith and Fulham 020E', 'Hammersmith and Fulham 025A', 'Hammersmith and Fulham 024C', 'Hammersmith and Fulham 008C', 'Hammersmith and Fulham 011A', 'Hammersmith and Fulham 009D', 'Hammersmith and Fulham 008D', 'Hammersmith and Fulham 011B', 'Hammersmith and Fulham 011C', 'Hammersmith and Fulham 011D', 'Hammersmith and Fulham 025B', 'Hammersmith and Fulham 023A', 'Hammersmith and Fulham 025C', 'Hammersmith and Fulham 023C', 'Hammersmith and Fulham 005B', 'Hammersmith and Fulham 005C', 'Hammersmith and Fulham 005D', 'Hammersmith and Fulham 004A', 'Hammersmith and Fulham 004B', 'Hammersmith and Fulham 004C', 'Hammersmith and Fulham 004D', 'Hammersmith and Fulham 021B', 'Hammersmith and Fulham 021C', 'Hammersmith and Fulham 021D', 'Hammersmith and Fulham 021E', 'Hammersmith and Fulham 024D', 'Hammersmith and Fulham 021F', 'Hammersmith and Fulham 003A', 'Hammersmith and Fulham 002A', 'Hammersmith and Fulham 003B', 'Hammersmith and Fulham 002B', 'Hammersmith and Fulham 002C', 'Hammersmith and Fulham 003C', 'Hammersmith and Fulham 003D', 'Hammersmith and Fulham 002D', 'Haringey 004A', 'Haringey 009A', 'Haringey 009B', 'Haringey 009D', 'Haringey 014A', 'Haringey 014B', 'Haringey 001A', 'Haringey 004B', 'Haringey 001B', 'Haringey 004C', 'Haringey 004D', 'Haringey 001C', 'Haringey 001D', 'Haringey 011B', 'Haringey 011C', 'Haringey 011D', 'Haringey 018A', 'Haringey 018B', 'Haringey 018C', 'Haringey 018D', 'Haringey 033A', 'Haringey 034A', 'Haringey 033C', 'Haringey 034B', 'Haringey 033D', 'Haringey 034C', 'Haringey 017A', 'Haringey 017B', 'Haringey 017C', 'Haringey 030A', 'Haringey 017D', 'Haringey 014C', 'Haringey 014D', 'Haringey 023A', 'Haringey 023B', 'Haringey 031A', 'Haringey 031C', 'Haringey 023C', 'Haringey 035A', 'Haringey 035B', 'Haringey 035C', 'Haringey 030B', 'Haringey 035D', 'Haringey 030C', 'Haringey 030D', 'Haringey 022A', 'Haringey 020B', 'Haringey 020C', 'Haringey 028A', 'Haringey 028B', 'Haringey 020D', 'Haringey 022B', 'Haringey 021A', 'Haringey 022C', 'Haringey 021B', 'Haringey 022D', 'Haringey 021D', 'Haringey 010A', 'Haringey 010B', 'Haringey 016B', 'Haringey 016C', 'Haringey 016D', 'Haringey 010C', 'Haringey 010D', 'Haringey 037A', 'Haringey 002A', 'Haringey 002B', 'Haringey 037B', 'Haringey 002C', 'Haringey 002D', 'Haringey 037C', 'Haringey 027A', 'Haringey 026A', 'Haringey 027B', 'Haringey 026B', 'Haringey 026C', 'Haringey 027C', 'Haringey 027D', 'Haringey 026D', 'Haringey 029A', 'Haringey 029B', 'Haringey 029C', 'Haringey 032A', 'Haringey 029D', 'Haringey 032C', 'Haringey 032D', 'Haringey 031D', 'Haringey 028C', 'Haringey 028D', 'Haringey 036A', 'Haringey 034D', 'Haringey 036C', 'Haringey 036D', 'Haringey 025A', 'Haringey 024A', 'Haringey 025B', 'Haringey 024B', 'Haringey 024C', 'Haringey 025D', 'Haringey 024D', 'Haringey 012A', 'Haringey 015A', 'Haringey 015B', 'Haringey 012B', 'Haringey 015C', 'Haringey 015D', 'Haringey 012D', 'Haringey 013A', 'Haringey 019A', 'Haringey 019B', 'Haringey 019C', 'Haringey 013B', 'Haringey 019D', 'Haringey 013C', 'Haringey 005A', 'Haringey 006A', 'Haringey 006B', 'Haringey 005B', 'Haringey 006D', 'Haringey 005C', 'Haringey 005D', 'Haringey 007A', 'Haringey 008B', 'Haringey 007B', 'Haringey 007C', 'Haringey 008C', 'Haringey 008D', 'Haringey 007D', 'Harrow 008A', 'Harrow 012A', 'Harrow 008C', 'Harrow 008D', 'Harrow 008E', 'Harrow 001A', 'Harrow 002A', 'Harrow 001B', 'Harrow 002B', 'Harrow 002C', 'Harrow 002D', 'Harrow 002E', 'Harrow 007A', 'Harrow 007B', 'Harrow 007C', 'Harrow 007D', 'Harrow 007E', 'Harrow 010A', 'Harrow 010B', 'Harrow 023A', 'Harrow 023B', 'Harrow 020A', 'Harrow 023C', 'Harrow 020B', 'Harrow 023D', 'Harrow 029A', 'Harrow 027A', 'Harrow 029B', 'Harrow 029C', 'Harrow 027B', 'Harrow 029D', 'Harrow 027C', 'Harrow 006A', 'Harrow 005A', 'Harrow 005B', 'Harrow 005C', 'Harrow 005D', 'Harrow 004A', 'Harrow 005E', 'Harrow 004B', 'Harrow 004C', 'Harrow 006B', 'Harrow 004D', 'Harrow 006C', 'Harrow 006D', 'Harrow 006E', 'Harrow 019A', 'Harrow 015A', 'Harrow 019B', 'Harrow 015B', 'Harrow 019C', 'Harrow 019D', 'Harrow 021B', 'Harrow 021C', 'Harrow 015C', 'Harrow 015D', 'Harrow 021D', 'Harrow 017A', 'Harrow 017B', 'Harrow 017C', 'Harrow 017D', 'Harrow 017E', 'Harrow 033A', 'Harrow 033B', 'Harrow 033C', 'Harrow 033E', 'Harrow 033F', 'Harrow 033G', 'Harrow 033H', 'Harrow 033I', 'Harrow 013A', 'Harrow 013B', 'Harrow 020C', 'Harrow 020D', 'Harrow 013C', 'Harrow 013D', 'Harrow 009A', 'Harrow 009B', 'Harrow 009C', 'Harrow 016A', 'Harrow 016B', 'Harrow 009D', 'Harrow 022A', 'Harrow 016C', 'Harrow 016D', 'Harrow 022B', 'Harrow 022C', 'Harrow 022D', 'Harrow 012B', 'Harrow 010C', 'Harrow 012C', 'Harrow 010D', 'Harrow 012D', 'Harrow 012E', 'Harrow 010E', 'Harrow 032A', 'Harrow 032B', 'Harrow 032C', 'Harrow 025A', 'Harrow 025B', 'Harrow 032D', 'Harrow 028A', 'Harrow 028B', 'Harrow 027D', 'Harrow 031A', 'Harrow 031B', 'Harrow 028C', 'Harrow 028D', 'Harrow 030A', 'Harrow 030B', 'Harrow 031C', 'Harrow 030C', 'Harrow 030D', 'Harrow 031D', 'Harrow 031E', 'Harrow 001C', 'Harrow 001D', 'Harrow 003A', 'Harrow 003C', 'Harrow 003D', 'Harrow 013E', 'Harrow 011A', 'Harrow 011B', 'Harrow 011C', 'Harrow 011D', 'Harrow 011E', 'Harrow 024A', 'Harrow 024B', 'Harrow 025C', 'Harrow 024C', 'Harrow 025D', 'Harrow 024D', 'Havering 013A', 'Havering 011A', 'Havering 011B', 'Havering 017B', 'Havering 017C', 'Havering 017D', 'Havering 017E', 'Havering 017F', 'Havering 018A', 'Havering 019A', 'Havering 019B', 'Havering 022A', 'Havering 018B', 'Havering 019C', 'Havering 018D', 'Havering 026A', 'Havering 026B', 'Havering 026C', 'Havering 026D', 'Havering 025A', 'Havering 027A', 'Havering 027B', 'Havering 010A', 'Havering 010B', 'Havering 015A', 'Havering 014A', 'Havering 015C', 'Havering 014B', 'Havering 015D', 'Havering 001A', 'Havering 002A', 'Havering 004A', 'Havering 002C', 'Havering 004B', 'Havering 002D', 'Havering 004C', 'Havering 025B', 'Havering 025C', 'Havering 023A', 'Havering 025D', 'Havering 022B', 'Havering 025E', 'Havering 023B', 'Havering 022C', 'Havering 007A', 'Havering 007B', 'Havering 010C', 'Havering 007C', 'Havering 004D', 'Havering 007D', 'Havering 002E', 'Havering 003A', 'Havering 005A', 'Havering 003B', 'Havering 003C', 'Havering 005B', 'Havering 005C', 'Havering 006B', 'Havering 006C', 'Havering 001C', 'Havering 001D', 'Havering 004E', 'Havering 004F', 'Havering 014C', 'Havering 014D', 'Havering 016A', 'Havering 021B', 'Havering 021C', 'Havering 021D', 'Havering 021E', 'Havering 011C', 'Havering 005D', 'Havering 009A', 'Havering 009B', 'Havering 011D', 'Havering 011E', 'Havering 005E', 'Havering 009C', 'Havering 008A', 'Havering 008B', 'Havering 009D', 'Havering 008C', 'Havering 012A', 'Havering 009E', 'Havering 008D', 'Havering 009F', 'Havering 008E', 'Havering 029A', 'Havering 029B', 'Havering 030B', 'Havering 029C', 'Havering 029D', 'Havering 016B', 'Havering 016C', 'Havering 016D', 'Havering 013B', 'Havering 012B', 'Havering 014E', 'Havering 013C', 'Havering 020A', 'Havering 020B', 'Havering 020C', 'Havering 022D', 'Havering 020D', 'Havering 023C', 'Havering 023D', 'Havering 023E', 'Havering 020E', 'Havering 028A', 'Havering 028C', 'Havering 027C', 'Havering 027D', 'Havering 027E', 'Havering 028E', 'Havering 012C', 'Havering 010D', 'Havering 010E', 'Havering 012D', 'Havering 012F', 'Havering 014F', 'Havering 010F', 'Havering 019D', 'Havering 024A', 'Havering 022E', 'Havering 024D', 'Havering 018E', 'Hillingdon 020A', 'Hillingdon 020B', 'Hillingdon 021B', 'Hillingdon 026A', 'Hillingdon 021C', 'Hillingdon 024A', 'Hillingdon 024B', 'Hillingdon 024E', 'Hillingdon 027A', 'Hillingdon 027B', 'Hillingdon 030A', 'Hillingdon 019A', 'Hillingdon 019B', 'Hillingdon 017A', 'Hillingdon 022A', 'Hillingdon 017B', 'Hillingdon 022B', 'Hillingdon 015A', 'Hillingdon 010A', 'Hillingdon 008A', 'Hillingdon 008B', 'Hillingdon 006A', 'Hillingdon 006B', 'Hillingdon 008C', 'Hillingdon 008D', 'Hillingdon 018B', 'Hillingdon 018C', 'Hillingdon 021F', 'Hillingdon 018E', 'Hillingdon 018F', 'Hillingdon 019C', 'Hillingdon 007A', 'Hillingdon 006C', 'Hillingdon 006D', 'Hillingdon 004A', 'Hillingdon 007B', 'Hillingdon 007C', 'Hillingdon 004B', 'Hillingdon 006E', 'Hillingdon 003C', 'Hillingdon 003D', 'Hillingdon 032A', 'Hillingdon 031A', 'Hillingdon 029A', 'Hillingdon 031B', 'Hillingdon 031C', 'Hillingdon 032B', 'Hillingdon 014B', 'Hillingdon 014C', 'Hillingdon 014E', 'Hillingdon 019D', 'Hillingdon 017C', 'Hillingdon 019E', 'Hillingdon 011A', 'Hillingdon 011B', 'Hillingdon 011C', 'Hillingdon 013A', 'Hillingdon 013B', 'Hillingdon 011E', 'Hillingdon 009A', 'Hillingdon 010B', 'Hillingdon 009B', 'Hillingdon 010C', 'Hillingdon 007D', 'Hillingdon 008E', 'Hillingdon 001A', 'Hillingdon 002B', 'Hillingdon 001B', 'Hillingdon 001D', 'Hillingdon 002C', 'Hillingdon 004C', 'Hillingdon 004D', 'Hillingdon 004E', 'Hillingdon 001E', 'Hillingdon 002D', 'Hillingdon 002E', 'Hillingdon 002F', 'Hillingdon 028A', 'Hillingdon 028B', 'Hillingdon 030C', 'Hillingdon 032D', 'Hillingdon 030E', 'Hillingdon 032E', 'Hillingdon 009C', 'Hillingdon 010E', 'Hillingdon 033A', 'Hillingdon 033B', 'Hillingdon 033C', 'Hillingdon 033D', 'Hillingdon 026C', 'Hillingdon 027C', 'Hillingdon 027D', 'Hillingdon 026D', 'Hillingdon 027E', 'Hillingdon 027F', 'Hillingdon 026E', 'Hillingdon 017D', 'Hillingdon 017E', 'Hillingdon 013C', 'Hillingdon 013D', 'Hillingdon 015C', 'Hillingdon 015D', 'Hillingdon 013E', 'Hillingdon 022C', 'Hillingdon 022D', 'Hillingdon 016C', 'Hillingdon 029B', 'Hillingdon 031D', 'Hillingdon 028D', 'Hillingdon 029C', 'Hillingdon 029D', 'Hillingdon 029E', 'Hillingdon 028E', 'Hillingdon 005A', 'Hillingdon 005B', 'Hillingdon 007E', 'Hillingdon 009D', 'Hillingdon 009E', 'Hillingdon 005C', 'Hillingdon 005D', 'Hillingdon 020C', 'Hillingdon 023A', 'Hillingdon 020D', 'Hillingdon 020E', 'Hillingdon 023B', 'Hillingdon 023D', 'Hillingdon 023E', 'Hillingdon 025A', 'Hillingdon 025B', 'Hillingdon 022E', 'Hillingdon 025C', 'Hillingdon 022F', 'Hounslow 022A', 'Hounslow 022B', 'Hounslow 023A', 'Hounslow 023B', 'Hounslow 023C', 'Hounslow 023D', 'Hounslow 023E', 'Hounslow 003A', 'Hounslow 006A', 'Hounslow 003B', 'Hounslow 006B', 'Hounslow 003C', 'Hounslow 006C', 'Hounslow 003D', 'Hounslow 001A', 'Hounslow 001B', 'Hounslow 007A', 'Hounslow 007B', 'Hounslow 001C', 'Hounslow 001D', 'Hounslow 001E', 'Hounslow 008A', 'Hounslow 007C', 'Hounslow 007D', 'Hounslow 008B', 'Hounslow 008C', 'Hounslow 008D', 'Hounslow 008E', 'Hounslow 013A', 'Hounslow 013B', 'Hounslow 013C', 'Hounslow 013D', 'Hounslow 016A', 'Hounslow 013E', 'Hounslow 022C', 'Hounslow 024A', 'Hounslow 022D', 'Hounslow 024B', 'Hounslow 024C', 'Hounslow 022E', 'Hounslow 027A', 'Hounslow 025B', 'Hounslow 027B', 'Hounslow 027C', 'Hounslow 025E', 'Hounslow 026A', 'Hounslow 026B', 'Hounslow 026C', 'Hounslow 026D', 'Hounslow 028A', 'Hounslow 028B', 'Hounslow 028C', 'Hounslow 024D', 'Hounslow 024E', 'Hounslow 024F', 'Hounslow 027D', 'Hounslow 026E', 'Hounslow 027E', 'Hounslow 028D', 'Hounslow 011A', 'Hounslow 010A', 'Hounslow 004A', 'Hounslow 011B', 'Hounslow 010B', 'Hounslow 017A', 'Hounslow 004B', 'Hounslow 004C', 'Hounslow 004D', 'Hounslow 011D', 'Hounslow 011E', 'Hounslow 012A', 'Hounslow 004E', 'Hounslow 010C', 'Hounslow 005A', 'Hounslow 010D', 'Hounslow 010E', 'Hounslow 005C', 'Hounslow 005D', 'Hounslow 012B', 'Hounslow 012C', 'Hounslow 018A', 'Hounslow 015A', 'Hounslow 015B', 'Hounslow 015C', 'Hounslow 017B', 'Hounslow 021A', 'Hounslow 018C', 'Hounslow 018D', 'Hounslow 021B', 'Hounslow 021D', 'Hounslow 019C', 'Hounslow 019D', 'Hounslow 018E', 'Hounslow 015D', 'Hounslow 019E', 'Hounslow 016C', 'Hounslow 016D', 'Hounslow 017C', 'Hounslow 017D', 'Hounslow 017E', 'Hounslow 016E', 'Hounslow 021E', 'Hounslow 020A', 'Hounslow 014A', 'Hounslow 014B', 'Hounslow 020B', 'Hounslow 020C', 'Hounslow 020D', 'Hounslow 012D', 'Hounslow 009A', 'Hounslow 012E', 'Hounslow 015E', 'Hounslow 009B', 'Hounslow 009C', 'Hounslow 014C', 'Hounslow 014D', 'Hounslow 014E', 'Hounslow 006D', 'Hounslow 006E', 'Hounslow 029A', 'Hounslow 007E', 'Hounslow 007F', 'Hounslow 029B', 'Hounslow 029C', 'Hounslow 029D', 'Islington 019A', 'Islington 021A', 'Islington 020A', 'Islington 019B', 'Islington 017A', 'Islington 017B', 'Islington 017C', 'Islington 023A', 'Islington 023C', 'Islington 023D', 'Islington 023E', 'Islington 022B', 'Islington 015A', 'Islington 019C', 'Islington 019D', 'Islington 021B', 'Islington 015B', 'Islington 015C', 'Islington 017D', 'Islington 014A', 'Islington 016A', 'Islington 014B', 'Islington 016B', 'Islington 014C', 'Islington 018A', 'Islington 022C', 'Islington 022D', 'Islington 022E', 'Islington 022F', 'Islington 021C', 'Islington 021D', 'Islington 021E', 'Islington 007A', 'Islington 007B', 'Islington 005A', 'Islington 007C', 'Islington 005B', 'Islington 003A', 'Islington 005D', 'Islington 009A', 'Islington 013A', 'Islington 013B', 'Islington 009B', 'Islington 006A', 'Islington 009C', 'Islington 009D', 'Islington 013C', 'Islington 006B', 'Islington 006C', 'Islington 006D', 'Islington 005E', 'Islington 009E', 'Islington 002A', 'Islington 002B', 'Islington 001A', 'Islington 001B', 'Islington 002C', 'Islington 001C', 'Islington 002D', 'Islington 002E', 'Islington 007D', 'Islington 010A', 'Islington 015D', 'Islington 015E', 'Islington 004A', 'Islington 008A', 'Islington 004B', 'Islington 004C', 'Islington 002F', 'Islington 004D', 'Islington 004E', 'Islington 014D', 'Islington 014E', 'Islington 012B', 'Islington 012C', 'Islington 012D', 'Islington 012E', 'Islington 010B', 'Islington 010C', 'Islington 008B', 'Islington 010D', 'Islington 010E', 'Islington 008C', 'Islington 008D', 'Islington 016D', 'Islington 016E', 'Islington 017E', 'Islington 016F', 'Islington 020B', 'Islington 013D', 'Islington 013E', 'Islington 018B', 'Islington 018C', 'Islington 018D', 'Islington 018E', 'Islington 020C', 'Islington 020D', 'Islington 020E', 'Islington 001D', 'Islington 003B', 'Islington 001E', 'Islington 003D', 'Islington 003E', 'Islington 003F', 'Islington 001F', 'Kensington and Chelsea 013A', 'Kensington and Chelsea 015A', 'Kensington and Chelsea 011B', 'Kensington and Chelsea 011C', 'Kensington and Chelsea 011D', 'Kensington and Chelsea 012A', 'Kensington and Chelsea 012B', 'Kensington and Chelsea 016A', 'Kensington and Chelsea 014A', 'Kensington and Chelsea 016B', 'Kensington and Chelsea 014B', 'Kensington and Chelsea 008B', 'Kensington and Chelsea 008C', 'Kensington and Chelsea 008D', 'Kensington and Chelsea 008E', 'Kensington and Chelsea 004A', 'Kensington and Chelsea 004B', 'Kensington and Chelsea 004C', 'Kensington and Chelsea 004D', 'Kensington and Chelsea 007A', 'Kensington and Chelsea 013B', 'Kensington and Chelsea 016C', 'Kensington and Chelsea 016D', 'Kensington and Chelsea 016E', 'Kensington and Chelsea 020A', 'Kensington and Chelsea 013C', 'Kensington and Chelsea 021A', 'Kensington and Chelsea 021B', 'Kensington and Chelsea 021D', 'Kensington and Chelsea 019A', 'Kensington and Chelsea 019B', 'Kensington and Chelsea 017A', 'Kensington and Chelsea 015C', 'Kensington and Chelsea 017B', 'Kensington and Chelsea 013D', 'Kensington and Chelsea 015D', 'Kensington and Chelsea 001A', 'Kensington and Chelsea 001C', 'Kensington and Chelsea 001D', 'Kensington and Chelsea 004E', 'Kensington and Chelsea 001E', 'Kensington and Chelsea 012C', 'Kensington and Chelsea 012D', 'Kensington and Chelsea 014D', 'Kensington and Chelsea 014E', 'Kensington and Chelsea 012E', 'Kensington and Chelsea 009A', 'Kensington and Chelsea 011E', 'Kensington and Chelsea 009B', 'Kensington and Chelsea 009C', 'Kensington and Chelsea 009D', 'Kensington and Chelsea 009E', 'Kensington and Chelsea 005A', 'Kensington and Chelsea 007B', 'Kensington and Chelsea 005B', 'Kensington and Chelsea 007C', 'Kensington and Chelsea 007D', 'Kensington and Chelsea 007E', 'Kensington and Chelsea 003A', 'Kensington and Chelsea 003B', 'Kensington and Chelsea 003C', 'Kensington and Chelsea 005C', 'Kensington and Chelsea 005D', 'Kensington and Chelsea 005E', 'Kensington and Chelsea 006A', 'Kensington and Chelsea 006B', 'Kensington and Chelsea 006C', 'Kensington and Chelsea 006D', 'Kensington and Chelsea 006E', 'Kensington and Chelsea 013E', 'Kensington and Chelsea 010B', 'Kensington and Chelsea 010C', 'Kensington and Chelsea 010D', 'Kensington and Chelsea 010E', 'Kensington and Chelsea 017C', 'Kensington and Chelsea 017D', 'Kensington and Chelsea 020B', 'Kensington and Chelsea 020C', 'Kensington and Chelsea 020D', 'Kensington and Chelsea 017E', 'Kensington and Chelsea 018A', 'Kensington and Chelsea 018B', 'Kensington and Chelsea 018D', 'Kensington and Chelsea 018E', 'Kensington and Chelsea 002A', 'Kensington and Chelsea 002B', 'Kensington and Chelsea 002C', 'Kensington and Chelsea 002D', 'Kensington and Chelsea 003D', 'Kensington and Chelsea 003E', 'Kensington and Chelsea 019C', 'Kensington and Chelsea 019D', 'Kensington and Chelsea 020E', 'Kensington and Chelsea 021E', 'Kensington and Chelsea 019E', 'Kingston upon Thames 014A', 'Kingston upon Thames 014B', 'Kingston upon Thames 017A', 'Kingston upon Thames 017B', 'Kingston upon Thames 014D', 'Kingston upon Thames 011A', 'Kingston upon Thames 010A', 'Kingston upon Thames 013A', 'Kingston upon Thames 014E', 'Kingston upon Thames 013B', 'Kingston upon Thames 010B', 'Kingston upon Thames 008A', 'Kingston upon Thames 008B', 'Kingston upon Thames 007A', 'Kingston upon Thames 007B', 'Kingston upon Thames 007C', 'Kingston upon Thames 006A', 'Kingston upon Thames 004B', 'Kingston upon Thames 003A', 'Kingston upon Thames 004D', 'Kingston upon Thames 003B', 'Kingston upon Thames 018A', 'Kingston upon Thames 020A', 'Kingston upon Thames 018B', 'Kingston upon Thames 020B', 'Kingston upon Thames 019A', 'Kingston upon Thames 019B', 'Kingston upon Thames 019C', 'Kingston upon Thames 019D', 'Kingston upon Thames 020C', 'Kingston upon Thames 020D', 'Kingston upon Thames 003C', 'Kingston upon Thames 002A', 'Kingston upon Thames 002B', 'Kingston upon Thames 003D', 'Kingston upon Thames 002C', 'Kingston upon Thames 002D', 'Kingston upon Thames 003E', 'Kingston upon Thames 008C', 'Kingston upon Thames 002E', 'Kingston upon Thames 006B', 'Kingston upon Thames 008D', 'Kingston upon Thames 006C', 'Kingston upon Thames 007D', 'Kingston upon Thames 005A', 'Kingston upon Thames 009A', 'Kingston upon Thames 010C', 'Kingston upon Thames 009B', 'Kingston upon Thames 009C', 'Kingston upon Thames 006D', 'Kingston upon Thames 005C', 'Kingston upon Thames 005D', 'Kingston upon Thames 006E', 'Kingston upon Thames 012A', 'Kingston upon Thames 015A', 'Kingston upon Thames 012B', 'Kingston upon Thames 015B', 'Kingston upon Thames 015C', 'Kingston upon Thames 012C', 'Kingston upon Thames 012D', 'Kingston upon Thames 015D', 'Kingston upon Thames 015E', 'Kingston upon Thames 012E', 'Kingston upon Thames 007E', 'Kingston upon Thames 008E', 'Kingston upon Thames 011B', 'Kingston upon Thames 011C', 'Kingston upon Thames 011D', 'Kingston upon Thames 009D', 'Kingston upon Thames 009E', 'Kingston upon Thames 010D', 'Kingston upon Thames 013C', 'Kingston upon Thames 016A', 'Kingston upon Thames 016B', 'Kingston upon Thames 016C', 'Kingston upon Thames 016D', 'Kingston upon Thames 013E', 'Kingston upon Thames 017C', 'Kingston upon Thames 016E', 'Kingston upon Thames 017E', 'Kingston upon Thames 018D', 'Kingston upon Thames 018E', 'Kingston upon Thames 001A', 'Kingston upon Thames 001B', 'Kingston upon Thames 001D', 'Kingston upon Thames 001E', 'Kingston upon Thames 004E', 'Lambeth 036A', 'Lambeth 036B', 'Lambeth 002A', 'Lambeth 036C', 'Lambeth 036D', 'Lambeth 020A', 'Lambeth 015A', 'Lambeth 016A', 'Lambeth 021B', 'Lambeth 021C', 'Lambeth 021D', 'Lambeth 021E', 'Lambeth 019A', 'Lambeth 019C', 'Lambeth 017A', 'Lambeth 019D', 'Lambeth 023A', 'Lambeth 017B', 'Lambeth 012A', 'Lambeth 012B', 'Lambeth 012C', 'Lambeth 013A', 'Lambeth 013C', 'Lambeth 013D', 'Lambeth 017C', 'Lambeth 013E', 'Lambeth 018A', 'Lambeth 018B', 'Lambeth 011A', 'Lambeth 009A', 'Lambeth 011B', 'Lambeth 009B', 'Lambeth 016B', 'Lambeth 018C', 'Lambeth 015B', 'Lambeth 015C', 'Lambeth 016D', 'Lambeth 017D', 'Lambeth 015E', 'Lambeth 011D', 'Lambeth 011E', 'Lambeth 011F', 'Lambeth 033A', 'Lambeth 033B', 'Lambeth 028A', 'Lambeth 028B', 'Lambeth 033C', 'Lambeth 031B', 'Lambeth 033D', 'Lambeth 033E', 'Lambeth 018D', 'Lambeth 014A', 'Lambeth 014B', 'Lambeth 018E', 'Lambeth 009C', 'Lambeth 014C', 'Lambeth 014D', 'Lambeth 014E', 'Lambeth 027A', 'Lambeth 027B', 'Lambeth 028C', 'Lambeth 031C', 'Lambeth 030A', 'Lambeth 030C', 'Lambeth 031D', 'Lambeth 031E', 'Lambeth 010A', 'Lambeth 008A', 'Lambeth 012D', 'Lambeth 008B', 'Lambeth 008C', 'Lambeth 010B', 'Lambeth 010D', 'Lambeth 006A', 'Lambeth 005B', 'Lambeth 005C', 'Lambeth 003A', 'Lambeth 004A', 'Lambeth 004C', 'Lambeth 003D', 'Lambeth 002B', 'Lambeth 003E', 'Lambeth 002C', 'Lambeth 002D', 'Lambeth 002E', 'Lambeth 032A', 'Lambeth 032B', 'Lambeth 034A', 'Lambeth 029A', 'Lambeth 029B', 'Lambeth 029C', 'Lambeth 032C', 'Lambeth 032D', 'Lambeth 006B', 'Lambeth 004D', 'Lambeth 006C', 'Lambeth 006D', 'Lambeth 006E', 'Lambeth 010E', 'Lambeth 008E', 'Lambeth 004E', 'Lambeth 026B', 'Lambeth 024A', 'Lambeth 027C', 'Lambeth 027D', 'Lambeth 026C', 'Lambeth 022A', 'Lambeth 022B', 'Lambeth 026D', 'Lambeth 035A', 'Lambeth 035B', 'Lambeth 034B', 'Lambeth 035C', 'Lambeth 035D', 'Lambeth 034C', 'Lambeth 034D', 'Lambeth 035E', 'Lambeth 032E', 'Lambeth 030D', 'Lambeth 032F', 'Lambeth 026E', 'Lambeth 027E', 'Lambeth 029D', 'Lambeth 030E', 'Lambeth 029E', 'Lambeth 023C', 'Lambeth 023D', 'Lambeth 022C', 'Lambeth 022D', 'Lambeth 023E', 'Lambeth 022E', 'Lambeth 023F', 'Lambeth 025A', 'Lambeth 025B', 'Lambeth 028D', 'Lambeth 028E', 'Lambeth 025D', 'Lambeth 025E', 'Lambeth 020B', 'Lambeth 024B', 'Lambeth 020C', 'Lambeth 024C', 'Lambeth 024D', 'Lambeth 016E', 'Lambeth 020D', 'Lambeth 020E', 'Lambeth 024E', 'Lambeth 005D', 'Lambeth 007A', 'Lambeth 009D', 'Lambeth 005E', 'Lambeth 007D', 'Lambeth 009E', 'Lewisham 034A', 'Lewisham 034B', 'Lewisham 034C', 'Lewisham 034D', 'Lewisham 029A', 'Lewisham 029B', 'Lewisham 029C', 'Lewisham 029D', 'Lewisham 007A', 'Lewisham 009B', 'Lewisham 007B', 'Lewisham 009C', 'Lewisham 009D', 'Lewisham 007C', 'Lewisham 007D', 'Lewisham 005A', 'Lewisham 008B', 'Lewisham 005D', 'Lewisham 008C', 'Lewisham 008D', 'Lewisham 005E', 'Lewisham 025A', 'Lewisham 022A', 'Lewisham 025B', 'Lewisham 022C', 'Lewisham 025C', 'Lewisham 022D', 'Lewisham 025D', 'Lewisham 022E', 'Lewisham 015A', 'Lewisham 019A', 'Lewisham 019C', 'Lewisham 019D', 'Lewisham 019E', 'Lewisham 015B', 'Lewisham 015C', 'Lewisham 015D', 'Lewisham 038A', 'Lewisham 037A', 'Lewisham 037B', 'Lewisham 037C', 'Lewisham 037D', 'Lewisham 038B', 'Lewisham 038C', 'Lewisham 038D', 'Lewisham 001B', 'Lewisham 002A', 'Lewisham 001C', 'Lewisham 001D', 'Lewisham 001E', 'Lewisham 002C', 'Lewisham 002E', 'Lewisham 021A', 'Lewisham 021B', 'Lewisham 028A', 'Lewisham 028B', 'Lewisham 028C', 'Lewisham 028D', 'Lewisham 021C', 'Lewisham 021D', 'Lewisham 021E', 'Lewisham 023A', 'Lewisham 031A', 'Lewisham 031B', 'Lewisham 031C', 'Lewisham 031D', 'Lewisham 023B', 'Lewisham 023C', 'Lewisham 023D', 'Lewisham 023E', 'Lewisham 014A', 'Lewisham 011A', 'Lewisham 014B', 'Lewisham 014C', 'Lewisham 014D', 'Lewisham 011B', 'Lewisham 011C', 'Lewisham 011D', 'Lewisham 016A', 'Lewisham 016B', 'Lewisham 013A', 'Lewisham 013B', 'Lewisham 013C', 'Lewisham 016C', 'Lewisham 013D', 'Lewisham 012A', 'Lewisham 012C', 'Lewisham 012D', 'Lewisham 017A', 'Lewisham 017B', 'Lewisham 017D', 'Lewisham 012E', 'Lewisham 003A', 'Lewisham 039A', 'Lewisham 003B', 'Lewisham 039B', 'Lewisham 003D', 'Lewisham 039C', 'Lewisham 039D', 'Lewisham 003E', 'Lewisham 024B', 'Lewisham 027A', 'Lewisham 027B', 'Lewisham 027C', 'Lewisham 027D', 'Lewisham 027E', 'Lewisham 024D', 'Lewisham 024E', 'Lewisham 020A', 'Lewisham 020B', 'Lewisham 018A', 'Lewisham 018B', 'Lewisham 020C', 'Lewisham 020D', 'Lewisham 018C', 'Lewisham 035A', 'Lewisham 035B', 'Lewisham 035C', 'Lewisham 033A', 'Lewisham 033B', 'Lewisham 033C', 'Lewisham 033D', 'Lewisham 035D', 'Lewisham 033E', 'Lewisham 035E', 'Lewisham 010A', 'Lewisham 010B', 'Lewisham 006A', 'Lewisham 006B', 'Lewisham 006C', 'Lewisham 010C', 'Lewisham 006E', 'Lewisham 026A', 'Lewisham 030A', 'Lewisham 030B', 'Lewisham 026B', 'Lewisham 030C', 'Lewisham 026C', 'Lewisham 030D', 'Lewisham 030E', 'Lewisham 026D', 'Merton 009B', 'Merton 012A', 'Merton 009C', 'Merton 006A', 'Merton 006B', 'Merton 015A', 'Merton 021A', 'Merton 021B', 'Merton 021C', 'Merton 021D', 'Merton 016A', 'Merton 005A', 'Merton 008A', 'Merton 005B', 'Merton 005C', 'Merton 008B', 'Merton 018A', 'Merton 022A', 'Merton 022B', 'Merton 012B', 'Merton 012C', 'Merton 018B', 'Merton 018C', 'Merton 011A', 'Merton 016B', 'Merton 011B', 'Merton 009D', 'Merton 009E', 'Merton 011C', 'Merton 013A', 'Merton 014A', 'Merton 013B', 'Merton 013C', 'Merton 018D', 'Merton 014B', 'Merton 013D', 'Merton 008C', 'Merton 007A', 'Merton 007B', 'Merton 007C', 'Merton 007D', 'Merton 007E', 'Merton 011D', 'Merton 003A', 'Merton 004A', 'Merton 004B', 'Merton 004C', 'Merton 004D', 'Merton 018E', 'Merton 008D', 'Merton 008E', 'Merton 012D', 'Merton 013E', 'Merton 012E', 'Merton 014C', 'Merton 014D', 'Merton 017A', 'Merton 017B', 'Merton 017C', 'Merton 017D', 'Merton 025A', 'Merton 025C', 'Merton 025D', 'Merton 021E', 'Merton 025E', 'Merton 011E', 'Merton 015B', 'Merton 015C', 'Merton 015D', 'Merton 023A', 'Merton 015E', 'Merton 019B', 'Merton 019C', 'Merton 019D', 'Merton 019E', 'Merton 017E', 'Merton 014E', 'Merton 023B', 'Merton 022C', 'Merton 024A', 'Merton 023C', 'Merton 022D', 'Merton 022E', 'Merton 010A', 'Merton 010C', 'Merton 010D', 'Merton 016C', 'Merton 016D', 'Merton 023D', 'Merton 024B', 'Merton 024C', 'Merton 024D', 'Merton 024E', 'Merton 023E', 'Merton 003B', 'Merton 005E', 'Merton 003C', 'Merton 006D', 'Merton 006E', 'Merton 002A', 'Merton 004E', 'Merton 002B', 'Merton 010E', 'Merton 002C', 'Merton 002D', 'Merton 020B', 'Merton 020C', 'Merton 020D', 'Merton 020E', 'Merton 016E', 'Merton 001C', 'Merton 001D', 'Merton 003D', 'Merton 003E', 'Merton 001E', 'Newham 035A', 'Newham 033A', 'Newham 035B', 'Newham 033B', 'Newham 032A', 'Newham 035C', 'Newham 019A', 'Newham 019B', 'Newham 019C', 'Newham 022A', 'Newham 025A', 'Newham 025B', 'Newham 025C', 'Newham 025D', 'Newham 027A', 'Newham 034A', 'Newham 027B', 'Newham 030A', 'Newham 027C', 'Newham 030B', 'Newham 030C', 'Newham 030D', 'Newham 034D', 'Newham 031A', 'Newham 031B', 'Newham 031C', 'Newham 036A', 'Newham 035D', 'Newham 036D', 'Newham 032C', 'Newham 036E', 'Newham 032D', 'Newham 018A', 'Newham 018B', 'Newham 024A', 'Newham 019D', 'Newham 018D', 'Newham 018E', 'Newham 024B', 'Newham 005A', 'Newham 010A', 'Newham 010B', 'Newham 010C', 'Newham 010D', 'Newham 011A', 'Newham 010E', 'Newham 023A', 'Newham 023B', 'Newham 024C', 'Newham 029B', 'Newham 029C', 'Newham 029D', 'Newham 024D', 'Newham 001A', 'Newham 001B', 'Newham 006A', 'Newham 007A', 'Newham 006B', 'Newham 006C', 'Newham 001D', 'Newham 016A', 'Newham 009C', 'Newham 007B', 'Newham 008A', 'Newham 006D', 'Newham 008B', 'Newham 009D', 'Newham 011B', 'Newham 007C', 'Newham 011C', 'Newham 014B', 'Newham 014C', 'Newham 014D', 'Newham 007D', 'Newham 017A', 'Newham 017B', 'Newham 008C', 'Newham 008D', 'Newham 008E', 'Newham 017C', 'Newham 017D', 'Newham 005B', 'Newham 002A', 'Newham 005C', 'Newham 003A', 'Newham 004A', 'Newham 005D', 'Newham 003B', 'Newham 004B', 'Newham 003C', 'Newham 004C', 'Newham 011D', 'Newham 011E', 'Newham 003D', 'Newham 004D', 'Newham 022B', 'Newham 027D', 'Newham 026A', 'Newham 026B', 'Newham 016B', 'Newham 016C', 'Newham 022C', 'Newham 021B', 'Newham 028A', 'Newham 026C', 'Newham 028B', 'Newham 031D', 'Newham 028C', 'Newham 022D', 'Newham 026D', 'Newham 037A', 'Newham 013C', 'Newham 012A', 'Newham 012B', 'Newham 012C', 'Newham 012D', 'Newham 023C', 'Newham 023D', 'Newham 023E', 'Newham 024E', 'Newham 015A', 'Newham 015B', 'Newham 015D', 'Newham 015E', 'Newham 021C', 'Newham 020A', 'Newham 020B', 'Newham 020D', 'Newham 016D', 'Newham 020E', 'Newham 021D', 'Redbridge 017A', 'Redbridge 013A', 'Redbridge 013B', 'Redbridge 013C', 'Redbridge 017B', 'Redbridge 017C', 'Redbridge 017D', 'Redbridge 012A', 'Redbridge 015A', 'Redbridge 012B', 'Redbridge 012C', 'Redbridge 015B', 'Redbridge 012D', 'Redbridge 004A', 'Redbridge 004B', 'Redbridge 005B', 'Redbridge 005C', 'Redbridge 004D', 'Redbridge 019A', 'Redbridge 019B', 'Redbridge 019C', 'Redbridge 019D', 'Redbridge 019E', 'Redbridge 019F', 'Redbridge 007A', 'Redbridge 007B', 'Redbridge 007C', 'Redbridge 007D', 'Redbridge 007F', 'Redbridge 007G', 'Redbridge 036A', 'Redbridge 036B', 'Redbridge 036C', 'Redbridge 036D', 'Redbridge 036E', 'Redbridge 036F', 'Redbridge 036G', 'Redbridge 030A', 'Redbridge 030B', 'Redbridge 030C', 'Redbridge 030D', 'Redbridge 030G', 'Redbridge 035A', 'Redbridge 035B', 'Redbridge 035D', 'Redbridge 035F', 'Redbridge 035G', 'Redbridge 035H', 'Redbridge 006B', 'Redbridge 006C', 'Redbridge 006D', 'Redbridge 006E', 'Redbridge 006F', 'Redbridge 010A', 'Redbridge 010B', 'Redbridge 008A', 'Redbridge 008B', 'Redbridge 008C', 'Redbridge 008D', 'Redbridge 010C', 'Redbridge 010D', 'Redbridge 034B', 'Redbridge 034C', 'Redbridge 034D', 'Redbridge 034E', 'Redbridge 034F', 'Redbridge 002A', 'Redbridge 003A', 'Redbridge 003C', 'Redbridge 002D', 'Redbridge 032A', 'Redbridge 032B', 'Redbridge 032C', 'Redbridge 033A', 'Redbridge 032D', 'Redbridge 033B', 'Redbridge 033C', 'Redbridge 033D', 'Redbridge 031A', 'Redbridge 031B', 'Redbridge 031C', 'Redbridge 031D', 'Redbridge 031E', 'Redbridge 031F', 'Redbridge 031G', 'Redbridge 001A', 'Redbridge 001C', 'Redbridge 001D', 'Redbridge 001E', 'Redbridge 001F', 'Redbridge 001G', 'Redbridge 020A', 'Redbridge 023A', 'Redbridge 020B', 'Redbridge 020C', 'Redbridge 023B', 'Redbridge 023C', 'Redbridge 020D', 'Redbridge 023D', 'Redbridge 009A', 'Redbridge 009B', 'Redbridge 009C', 'Redbridge 009D', 'Redbridge 009E', 'Redbridge 009F', 'Redbridge 009G', 'Redbridge 024C', 'Redbridge 022A', 'Redbridge 022B', 'Redbridge 022C', 'Redbridge 024D', 'Redbridge 022D', 'Redbridge 014A', 'Redbridge 014B', 'Redbridge 014C', 'Redbridge 014D', 'Redbridge 014E', 'Redbridge 014F', 'Redbridge 014G', 'Redbridge 026A', 'Redbridge 026B', 'Redbridge 029A', 'Redbridge 029B', 'Redbridge 029C', 'Redbridge 026C', 'Redbridge 026D', 'Redbridge 029D', 'Redbridge 018A', 'Redbridge 027A', 'Redbridge 027B', 'Redbridge 027C', 'Redbridge 018B', 'Redbridge 018C', 'Redbridge 018D', 'Richmond upon Thames 001B', 'Richmond upon Thames 001C', 'Richmond upon Thames 005A', 'Richmond upon Thames 012A', 'Richmond upon Thames 012B', 'Richmond upon Thames 005B', 'Richmond upon Thames 005C', 'Richmond upon Thames 005D', 'Richmond upon Thames 019A', 'Richmond upon Thames 018A', 'Richmond upon Thames 018B', 'Richmond upon Thames 019B', 'Richmond upon Thames 019C', 'Richmond upon Thames 019D', 'Richmond upon Thames 012C', 'Richmond upon Thames 012D', 'Richmond upon Thames 017C', 'Richmond upon Thames 008A', 'Richmond upon Thames 023A', 'Richmond upon Thames 023B', 'Richmond upon Thames 023C', 'Richmond upon Thames 023D', 'Richmond upon Thames 020A', 'Richmond upon Thames 020B', 'Richmond upon Thames 020C', 'Richmond upon Thames 020D', 'Richmond upon Thames 020E', 'Richmond upon Thames 022A', 'Richmond upon Thames 022B', 'Richmond upon Thames 022C', 'Richmond upon Thames 022D', 'Richmond upon Thames 022E', 'Richmond upon Thames 022F', 'Richmond upon Thames 013A', 'Richmond upon Thames 013B', 'Richmond upon Thames 013C', 'Richmond upon Thames 013D', 'Richmond upon Thames 013E', 'Richmond upon Thames 013F', 'Richmond upon Thames 002B', 'Richmond upon Thames 004A', 'Richmond upon Thames 002C', 'Richmond upon Thames 003A', 'Richmond upon Thames 003B', 'Richmond upon Thames 003C', 'Richmond upon Thames 003D', 'Richmond upon Thames 003E', 'Richmond upon Thames 003F', 'Richmond upon Thames 003G', 'Richmond upon Thames 005E', 'Richmond upon Thames 002E', 'Richmond upon Thames 004C', 'Richmond upon Thames 004D', 'Richmond upon Thames 004E', 'Richmond upon Thames 002F', 'Richmond upon Thames 004F', 'Richmond upon Thames 007A', 'Richmond upon Thames 011A', 'Richmond upon Thames 007B', 'Richmond upon Thames 011B', 'Richmond upon Thames 011C', 'Richmond upon Thames 007C', 'Richmond upon Thames 007D', 'Richmond upon Thames 006A', 'Richmond upon Thames 006B', 'Richmond upon Thames 006C', 'Richmond upon Thames 008B', 'Richmond upon Thames 008C', 'Richmond upon Thames 006D', 'Richmond upon Thames 008D', 'Richmond upon Thames 016A', 'Richmond upon Thames 016B', 'Richmond upon Thames 014A', 'Richmond upon Thames 014B', 'Richmond upon Thames 016D', 'Richmond upon Thames 021A', 'Richmond upon Thames 021B', 'Richmond upon Thames 021C', 'Richmond upon Thames 021D', 'Richmond upon Thames 018C', 'Richmond upon Thames 018D', 'Richmond upon Thames 009B', 'Richmond upon Thames 009C', 'Richmond upon Thames 009D', 'Richmond upon Thames 014C', 'Richmond upon Thames 014D', 'Richmond upon Thames 015A', 'Richmond upon Thames 015B', 'Richmond upon Thames 015C', 'Richmond upon Thames 015D', 'Richmond upon Thames 015F', 'Richmond upon Thames 015G', 'Richmond upon Thames 010A', 'Richmond upon Thames 010B', 'Richmond upon Thames 010C', 'Richmond upon Thames 010D', 'Richmond upon Thames 010E', 'Richmond upon Thames 011D', 'Southwark 019A', 'Southwark 024A', 'Southwark 024B', 'Southwark 024C', 'Southwark 020B', 'Southwark 020C', 'Southwark 020D', 'Southwark 021A', 'Southwark 021B', 'Southwark 021C', 'Southwark 021D', 'Southwark 017A', 'Southwark 021E', 'Southwark 020E', 'Southwark 021F', 'Southwark 002A', 'Southwark 002B', 'Southwark 034B', 'Southwark 034C', 'Southwark 002C', 'Southwark 009B', 'Southwark 006A', 'Southwark 002E', 'Southwark 006B', 'Southwark 006C', 'Southwark 006D', 'Southwark 033A', 'Southwark 033B', 'Southwark 033D', 'Southwark 032A', 'Southwark 032B', 'Southwark 033E', 'Southwark 030A', 'Southwark 028A', 'Southwark 028B', 'Southwark 030C', 'Southwark 032C', 'Southwark 032D', 'Southwark 012A', 'Southwark 012B', 'Southwark 016A', 'Southwark 015A', 'Southwark 015B', 'Southwark 017B', 'Southwark 016C', 'Southwark 015D', 'Southwark 016D', 'Southwark 016E', 'Southwark 004A', 'Southwark 003A', 'Southwark 010A', 'Southwark 004B', 'Southwark 006E', 'Southwark 013A', 'Southwark 006F', 'Southwark 018A', 'Southwark 023A', 'Southwark 011A', 'Southwark 011B', 'Southwark 018B', 'Southwark 018C', 'Southwark 018D', 'Southwark 017C', 'Southwark 014A', 'Southwark 017D', 'Southwark 012E', 'Southwark 014B', 'Southwark 017E', 'Southwark 014D', 'Southwark 026A', 'Southwark 026B', 'Southwark 029A', 'Southwark 023B', 'Southwark 023C', 'Southwark 023D', 'Southwark 023E', 'Southwark 018E', 'Southwark 022B', 'Southwark 022D', 'Southwark 019B', 'Southwark 019C', 'Southwark 019D', 'Southwark 019E', 'Southwark 028C', 'Southwark 029B', 'Southwark 029C', 'Southwark 032E', 'Southwark 026C', 'Southwark 029D', 'Southwark 028D', 'Southwark 004C', 'Southwark 004D', 'Southwark 011C', 'Southwark 003E', 'Southwark 004E', 'Southwark 001A', 'Southwark 007B', 'Southwark 001B', 'Southwark 007D', 'Southwark 011D', 'Southwark 007E', 'Southwark 010B', 'Southwark 010C', 'Southwark 013B', 'Southwark 013C', 'Southwark 013D', 'Southwark 010D', 'Southwark 010E', 'Southwark 013E', 'Southwark 028E', 'Southwark 027B', 'Southwark 027C', 'Southwark 024D', 'Southwark 027E', 'Southwark 024E', 'Southwark 001C', 'Southwark 008B', 'Southwark 008C', 'Southwark 008D', 'Southwark 008E', 'Southwark 025A', 'Southwark 025C', 'Southwark 026D', 'Southwark 025D', 'Southwark 025E', 'Southwark 022E', 'Southwark 026E', 'Southwark 031A', 'Southwark 031B', 'Southwark 030D', 'Southwark 030E', 'Southwark 031C', 'Southwark 031D', 'Southwark 031E', 'Sutton 011A', 'Sutton 011C', 'Sutton 011D', 'Sutton 011E', 'Sutton 011F', 'Sutton 011G', 'Sutton 024A', 'Sutton 024B', 'Sutton 019B', 'Sutton 017A', 'Sutton 019C', 'Sutton 022A', 'Sutton 022B', 'Sutton 025A', 'Sutton 025B', 'Sutton 025C', 'Sutton 021B', 'Sutton 015A', 'Sutton 015B', 'Sutton 015C', 'Sutton 015D', 'Sutton 013A', 'Sutton 015E', 'Sutton 013B', 'Sutton 020A', 'Sutton 022C', 'Sutton 022D', 'Sutton 020B', 'Sutton 024C', 'Sutton 024D', 'Sutton 016A', 'Sutton 016B', 'Sutton 009A', 'Sutton 008A', 'Sutton 009B', 'Sutton 009C', 'Sutton 016D', 'Sutton 006B', 'Sutton 008B', 'Sutton 002A', 'Sutton 002B', 'Sutton 001A', 'Sutton 005A', 'Sutton 002D', 'Sutton 002E', 'Sutton 003A', 'Sutton 003B', 'Sutton 009D', 'Sutton 009E', 'Sutton 003C', 'Sutton 003D', 'Sutton 012A', 'Sutton 013C', 'Sutton 013D', 'Sutton 012B', 'Sutton 012C', 'Sutton 012D', 'Sutton 014A', 'Sutton 007A', 'Sutton 007B', 'Sutton 007C', 'Sutton 007D', 'Sutton 014B', 'Sutton 012E', 'Sutton 021C', 'Sutton 018A', 'Sutton 021E', 'Sutton 022E', 'Sutton 018B', 'Sutton 018C', 'Sutton 016E', 'Sutton 018D', 'Sutton 014C', 'Sutton 014D', 'Sutton 014E', 'Sutton 018E', 'Sutton 005B', 'Sutton 004A', 'Sutton 005C', 'Sutton 004B', 'Sutton 005D', 'Sutton 013E', 'Sutton 004C', 'Sutton 017B', 'Sutton 010A', 'Sutton 010C', 'Sutton 017C', 'Sutton 010D', 'Sutton 010E', 'Sutton 017E', 'Sutton 020D', 'Sutton 020E', 'Sutton 019E', 'Sutton 001B', 'Sutton 001C', 'Sutton 001D', 'Sutton 004D', 'Sutton 005E', 'Sutton 004E', 'Sutton 001E', 'Sutton 008C', 'Sutton 008D', 'Sutton 006C', 'Sutton 006D', 'Sutton 008E', 'Sutton 006E', 'Sutton 008F', 'Tower Hamlets 002A', 'Tower Hamlets 002B', 'Tower Hamlets 002D', 'Tower Hamlets 005B', 'Tower Hamlets 005C', 'Tower Hamlets 005D', 'Tower Hamlets 013A', 'Tower Hamlets 011A', 'Tower Hamlets 013C', 'Tower Hamlets 013D', 'Tower Hamlets 011D', 'Tower Hamlets 028A', 'Tower Hamlets 030C', 'Tower Hamlets 028B', 'Tower Hamlets 001A', 'Tower Hamlets 001B', 'Tower Hamlets 001C', 'Tower Hamlets 004A', 'Tower Hamlets 001D', 'Tower Hamlets 003A', 'Tower Hamlets 004C', 'Tower Hamlets 003B', 'Tower Hamlets 004D', 'Tower Hamlets 003C', 'Tower Hamlets 003D', 'Tower Hamlets 003E', 'Tower Hamlets 008A', 'Tower Hamlets 008C', 'Tower Hamlets 008D', 'Tower Hamlets 008E', 'Tower Hamlets 012A', 'Tower Hamlets 012B', 'Tower Hamlets 012C', 'Tower Hamlets 020A', 'Tower Hamlets 020B', 'Tower Hamlets 018A', 'Tower Hamlets 020C', 'Tower Hamlets 018C', 'Tower Hamlets 020D', 'Tower Hamlets 023A', 'Tower Hamlets 024A', 'Tower Hamlets 024B', 'Tower Hamlets 023B', 'Tower Hamlets 023C', 'Tower Hamlets 024C', 'Tower Hamlets 024D', 'Tower Hamlets 023D', 'Tower Hamlets 007A', 'Tower Hamlets 010A', 'Tower Hamlets 010B', 'Tower Hamlets 007C', 'Tower Hamlets 010C', 'Tower Hamlets 007D', 'Tower Hamlets 012D', 'Tower Hamlets 014B', 'Tower Hamlets 014C', 'Tower Hamlets 014D', 'Tower Hamlets 014E', 'Tower Hamlets 031B', 'Tower Hamlets 031C', 'Tower Hamlets 033A', 'Tower Hamlets 031D', 'Tower Hamlets 016A', 'Tower Hamlets 019A', 'Tower Hamlets 019B', 'Tower Hamlets 019C', 'Tower Hamlets 016B', 'Tower Hamlets 019D', 'Tower Hamlets 016C', 'Tower Hamlets 016D', 'Tower Hamlets 027B', 'Tower Hamlets 026B', 'Tower Hamlets 026C', 'Tower Hamlets 026D', 'Tower Hamlets 027C', 'Tower Hamlets 022A', 'Tower Hamlets 025B', 'Tower Hamlets 025D', 'Tower Hamlets 022C', 'Tower Hamlets 022D', 'Tower Hamlets 015B', 'Tower Hamlets 015C', 'Tower Hamlets 015D', 'Tower Hamlets 015E', 'Tower Hamlets 006A', 'Tower Hamlets 009B', 'Tower Hamlets 006B', 'Tower Hamlets 006C', 'Tower Hamlets 009C', 'Tower Hamlets 009D', 'Tower Hamlets 006D', 'Tower Hamlets 021A', 'Tower Hamlets 021C', 'Tower Hamlets 017A', 'Tower Hamlets 017B', 'Tower Hamlets 017C', 'Tower Hamlets 021D', 'Tower Hamlets 017D', 'Waltham Forest 028A', 'Waltham Forest 028B', 'Waltham Forest 028C', 'Waltham Forest 028E', 'Waltham Forest 028F', 'Waltham Forest 024A', 'Waltham Forest 024B', 'Waltham Forest 027A', 'Waltham Forest 026A', 'Waltham Forest 027B', 'Waltham Forest 027D', 'Waltham Forest 027E', 'Waltham Forest 027F', 'Waltham Forest 011A', 'Waltham Forest 008A', 'Waltham Forest 008B', 'Waltham Forest 011B', 'Waltham Forest 011C', 'Waltham Forest 010B', 'Waltham Forest 001A', 'Waltham Forest 001B', 'Waltham Forest 001C', 'Waltham Forest 002B', 'Waltham Forest 002C', 'Waltham Forest 004A', 'Waltham Forest 001D', 'Waltham Forest 001E', 'Waltham Forest 002D', 'Waltham Forest 002E', 'Waltham Forest 004B', 'Waltham Forest 005A', 'Waltham Forest 021A', 'Waltham Forest 019A', 'Waltham Forest 019B', 'Waltham Forest 020A', 'Waltham Forest 019D', 'Waltham Forest 019E', 'Waltham Forest 023A', 'Waltham Forest 023B', 'Waltham Forest 025A', 'Waltham Forest 025B', 'Waltham Forest 025C', 'Waltham Forest 025D', 'Waltham Forest 025E', 'Waltham Forest 010C', 'Waltham Forest 010D', 'Waltham Forest 007A', 'Waltham Forest 007B', 'Waltham Forest 007C', 'Waltham Forest 008C', 'Waltham Forest 003A', 'Waltham Forest 003B', 'Waltham Forest 003C', 'Waltham Forest 007E', 'Waltham Forest 007F', 'Waltham Forest 003D', 'Waltham Forest 003E', 'Waltham Forest 014A', 'Waltham Forest 017A', 'Waltham Forest 014B', 'Waltham Forest 017B', 'Waltham Forest 018A', 'Waltham Forest 012A', 'Waltham Forest 017C', 'Waltham Forest 009A', 'Waltham Forest 009B', 'Waltham Forest 014C', 'Waltham Forest 009D', 'Waltham Forest 009E', 'Waltham Forest 014D', 'Waltham Forest 020B', 'Waltham Forest 016A', 'Waltham Forest 013A', 'Waltham Forest 016B', 'Waltham Forest 016C', 'Waltham Forest 013B', 'Waltham Forest 016D', 'Waltham Forest 015A', 'Waltham Forest 004C', 'Waltham Forest 005B', 'Waltham Forest 004D', 'Waltham Forest 004E', 'Waltham Forest 005C', 'Waltham Forest 008D', 'Waltham Forest 008E', 'Waltham Forest 020C', 'Waltham Forest 018B', 'Waltham Forest 022A', 'Waltham Forest 022B', 'Waltham Forest 022C', 'Waltham Forest 022D', 'Waltham Forest 022E', 'Waltham Forest 026C', 'Waltham Forest 026D', 'Waltham Forest 023D', 'Waltham Forest 026E', 'Waltham Forest 023E', 'Waltham Forest 021B', 'Waltham Forest 021C', 'Waltham Forest 024C', 'Waltham Forest 021D', 'Waltham Forest 024D', 'Waltham Forest 024E', 'Waltham Forest 021E', 'Waltham Forest 016E', 'Waltham Forest 017D', 'Waltham Forest 017E', 'Waltham Forest 016F', 'Waltham Forest 018D', 'Waltham Forest 006A', 'Waltham Forest 005D', 'Waltham Forest 005E', 'Waltham Forest 006B', 'Waltham Forest 006C', 'Waltham Forest 006D', 'Waltham Forest 006E', 'Waltham Forest 012C', 'Waltham Forest 012D', 'Waltham Forest 011D', 'Waltham Forest 014E', 'Waltham Forest 011E', 'Waltham Forest 012E', 'Waltham Forest 013C', 'Waltham Forest 015C', 'Waltham Forest 015D', 'Waltham Forest 015E', 'Waltham Forest 013D', 'Waltham Forest 013E', 'Wandsworth 021A', 'Wandsworth 026A', 'Wandsworth 021B', 'Wandsworth 021C', 'Wandsworth 017A', 'Wandsworth 017B', 'Wandsworth 017C', 'Wandsworth 026C', 'Wandsworth 029A', 'Wandsworth 030A', 'Wandsworth 026D', 'Wandsworth 026E', 'Wandsworth 030B', 'Wandsworth 029B', 'Wandsworth 031B', 'Wandsworth 031C', 'Wandsworth 019A', 'Wandsworth 018A', 'Wandsworth 024A', 'Wandsworth 024B', 'Wandsworth 024C', 'Wandsworth 031D', 'Wandsworth 020A', 'Wandsworth 014A', 'Wandsworth 014B', 'Wandsworth 020B', 'Wandsworth 014C', 'Wandsworth 020C', 'Wandsworth 014D', 'Wandsworth 011A', 'Wandsworth 014E', 'Wandsworth 012A', 'Wandsworth 010A', 'Wandsworth 012B', 'Wandsworth 010B', 'Wandsworth 019B', 'Wandsworth 018B', 'Wandsworth 012C', 'Wandsworth 012D', 'Wandsworth 036A', 'Wandsworth 037A', 'Wandsworth 036C', 'Wandsworth 037B', 'Wandsworth 037C', 'Wandsworth 036E', 'Wandsworth 037D', 'Wandsworth 035A', 'Wandsworth 035B', 'Wandsworth 035D', 'Wandsworth 035E', 'Wandsworth 035F', 'Wandsworth 033A', 'Wandsworth 032A', 'Wandsworth 008A', 'Wandsworth 007A', 'Wandsworth 008B', 'Wandsworth 007B', 'Wandsworth 007C', 'Wandsworth 003A', 'Wandsworth 003B', 'Wandsworth 007D', 'Wandsworth 021D', 'Wandsworth 027A', 'Wandsworth 027B', 'Wandsworth 029C', 'Wandsworth 029D', 'Wandsworth 027D', 'Wandsworth 017D', 'Wandsworth 012E', 'Wandsworth 008C', 'Wandsworth 015A', 'Wandsworth 009A', 'Wandsworth 017E', 'Wandsworth 015C', 'Wandsworth 015D', 'Wandsworth 001A', 'Wandsworth 002B', 'Wandsworth 002C', 'Wandsworth 002D', 'Wandsworth 005A', 'Wandsworth 013A', 'Wandsworth 023A', 'Wandsworth 023B', 'Wandsworth 016A', 'Wandsworth 023D', 'Wandsworth 013B', 'Wandsworth 013C', 'Wandsworth 013D', 'Wandsworth 003C', 'Wandsworth 004B', 'Wandsworth 004C', 'Wandsworth 001C', 'Wandsworth 008D', 'Wandsworth 009C', 'Wandsworth 009D', 'Wandsworth 008E', 'Wandsworth 009E', 'Wandsworth 005B', 'Wandsworth 005C', 'Wandsworth 020D', 'Wandsworth 025B', 'Wandsworth 020E', 'Wandsworth 025C', 'Wandsworth 025D', 'Wandsworth 025E', 'Wandsworth 018C', 'Wandsworth 018D', 'Wandsworth 010C', 'Wandsworth 006A', 'Wandsworth 006B', 'Wandsworth 006D', 'Wandsworth 010E', 'Wandsworth 033C', 'Wandsworth 032B', 'Wandsworth 033D', 'Wandsworth 034B', 'Wandsworth 034D', 'Wandsworth 032D', 'Wandsworth 015E', 'Wandsworth 019C', 'Wandsworth 019D', 'Wandsworth 019E', 'Wandsworth 024E', 'Wandsworth 027F', 'Wandsworth 019F', 'Wandsworth 022A', 'Wandsworth 020F', 'Wandsworth 022C', 'Wandsworth 028A', 'Wandsworth 028B', 'Wandsworth 028D', 'Wandsworth 028E', 'Wandsworth 011B', 'Wandsworth 011C', 'Wandsworth 011D', 'Wandsworth 011E', 'Wandsworth 016B', 'Wandsworth 016C', 'Wandsworth 016D', 'Wandsworth 016E', 'Westminster 002A', 'Westminster 001A', 'Westminster 002B', 'Westminster 001B', 'Westminster 002C', 'Westminster 003A', 'Westminster 017A', 'Westminster 014A', 'Westminster 014B', 'Westminster 014D', 'Westminster 012A', 'Westminster 012B', 'Westminster 008A', 'Westminster 008B', 'Westminster 012C', 'Westminster 012D', 'Westminster 012E', 'Westminster 023B', 'Westminster 023C', 'Westminster 023D', 'Westminster 024B', 'Westminster 009A', 'Westminster 005B', 'Westminster 006A', 'Westminster 005C', 'Westminster 005D', 'Westminster 005E', 'Westminster 015A', 'Westminster 016A', 'Westminster 016B', 'Westminster 015B', 'Westminster 015C', 'Westminster 019A', 'Westminster 019B', 'Westminster 019C', 'Westminster 019D', 'Westminster 019E', 'Westminster 017B', 'Westminster 016C', 'Westminster 017C', 'Westminster 017D', 'Westminster 016D', 'Westminster 017E', 'Westminster 017F', 'Westminster 007A', 'Westminster 009E', 'Westminster 007B', 'Westminster 006C', 'Westminster 006D', 'Westminster 007E', 'Westminster 002D', 'Westminster 002E', 'Westminster 008C', 'Westminster 011A', 'Westminster 011B', 'Westminster 013A', 'Westminster 011C', 'Westminster 011D', 'Westminster 004A', 'Westminster 004B', 'Westminster 004C', 'Westminster 004D', 'Westminster 005F', 'Westminster 001C', 'Westminster 003B', 'Westminster 003C', 'Westminster 008D', 'Westminster 003D', 'Westminster 003E', 'Westminster 001D', 'Westminster 020A', 'Westminster 020C', 'Westminster 018A', 'Westminster 018B', 'Westminster 018C', 'Westminster 024C', 'Westminster 024D', 'Westminster 024E', 'Westminster 021A', 'Westminster 022A', 'Westminster 021B', 'Westminster 020D', 'Westminster 021C', 'Westminster 021D', 'Westminster 021E', 'Westminster 020E', 'Westminster 022B', 'Westminster 023E', 'Westminster 022C', 'Westminster 022D', 'Westminster 022E', 'Westminster 010A', 'Westminster 010B', 'Westminster 006E', 'Westminster 010C', 'Westminster 014E', 'Westminster 018D', 'Westminster 011E', 'Westminster 013B', 'Westminster 013D', 'Westminster 010F', 'Westminster 010G', 'Bromley 040D', 'Bromley 040E', 'Lewisham 037E', 'Lewisham 038E', 'Bexley 029D', 'Greenwich 033D', 'Bromley 041E', 'Croydon 045E', 'Bromley 042D', 'Ealing 040D', 'Hounslow 029E', 'Enfield 037E', 'Haringey 037D', 'Harrow 032E', 'Hillingdon 033E', 'Lewisham 039E', 'Barking and Dagenham 023F', 'Redbridge 034G', 'Lambeth 036E', 'Southwark 034D', 'Southwark 034E', 'Sutton 025E', 'Southwark 014F', 'Southwark 003I', 'Southwark 014G', 'Southwark 009F', 'Southwark 012F', 'City of London 001F', 'City of London 001G', 'Havering 013F', 'Ealing 010F', 'Ealing 010G', 'Tower Hamlets 004E', 'Tower Hamlets 004F', 'Tower Hamlets 021F', 'Tower Hamlets 025E', 'Tower Hamlets 025F', 'Tower Hamlets 033B', 'Tower Hamlets 028G', 'Tower Hamlets 028I', 'Tower Hamlets 004G', 'Tower Hamlets 010E', 'Tower Hamlets 010F', 'Tower Hamlets 011F', 'Southwark 003J', 'Southwark 022F', 'Hounslow 025F', 'Hounslow 025G', 'Hounslow 003F', 'Hounslow 003G', 'Hounslow 018F', 'Hounslow 018G', 'Haringey 020E', 'Wandsworth 010F', 'Wandsworth 004E', 'Wandsworth 004F', 'Wandsworth 004G', 'Wandsworth 010G', 'Enfield 003F', 'Enfield 025G', 'Waltham Forest 020G', 'Lambeth 004F', 'Lambeth 004G', 'Lewisham 017E', 'Lewisham 008E', 'Lewisham 008F', 'Lewisham 012F', 'Lewisham 012G', 'Brent 017F', 'Brent 031G', 'Brent 017G', 'Brent 003G', 'Brent 010F', 'Brent 031H', 'Islington 011E', 'Islington 011G', 'Islington 022G', 'Islington 022H', 'Islington 011H', 'Islington 011I', 'Kingston upon Thames 004F', 'Kingston upon Thames 004G', 'Richmond upon Thames 004G', 'Richmond upon Thames 004H', 'Barnet 030E', 'Newham 034F', 'Newham 034G', 'Newham 034H', 'Newham 037E', 'Newham 013E', 'Newham 013F', 'Newham 037F', 'Newham 037G', 'Newham 013G', 'Newham 034I', 'Newham 034J', 'Newham 013H', 'Barking and Dagenham 021E', 'Barking and Dagenham 021F', 'Redbridge 030H', 'Redbridge 030I', 'Redbridge 019I', 'Westminster 015F', 'Westminster 013E', 'Westminster 023F', 'Westminster 009F', 'Westminster 023G', 'Westminster 007F', 'Westminster 009G', 'Westminster 009I', 'Westminster 009J', 'Westminster 014G', 'Westminster 007G', 'Hackney 021F', 'Hackney 021G', 'Hackney 021H', 'Hackney 002F', 'Hackney 028C', 'Hackney 010F', 'Hackney 023F', 'Hackney 028D', 'Hackney 027F', 'Hackney 021I', 'Hackney 027G', 'Hackney 028E', 'Hackney 027I', 'Hackney 023G', 'Hackney 010G', 'Hillingdon 016F', 'Hillingdon 015F', 'Greenwich 034E', 'Greenwich 035B', 'Greenwich 035C', 'Greenwich 030E', 'Greenwich 035D', 'Greenwich 004E', 'Greenwich 036E', 'Greenwich 004F', 'Greenwich 004G', 'Greenwich 002F', 'Greenwich 002G', 'Greenwich 007F', 'Greenwich 007G', 'Greenwich 002I']\n"
     ]
    }
   ],
   "source": [
    "# Find LSOAs in multiple wards\n",
    "\n",
    "\n",
    "lsoas = gpd.read_file(\"data/LSOAs.geojson\")\n",
    "wards = gpd.read_file(\"data/wards.geojson\")\n",
    "\n",
    "# Calculate area\n",
    "lsoas[\"LSOA_area\"] = lsoas.geometry.area\n",
    "\n",
    "\n",
    "joined = gpd.sjoin(lsoas, wards, how='inner', predicate='intersects')\n",
    "\n",
    "overlap_counts = joined.groupby(joined.index).size()\n",
    "lsoas_with_multiple_wards = overlap_counts[overlap_counts > 1]\n",
    "overlap_lsoas_names = lsoas.loc[lsoas_with_multiple_wards.index, \"LSOA11NM\"].tolist()\n",
    "\n",
    "print(f\"{len(lsoas_with_multiple_wards)} LSOAs in more than one ward\")\n",
    "print(\"LSOA names with multiple ward intersections:\", overlap_lsoas_names)\n"
   ]
  },
  {
   "cell_type": "code",
   "execution_count": 227,
   "id": "8d6d2d08",
   "metadata": {},
   "outputs": [
    {
     "data": {
      "text/html": [
       "<div>\n",
       "<style scoped>\n",
       "    .dataframe tbody tr th:only-of-type {\n",
       "        vertical-align: middle;\n",
       "    }\n",
       "\n",
       "    .dataframe tbody tr th {\n",
       "        vertical-align: top;\n",
       "    }\n",
       "\n",
       "    .dataframe thead th {\n",
       "        text-align: right;\n",
       "    }\n",
       "</style>\n",
       "<table border=\"1\" class=\"dataframe\">\n",
       "  <thead>\n",
       "    <tr style=\"text-align: right;\">\n",
       "      <th></th>\n",
       "      <th>LSOA11CD</th>\n",
       "      <th>LSOA11NM</th>\n",
       "      <th>Ward_code</th>\n",
       "      <th>Ward</th>\n",
       "      <th>intersect_area</th>\n",
       "      <th>LSOA_area</th>\n",
       "      <th>pct_of_lsoa_area</th>\n",
       "    </tr>\n",
       "  </thead>\n",
       "  <tbody>\n",
       "    <tr>\n",
       "      <th>1</th>\n",
       "      <td>E01000002</td>\n",
       "      <td>City of London 001B</td>\n",
       "      <td>E09000001</td>\n",
       "      <td>City of London</td>\n",
       "      <td>225938.375980</td>\n",
       "      <td>226191.272990</td>\n",
       "      <td>99.888193</td>\n",
       "    </tr>\n",
       "    <tr>\n",
       "      <th>1</th>\n",
       "      <td>E01000002</td>\n",
       "      <td>City of London 001B</td>\n",
       "      <td>E05000367</td>\n",
       "      <td>Bunhill</td>\n",
       "      <td>252.897010</td>\n",
       "      <td>226191.272990</td>\n",
       "      <td>0.111807</td>\n",
       "    </tr>\n",
       "    <tr>\n",
       "      <th>2</th>\n",
       "      <td>E01000003</td>\n",
       "      <td>City of London 001C</td>\n",
       "      <td>E09000001</td>\n",
       "      <td>City of London</td>\n",
       "      <td>57187.114434</td>\n",
       "      <td>57302.966538</td>\n",
       "      <td>99.797825</td>\n",
       "    </tr>\n",
       "    <tr>\n",
       "      <th>2</th>\n",
       "      <td>E01000003</td>\n",
       "      <td>City of London 001C</td>\n",
       "      <td>E05000367</td>\n",
       "      <td>Bunhill</td>\n",
       "      <td>115.852104</td>\n",
       "      <td>57302.966538</td>\n",
       "      <td>0.202175</td>\n",
       "    </tr>\n",
       "    <tr>\n",
       "      <th>3</th>\n",
       "      <td>E01000005</td>\n",
       "      <td>City of London 001E</td>\n",
       "      <td>E05000589</td>\n",
       "      <td>Whitechapel</td>\n",
       "      <td>422.024049</td>\n",
       "      <td>190738.760504</td>\n",
       "      <td>0.221258</td>\n",
       "    </tr>\n",
       "    <tr>\n",
       "      <th>3</th>\n",
       "      <td>E01000005</td>\n",
       "      <td>City of London 001E</td>\n",
       "      <td>E05000585</td>\n",
       "      <td>St. Katharine's and Wapping</td>\n",
       "      <td>2500.537545</td>\n",
       "      <td>190738.760504</td>\n",
       "      <td>1.310975</td>\n",
       "    </tr>\n",
       "    <tr>\n",
       "      <th>3</th>\n",
       "      <td>E01000005</td>\n",
       "      <td>City of London 001E</td>\n",
       "      <td>E05000587</td>\n",
       "      <td>Spitalfields and Banglatown</td>\n",
       "      <td>1540.089984</td>\n",
       "      <td>190738.760504</td>\n",
       "      <td>0.807434</td>\n",
       "    </tr>\n",
       "    <tr>\n",
       "      <th>3</th>\n",
       "      <td>E01000005</td>\n",
       "      <td>City of London 001E</td>\n",
       "      <td>E09000001</td>\n",
       "      <td>City of London</td>\n",
       "      <td>186276.108927</td>\n",
       "      <td>190738.760504</td>\n",
       "      <td>97.660333</td>\n",
       "    </tr>\n",
       "    <tr>\n",
       "      <th>4</th>\n",
       "      <td>E01000006</td>\n",
       "      <td>Barking and Dagenham 016A</td>\n",
       "      <td>E05000031</td>\n",
       "      <td>Eastbury</td>\n",
       "      <td>88.131172</td>\n",
       "      <td>144195.846857</td>\n",
       "      <td>0.061119</td>\n",
       "    </tr>\n",
       "    <tr>\n",
       "      <th>4</th>\n",
       "      <td>E01000006</td>\n",
       "      <td>Barking and Dagenham 016A</td>\n",
       "      <td>E05000035</td>\n",
       "      <td>Longbridge</td>\n",
       "      <td>60.300119</td>\n",
       "      <td>144195.846857</td>\n",
       "      <td>0.041818</td>\n",
       "    </tr>\n",
       "  </tbody>\n",
       "</table>\n",
       "</div>"
      ],
      "text/plain": [
       "    LSOA11CD                   LSOA11NM  Ward_code  \\\n",
       "1  E01000002        City of London 001B  E09000001   \n",
       "1  E01000002        City of London 001B  E05000367   \n",
       "2  E01000003        City of London 001C  E09000001   \n",
       "2  E01000003        City of London 001C  E05000367   \n",
       "3  E01000005        City of London 001E  E05000589   \n",
       "3  E01000005        City of London 001E  E05000585   \n",
       "3  E01000005        City of London 001E  E05000587   \n",
       "3  E01000005        City of London 001E  E09000001   \n",
       "4  E01000006  Barking and Dagenham 016A  E05000031   \n",
       "4  E01000006  Barking and Dagenham 016A  E05000035   \n",
       "\n",
       "                          Ward  intersect_area      LSOA_area  \\\n",
       "1               City of London   225938.375980  226191.272990   \n",
       "1                      Bunhill      252.897010  226191.272990   \n",
       "2               City of London    57187.114434   57302.966538   \n",
       "2                      Bunhill      115.852104   57302.966538   \n",
       "3                  Whitechapel      422.024049  190738.760504   \n",
       "3  St. Katharine's and Wapping     2500.537545  190738.760504   \n",
       "3  Spitalfields and Banglatown     1540.089984  190738.760504   \n",
       "3               City of London   186276.108927  190738.760504   \n",
       "4                     Eastbury       88.131172  144195.846857   \n",
       "4                   Longbridge       60.300119  144195.846857   \n",
       "\n",
       "   pct_of_lsoa_area  \n",
       "1         99.888193  \n",
       "1          0.111807  \n",
       "2         99.797825  \n",
       "2          0.202175  \n",
       "3          0.221258  \n",
       "3          1.310975  \n",
       "3          0.807434  \n",
       "3         97.660333  \n",
       "4          0.061119  \n",
       "4          0.041818  "
      ]
     },
     "execution_count": 227,
     "metadata": {},
     "output_type": "execute_result"
    }
   ],
   "source": [
    "# Calculate area of LSOA within each ward it intersects\n",
    "\n",
    "\n",
    "lsoas_multi = lsoas.loc[lsoas_with_multiple_wards.index]\n",
    "joined_multi = joined.loc[lsoas_with_multiple_wards.index]\n",
    "\n",
    "joined_multi = joined_multi.merge(\n",
    "    wards[[\"geometry\", \"Name\", \"GSS_Code\"]], left_on=\"index_right\", right_index=True, suffixes=('', '_ward')\n",
    ")\n",
    "\n",
    "joined_multi[\"intersection_geom\"] = joined_multi.apply(\n",
    "    lambda row: row.geometry.intersection(row.geometry_ward), axis=1\n",
    ")\n",
    "\n",
    "# Calculate intersection area\n",
    "joined_multi[\"intersect_area\"] = joined_multi[\"intersection_geom\"].area\n",
    "\n",
    "# Calculate percentage\n",
    "joined_multi[\"pct_of_lsoa_area\"] = joined_multi[\"intersect_area\"] / joined_multi[\"LSOA_area\"] * 100\n",
    "\n",
    "result = joined_multi[[\n",
    "    \"LSOA11CD\", \"LSOA11NM\", \"GSS_Code\", \"Name\", \"intersect_area\", \"LSOA_area\", \"pct_of_lsoa_area\"\n",
    "]].rename(columns={\"Name\": \"Ward\", \"GSS_Code\": \"Ward_code\"})\n",
    "\n",
    "result.sort_values(by=\"LSOA11CD\").head(10)\n"
   ]
  },
  {
   "cell_type": "code",
   "execution_count": 228,
   "id": "d8edcb75",
   "metadata": {},
   "outputs": [
    {
     "data": {
      "text/html": [
       "<div>\n",
       "<style scoped>\n",
       "    .dataframe tbody tr th:only-of-type {\n",
       "        vertical-align: middle;\n",
       "    }\n",
       "\n",
       "    .dataframe tbody tr th {\n",
       "        vertical-align: top;\n",
       "    }\n",
       "\n",
       "    .dataframe thead th {\n",
       "        text-align: right;\n",
       "    }\n",
       "</style>\n",
       "<table border=\"1\" class=\"dataframe\">\n",
       "  <thead>\n",
       "    <tr style=\"text-align: right;\">\n",
       "      <th></th>\n",
       "      <th>LSOA11CD</th>\n",
       "      <th>LSOA11NM</th>\n",
       "      <th>Ward_code</th>\n",
       "      <th>Ward</th>\n",
       "      <th>intersect_area</th>\n",
       "      <th>LSOA_area</th>\n",
       "      <th>pct_of_lsoa_area</th>\n",
       "      <th>ward_count</th>\n",
       "    </tr>\n",
       "  </thead>\n",
       "  <tbody>\n",
       "    <tr>\n",
       "      <th>1</th>\n",
       "      <td>E01000002</td>\n",
       "      <td>City of London 001B</td>\n",
       "      <td>E09000001</td>\n",
       "      <td>City of London</td>\n",
       "      <td>225938.375980</td>\n",
       "      <td>226191.272990</td>\n",
       "      <td>99.888193</td>\n",
       "      <td>2</td>\n",
       "    </tr>\n",
       "    <tr>\n",
       "      <th>2</th>\n",
       "      <td>E01000003</td>\n",
       "      <td>City of London 001C</td>\n",
       "      <td>E09000001</td>\n",
       "      <td>City of London</td>\n",
       "      <td>57187.114434</td>\n",
       "      <td>57302.966538</td>\n",
       "      <td>99.797825</td>\n",
       "      <td>2</td>\n",
       "    </tr>\n",
       "    <tr>\n",
       "      <th>3</th>\n",
       "      <td>E01000005</td>\n",
       "      <td>City of London 001E</td>\n",
       "      <td>E09000001</td>\n",
       "      <td>City of London</td>\n",
       "      <td>186276.108927</td>\n",
       "      <td>190738.760504</td>\n",
       "      <td>97.660333</td>\n",
       "      <td>4</td>\n",
       "    </tr>\n",
       "    <tr>\n",
       "      <th>4</th>\n",
       "      <td>E01000006</td>\n",
       "      <td>Barking and Dagenham 016A</td>\n",
       "      <td>E05000026</td>\n",
       "      <td>Abbey</td>\n",
       "      <td>144047.415565</td>\n",
       "      <td>144195.846857</td>\n",
       "      <td>99.897063</td>\n",
       "      <td>3</td>\n",
       "    </tr>\n",
       "    <tr>\n",
       "      <th>6</th>\n",
       "      <td>E01000008</td>\n",
       "      <td>Barking and Dagenham 015B</td>\n",
       "      <td>E05000026</td>\n",
       "      <td>Abbey</td>\n",
       "      <td>192545.651669</td>\n",
       "      <td>193425.098879</td>\n",
       "      <td>99.545329</td>\n",
       "      <td>5</td>\n",
       "    </tr>\n",
       "    <tr>\n",
       "      <th>7</th>\n",
       "      <td>E01000009</td>\n",
       "      <td>Barking and Dagenham 016B</td>\n",
       "      <td>E05000026</td>\n",
       "      <td>Abbey</td>\n",
       "      <td>128453.553551</td>\n",
       "      <td>128591.526205</td>\n",
       "      <td>99.892705</td>\n",
       "      <td>3</td>\n",
       "    </tr>\n",
       "    <tr>\n",
       "      <th>8</th>\n",
       "      <td>E01000010</td>\n",
       "      <td>Barking and Dagenham 015C</td>\n",
       "      <td>E05000026</td>\n",
       "      <td>Abbey</td>\n",
       "      <td>344652.010820</td>\n",
       "      <td>348848.342174</td>\n",
       "      <td>98.797090</td>\n",
       "      <td>3</td>\n",
       "    </tr>\n",
       "    <tr>\n",
       "      <th>9</th>\n",
       "      <td>E01000011</td>\n",
       "      <td>Barking and Dagenham 016C</td>\n",
       "      <td>E05000026</td>\n",
       "      <td>Abbey</td>\n",
       "      <td>90146.467720</td>\n",
       "      <td>90297.679810</td>\n",
       "      <td>99.832540</td>\n",
       "      <td>3</td>\n",
       "    </tr>\n",
       "    <tr>\n",
       "      <th>10</th>\n",
       "      <td>E01000012</td>\n",
       "      <td>Barking and Dagenham 015D</td>\n",
       "      <td>E05000026</td>\n",
       "      <td>Abbey</td>\n",
       "      <td>137374.635727</td>\n",
       "      <td>140353.449276</td>\n",
       "      <td>97.877634</td>\n",
       "      <td>2</td>\n",
       "    </tr>\n",
       "    <tr>\n",
       "      <th>11</th>\n",
       "      <td>E01000013</td>\n",
       "      <td>Barking and Dagenham 013A</td>\n",
       "      <td>E05000027</td>\n",
       "      <td>Alibon</td>\n",
       "      <td>208620.701948</td>\n",
       "      <td>208625.860546</td>\n",
       "      <td>99.997527</td>\n",
       "      <td>3</td>\n",
       "    </tr>\n",
       "  </tbody>\n",
       "</table>\n",
       "</div>"
      ],
      "text/plain": [
       "     LSOA11CD                   LSOA11NM  Ward_code            Ward  \\\n",
       "1   E01000002        City of London 001B  E09000001  City of London   \n",
       "2   E01000003        City of London 001C  E09000001  City of London   \n",
       "3   E01000005        City of London 001E  E09000001  City of London   \n",
       "4   E01000006  Barking and Dagenham 016A  E05000026           Abbey   \n",
       "6   E01000008  Barking and Dagenham 015B  E05000026           Abbey   \n",
       "7   E01000009  Barking and Dagenham 016B  E05000026           Abbey   \n",
       "8   E01000010  Barking and Dagenham 015C  E05000026           Abbey   \n",
       "9   E01000011  Barking and Dagenham 016C  E05000026           Abbey   \n",
       "10  E01000012  Barking and Dagenham 015D  E05000026           Abbey   \n",
       "11  E01000013  Barking and Dagenham 013A  E05000027          Alibon   \n",
       "\n",
       "    intersect_area      LSOA_area  pct_of_lsoa_area  ward_count  \n",
       "1    225938.375980  226191.272990         99.888193           2  \n",
       "2     57187.114434   57302.966538         99.797825           2  \n",
       "3    186276.108927  190738.760504         97.660333           4  \n",
       "4    144047.415565  144195.846857         99.897063           3  \n",
       "6    192545.651669  193425.098879         99.545329           5  \n",
       "7    128453.553551  128591.526205         99.892705           3  \n",
       "8    344652.010820  348848.342174         98.797090           3  \n",
       "9     90146.467720   90297.679810         99.832540           3  \n",
       "10   137374.635727  140353.449276         97.877634           2  \n",
       "11   208620.701948  208625.860546         99.997527           3  "
      ]
     },
     "execution_count": 228,
     "metadata": {},
     "output_type": "execute_result"
    }
   ],
   "source": [
    "# For each LSOA, only keep row of ward it has highest percentage within\n",
    "\n",
    "\n",
    "ward_counts = result.groupby('LSOA11CD')['Ward'].nunique()\n",
    "\n",
    "# Sort\n",
    "df_sorted = result.sort_values(['LSOA11CD', 'pct_of_lsoa_area'], ascending=[True, False])\n",
    "\n",
    "df_max = df_sorted.drop_duplicates(subset='LSOA11CD', keep='first').copy()\n",
    "df_max['ward_count'] = df_max['LSOA11CD'].map(ward_counts)\n",
    "\n",
    "df_max.head(10)\n",
    "# print(len(df_max))"
   ]
  },
  {
   "cell_type": "code",
   "execution_count": 229,
   "id": "9f4a2ae6",
   "metadata": {},
   "outputs": [],
   "source": [
    "df_max_sorted = df_max.sort_values(by='pct_of_lsoa_area', ascending=False)"
   ]
  },
  {
   "cell_type": "code",
   "execution_count": 230,
   "id": "92ecb385",
   "metadata": {},
   "outputs": [
    {
     "data": {
      "text/html": [
       "<div>\n",
       "<style scoped>\n",
       "    .dataframe tbody tr th:only-of-type {\n",
       "        vertical-align: middle;\n",
       "    }\n",
       "\n",
       "    .dataframe tbody tr th {\n",
       "        vertical-align: top;\n",
       "    }\n",
       "\n",
       "    .dataframe thead th {\n",
       "        text-align: right;\n",
       "    }\n",
       "</style>\n",
       "<table border=\"1\" class=\"dataframe\">\n",
       "  <thead>\n",
       "    <tr style=\"text-align: right;\">\n",
       "      <th></th>\n",
       "      <th>LSOA11CD</th>\n",
       "      <th>LSOA11NM</th>\n",
       "      <th>Ward_code</th>\n",
       "      <th>Ward</th>\n",
       "      <th>intersect_area</th>\n",
       "      <th>LSOA_area</th>\n",
       "      <th>pct_of_lsoa_area</th>\n",
       "      <th>ward_count</th>\n",
       "    </tr>\n",
       "  </thead>\n",
       "  <tbody>\n",
       "    <tr>\n",
       "      <th>4818</th>\n",
       "      <td>E01033730</td>\n",
       "      <td>Greenwich 035D</td>\n",
       "      <td>E05000222</td>\n",
       "      <td>Greenwich West</td>\n",
       "      <td>170640.866058</td>\n",
       "      <td>170640.866058</td>\n",
       "      <td>100.000000</td>\n",
       "      <td>2</td>\n",
       "    </tr>\n",
       "    <tr>\n",
       "      <th>4178</th>\n",
       "      <td>E01004285</td>\n",
       "      <td>Tower Hamlets 019B</td>\n",
       "      <td>E05000584</td>\n",
       "      <td>St. Dunstan's and Stepney Green</td>\n",
       "      <td>123839.530318</td>\n",
       "      <td>123839.530318</td>\n",
       "      <td>100.000000</td>\n",
       "      <td>2</td>\n",
       "    </tr>\n",
       "    <tr>\n",
       "      <th>2065</th>\n",
       "      <td>E01002115</td>\n",
       "      <td>Harrow 002B</td>\n",
       "      <td>E05000286</td>\n",
       "      <td>Canons</td>\n",
       "      <td>347622.251177</td>\n",
       "      <td>347622.251262</td>\n",
       "      <td>100.000000</td>\n",
       "      <td>2</td>\n",
       "    </tr>\n",
       "    <tr>\n",
       "      <th>3800</th>\n",
       "      <td>E01003886</td>\n",
       "      <td>Richmond upon Thames 021A</td>\n",
       "      <td>E05000530</td>\n",
       "      <td>Teddington</td>\n",
       "      <td>204505.571507</td>\n",
       "      <td>204505.571604</td>\n",
       "      <td>100.000000</td>\n",
       "      <td>2</td>\n",
       "    </tr>\n",
       "    <tr>\n",
       "      <th>1266</th>\n",
       "      <td>E01001286</td>\n",
       "      <td>Ealing 016E</td>\n",
       "      <td>E05000180</td>\n",
       "      <td>Hobbayne</td>\n",
       "      <td>209548.283079</td>\n",
       "      <td>209548.283223</td>\n",
       "      <td>100.000000</td>\n",
       "      <td>2</td>\n",
       "    </tr>\n",
       "    <tr>\n",
       "      <th>4757</th>\n",
       "      <td>E01033570</td>\n",
       "      <td>Richmond upon Thames 004G</td>\n",
       "      <td>E05000524</td>\n",
       "      <td>Kew</td>\n",
       "      <td>476052.293991</td>\n",
       "      <td>476052.294421</td>\n",
       "      <td>100.000000</td>\n",
       "      <td>2</td>\n",
       "    </tr>\n",
       "    <tr>\n",
       "      <th>3455</th>\n",
       "      <td>E01003532</td>\n",
       "      <td>Newham 010D</td>\n",
       "      <td>E05000481</td>\n",
       "      <td>East Ham North</td>\n",
       "      <td>111116.237132</td>\n",
       "      <td>111116.238103</td>\n",
       "      <td>99.999999</td>\n",
       "      <td>2</td>\n",
       "    </tr>\n",
       "    <tr>\n",
       "      <th>4520</th>\n",
       "      <td>E01004634</td>\n",
       "      <td>Wandsworth 028B</td>\n",
       "      <td>E05000628</td>\n",
       "      <td>West Hill</td>\n",
       "      <td>121110.088743</td>\n",
       "      <td>121110.089953</td>\n",
       "      <td>99.999999</td>\n",
       "      <td>2</td>\n",
       "    </tr>\n",
       "    <tr>\n",
       "      <th>1223</th>\n",
       "      <td>E01001242</td>\n",
       "      <td>Ealing 024C</td>\n",
       "      <td>E05000175</td>\n",
       "      <td>East Acton</td>\n",
       "      <td>206603.068600</td>\n",
       "      <td>206603.072079</td>\n",
       "      <td>99.999998</td>\n",
       "      <td>2</td>\n",
       "    </tr>\n",
       "    <tr>\n",
       "      <th>4710</th>\n",
       "      <td>E01033000</td>\n",
       "      <td>Hounslow 025F</td>\n",
       "      <td>E05000352</td>\n",
       "      <td>Feltham West</td>\n",
       "      <td>81840.556288</td>\n",
       "      <td>81840.558027</td>\n",
       "      <td>99.999998</td>\n",
       "      <td>2</td>\n",
       "    </tr>\n",
       "  </tbody>\n",
       "</table>\n",
       "</div>"
      ],
      "text/plain": [
       "       LSOA11CD                   LSOA11NM  Ward_code  \\\n",
       "4818  E01033730             Greenwich 035D  E05000222   \n",
       "4178  E01004285         Tower Hamlets 019B  E05000584   \n",
       "2065  E01002115                Harrow 002B  E05000286   \n",
       "3800  E01003886  Richmond upon Thames 021A  E05000530   \n",
       "1266  E01001286                Ealing 016E  E05000180   \n",
       "4757  E01033570  Richmond upon Thames 004G  E05000524   \n",
       "3455  E01003532                Newham 010D  E05000481   \n",
       "4520  E01004634            Wandsworth 028B  E05000628   \n",
       "1223  E01001242                Ealing 024C  E05000175   \n",
       "4710  E01033000              Hounslow 025F  E05000352   \n",
       "\n",
       "                                 Ward  intersect_area      LSOA_area  \\\n",
       "4818                   Greenwich West   170640.866058  170640.866058   \n",
       "4178  St. Dunstan's and Stepney Green   123839.530318  123839.530318   \n",
       "2065                           Canons   347622.251177  347622.251262   \n",
       "3800                       Teddington   204505.571507  204505.571604   \n",
       "1266                         Hobbayne   209548.283079  209548.283223   \n",
       "4757                              Kew   476052.293991  476052.294421   \n",
       "3455                   East Ham North   111116.237132  111116.238103   \n",
       "4520                        West Hill   121110.088743  121110.089953   \n",
       "1223                       East Acton   206603.068600  206603.072079   \n",
       "4710                     Feltham West    81840.556288   81840.558027   \n",
       "\n",
       "      pct_of_lsoa_area  ward_count  \n",
       "4818        100.000000           2  \n",
       "4178        100.000000           2  \n",
       "2065        100.000000           2  \n",
       "3800        100.000000           2  \n",
       "1266        100.000000           2  \n",
       "4757        100.000000           2  \n",
       "3455         99.999999           2  \n",
       "4520         99.999999           2  \n",
       "1223         99.999998           2  \n",
       "4710         99.999998           2  "
      ]
     },
     "execution_count": 230,
     "metadata": {},
     "output_type": "execute_result"
    }
   ],
   "source": [
    "df_max_sorted.head(10)"
   ]
  },
  {
   "cell_type": "code",
   "execution_count": 231,
   "id": "44b674cf",
   "metadata": {},
   "outputs": [
    {
     "data": {
      "text/html": [
       "<div>\n",
       "<style scoped>\n",
       "    .dataframe tbody tr th:only-of-type {\n",
       "        vertical-align: middle;\n",
       "    }\n",
       "\n",
       "    .dataframe tbody tr th {\n",
       "        vertical-align: top;\n",
       "    }\n",
       "\n",
       "    .dataframe thead th {\n",
       "        text-align: right;\n",
       "    }\n",
       "</style>\n",
       "<table border=\"1\" class=\"dataframe\">\n",
       "  <thead>\n",
       "    <tr style=\"text-align: right;\">\n",
       "      <th></th>\n",
       "      <th>LSOA11CD</th>\n",
       "      <th>LSOA11NM</th>\n",
       "      <th>Ward_code</th>\n",
       "      <th>Ward</th>\n",
       "      <th>intersect_area</th>\n",
       "      <th>LSOA_area</th>\n",
       "      <th>pct_of_lsoa_area</th>\n",
       "      <th>ward_count</th>\n",
       "    </tr>\n",
       "  </thead>\n",
       "  <tbody>\n",
       "    <tr>\n",
       "      <th>4750</th>\n",
       "      <td>E01033490</td>\n",
       "      <td>Islington 022H</td>\n",
       "      <td>E05000367</td>\n",
       "      <td>Bunhill</td>\n",
       "      <td>119305.063922</td>\n",
       "      <td>124850.204548</td>\n",
       "      <td>95.558565</td>\n",
       "      <td>3</td>\n",
       "    </tr>\n",
       "    <tr>\n",
       "      <th>2789</th>\n",
       "      <td>E01002854</td>\n",
       "      <td>Kensington and Chelsea 001C</td>\n",
       "      <td>E05000389</td>\n",
       "      <td>Golborne</td>\n",
       "      <td>125423.598642</td>\n",
       "      <td>131341.429958</td>\n",
       "      <td>95.494315</td>\n",
       "      <td>4</td>\n",
       "    </tr>\n",
       "    <tr>\n",
       "      <th>2550</th>\n",
       "      <td>E01002608</td>\n",
       "      <td>Hounslow 028A</td>\n",
       "      <td>E05000353</td>\n",
       "      <td>Hanworth</td>\n",
       "      <td>333561.638658</td>\n",
       "      <td>350878.258750</td>\n",
       "      <td>95.064778</td>\n",
       "      <td>2</td>\n",
       "    </tr>\n",
       "    <tr>\n",
       "      <th>171</th>\n",
       "      <td>E01000176</td>\n",
       "      <td>Barnet 027A</td>\n",
       "      <td>E05000049</td>\n",
       "      <td>East Finchley</td>\n",
       "      <td>209711.764164</td>\n",
       "      <td>221918.268205</td>\n",
       "      <td>94.499550</td>\n",
       "      <td>5</td>\n",
       "    </tr>\n",
       "    <tr>\n",
       "      <th>3709</th>\n",
       "      <td>E01003794</td>\n",
       "      <td>Redbridge 018B</td>\n",
       "      <td>E05000515</td>\n",
       "      <td>Wanstead</td>\n",
       "      <td>335110.435490</td>\n",
       "      <td>356803.702898</td>\n",
       "      <td>93.920111</td>\n",
       "      <td>4</td>\n",
       "    </tr>\n",
       "    <tr>\n",
       "      <th>3451</th>\n",
       "      <td>E01003528</td>\n",
       "      <td>Newham 005A</td>\n",
       "      <td>E05000481</td>\n",
       "      <td>East Ham North</td>\n",
       "      <td>79832.841469</td>\n",
       "      <td>85361.878101</td>\n",
       "      <td>93.522827</td>\n",
       "      <td>3</td>\n",
       "    </tr>\n",
       "    <tr>\n",
       "      <th>4813</th>\n",
       "      <td>E01033725</td>\n",
       "      <td>Hillingdon 015F</td>\n",
       "      <td>E05000340</td>\n",
       "      <td>Uxbridge North</td>\n",
       "      <td>681048.940316</td>\n",
       "      <td>916730.240266</td>\n",
       "      <td>74.291096</td>\n",
       "      <td>3</td>\n",
       "    </tr>\n",
       "    <tr>\n",
       "      <th>4799</th>\n",
       "      <td>E01033701</td>\n",
       "      <td>Hackney 002F</td>\n",
       "      <td>E05000231</td>\n",
       "      <td>Brownswood</td>\n",
       "      <td>164491.311717</td>\n",
       "      <td>247751.150324</td>\n",
       "      <td>66.393763</td>\n",
       "      <td>4</td>\n",
       "    </tr>\n",
       "    <tr>\n",
       "      <th>4708</th>\n",
       "      <td>E01032805</td>\n",
       "      <td>Southwark 022F</td>\n",
       "      <td>E05000546</td>\n",
       "      <td>Peckham</td>\n",
       "      <td>112678.319870</td>\n",
       "      <td>175293.407641</td>\n",
       "      <td>64.279839</td>\n",
       "      <td>4</td>\n",
       "    </tr>\n",
       "    <tr>\n",
       "      <th>4672</th>\n",
       "      <td>E01032720</td>\n",
       "      <td>Southwark 009F</td>\n",
       "      <td>E05000540</td>\n",
       "      <td>East Walworth</td>\n",
       "      <td>95130.498219</td>\n",
       "      <td>165731.441734</td>\n",
       "      <td>57.400393</td>\n",
       "      <td>4</td>\n",
       "    </tr>\n",
       "  </tbody>\n",
       "</table>\n",
       "</div>"
      ],
      "text/plain": [
       "       LSOA11CD                     LSOA11NM  Ward_code            Ward  \\\n",
       "4750  E01033490               Islington 022H  E05000367         Bunhill   \n",
       "2789  E01002854  Kensington and Chelsea 001C  E05000389        Golborne   \n",
       "2550  E01002608                Hounslow 028A  E05000353        Hanworth   \n",
       "171   E01000176                  Barnet 027A  E05000049   East Finchley   \n",
       "3709  E01003794               Redbridge 018B  E05000515        Wanstead   \n",
       "3451  E01003528                  Newham 005A  E05000481  East Ham North   \n",
       "4813  E01033725              Hillingdon 015F  E05000340  Uxbridge North   \n",
       "4799  E01033701                 Hackney 002F  E05000231      Brownswood   \n",
       "4708  E01032805               Southwark 022F  E05000546         Peckham   \n",
       "4672  E01032720               Southwark 009F  E05000540   East Walworth   \n",
       "\n",
       "      intersect_area      LSOA_area  pct_of_lsoa_area  ward_count  \n",
       "4750   119305.063922  124850.204548         95.558565           3  \n",
       "2789   125423.598642  131341.429958         95.494315           4  \n",
       "2550   333561.638658  350878.258750         95.064778           2  \n",
       "171    209711.764164  221918.268205         94.499550           5  \n",
       "3709   335110.435490  356803.702898         93.920111           4  \n",
       "3451    79832.841469   85361.878101         93.522827           3  \n",
       "4813   681048.940316  916730.240266         74.291096           3  \n",
       "4799   164491.311717  247751.150324         66.393763           4  \n",
       "4708   112678.319870  175293.407641         64.279839           4  \n",
       "4672    95130.498219  165731.441734         57.400393           4  "
      ]
     },
     "execution_count": 231,
     "metadata": {},
     "output_type": "execute_result"
    }
   ],
   "source": [
    "df_max_sorted.tail(10)"
   ]
  },
  {
   "cell_type": "code",
   "execution_count": 232,
   "id": "b265d4b5",
   "metadata": {},
   "outputs": [
    {
     "data": {
      "application/vnd.plotly.v1+json": {
       "config": {
        "plotlyServerURL": "https://plot.ly"
       },
       "data": [
        {
         "colorscale": [
          [
           0,
           "#636efa"
          ],
          [
           1,
           "#636efa"
          ]
         ],
         "geojson": {
          "features": [
           {
            "geometry": {
             "coordinates": [
              [
               [
                -0.09362787690608583,
                51.4961161884374
               ],
               [
                -0.09324471459136122,
                51.49592807497145
               ],
               [
                -0.09304163755859536,
                51.49615453339244
               ],
               [
                -0.09266324055195715,
                51.49534361502524
               ],
               [
                -0.0905978628429639,
                51.49533035436423
               ],
               [
                -0.0903303182328689,
                51.49419462205803
               ],
               [
                -0.09183217945868538,
                51.49417024906975
               ],
               [
                -0.09289611393209153,
                51.49415297998972
               ],
               [
                -0.09365447941281285,
                51.49414124654647
               ],
               [
                -0.09430607163251356,
                51.49414631580825
               ],
               [
                -0.0947238891663095,
                51.49374075888749
               ],
               [
                -0.09444257397585386,
                51.49307669856807
               ],
               [
                -0.09624645301962,
                51.49232658290435
               ],
               [
                -0.09806566665965148,
                51.49191507943881
               ],
               [
                -0.09844940115824524,
                51.49245641532267
               ],
               [
                -0.09865135640307009,
                51.4927582257719
               ],
               [
                -0.09936459280491768,
                51.493209552186414
               ],
               [
                -0.1003937406617353,
                51.49333850020827
               ],
               [
                -0.10068579095457622,
                51.49469534595659
               ],
               [
                -0.09978785603034644,
                51.495069305698095
               ],
               [
                -0.09992766982216271,
                51.495260541185765
               ],
               [
                -0.10004403647031777,
                51.49558468460205
               ],
               [
                -0.10004758253423214,
                51.495627942397206
               ],
               [
                -0.09841332620330506,
                51.49563258573153
               ],
               [
                -0.09588781006683775,
                51.49497134245446
               ],
               [
                -0.09528037019071672,
                51.49493392448168
               ],
               [
                -0.09499347643465393,
                51.494739871466315
               ],
               [
                -0.094224370018075,
                51.495153623464
               ],
               [
                -0.09384682226966495,
                51.49543676966644
               ],
               [
                -0.09463923863199504,
                51.495676844996375
               ],
               [
                -0.09384600166679413,
                51.496213400899414
               ],
               [
                -0.09362787690608583,
                51.4961161884374
               ]
              ]
             ],
             "type": "Polygon"
            },
            "id": "4672",
            "properties": {
             "Name": "Southwark 009F",
             "type": "LSOA"
            },
            "type": "Feature"
           },
           {
            "geometry": {
             "coordinates": [
              [
               [
                -0.10845249956552859,
                51.48584825965141
               ],
               [
                -0.10812148857421916,
                51.48615496217102
               ],
               [
                -0.10551986923750122,
                51.48876936778067
               ],
               [
                -0.10471101153080101,
                51.489552140669815
               ],
               [
                -0.10418845920719691,
                51.49003019232162
               ],
               [
                -0.10380326221743325,
                51.490461003628596
               ],
               [
                -0.10339296670636182,
                51.490871624074686
               ],
               [
                -0.10326019257620925,
                51.491051126675536
               ],
               [
                -0.10325856653821665,
                51.49105559666481
               ],
               [
                -0.10315977408007666,
                51.49117989479764
               ],
               [
                -0.10339594904421473,
                51.49132040205091
               ],
               [
                -0.10315621389193141,
                51.49147389457332
               ],
               [
                -0.10307210748528482,
                51.49152199325859
               ],
               [
                -0.1029318800065308,
                51.49160335580104
               ],
               [
                -0.1027986633008331,
                51.49168932789261
               ],
               [
                -0.1027319055192929,
                51.4917359084966
               ],
               [
                -0.10255492565643606,
                51.49186973218451
               ],
               [
                -0.10250683855843436,
                51.49184827115773
               ],
               [
                -0.10182309418715833,
                51.492286834439795
               ],
               [
                -0.10153519119058739,
                51.49248990243755
               ],
               [
                -0.10144938026550682,
                51.49254426718311
               ],
               [
                -0.10126885886731332,
                51.49265914719686
               ],
               [
                -0.10112148461345374,
                51.49277366442819
               ],
               [
                -0.10099460012435163,
                51.49288041996495
               ],
               [
                -0.10090035733961984,
                51.49296432328372
               ],
               [
                -0.10077823881834386,
                51.49306036467609
               ],
               [
                -0.10039357612696535,
                51.49333829970621
               ],
               [
                -0.09993291770581421,
                51.49329576554959
               ],
               [
                -0.09953143369206105,
                51.49325059155885
               ],
               [
                -0.09936456925657317,
                51.493210118337416
               ],
               [
                -0.09906374628613557,
                51.49310002907452
               ],
               [
                -0.098853619638953,
                51.492991409446006
               ],
               [
                -0.09873600213526582,
                51.492875296752345
               ],
               [
                -0.09858340507866398,
                51.49266509389791
               ],
               [
                -0.09841426378436909,
                51.49240246556317
               ],
               [
                -0.09835724186449675,
                51.49231880910955
               ],
               [
                -0.09807665934897092,
                51.49193027534586
               ],
               [
                -0.09699341286537312,
                51.49033809919829
               ],
               [
                -0.09679071389605391,
                51.490051542997385
               ],
               [
                -0.09661854630075752,
                51.48975828792497
               ],
               [
                -0.09631721480461879,
                51.48917697138069
               ],
               [
                -0.09589853297555406,
                51.488508318868384
               ],
               [
                -0.09552994386813242,
                51.487847672370414
               ],
               [
                -0.09548788877433267,
                51.48775076858496
               ],
               [
                -0.09519740924788632,
                51.4871516398823
               ],
               [
                -0.09506918843040782,
                51.48691035394273
               ],
               [
                -0.09476433029741327,
                51.486483648292136
               ],
               [
                -0.09465174792641018,
                51.48638559822637
               ],
               [
                -0.09458395265460813,
                51.4863188506528
               ],
               [
                -0.09451384077455016,
                51.486238576497584
               ],
               [
                -0.09406621460550146,
                51.485609013901076
               ],
               [
                -0.09395796073689341,
                51.48544179047924
               ],
               [
                -0.09395954999281193,
                51.48543821927297
               ],
               [
                -0.09524648095386425,
                51.48528287625075
               ],
               [
                -0.09527491949124788,
                51.485188016668005
               ],
               [
                -0.09582748512017226,
                51.48513134512964
               ],
               [
                -0.09570950360562284,
                51.4843677561442
               ],
               [
                -0.09568436926849394,
                51.48393390470815
               ],
               [
                -0.09569337106512661,
                51.48375240040209
               ],
               [
                -0.09717632240514114,
                51.483211739515234
               ],
               [
                -0.09745208881885177,
                51.483126288282214
               ],
               [
                -0.09764063684438823,
                51.48306010439764
               ],
               [
                -0.0977637059634872,
                51.48300994391691
               ],
               [
                -0.09791789721908861,
                51.48293870592456
               ],
               [
                -0.09818741775057918,
                51.48279559903447
               ],
               [
                -0.10021650004406266,
                51.48179614151418
               ],
               [
                -0.10248694089602063,
                51.48073940567623
               ],
               [
                -0.10331644473174555,
                51.48032387963044
               ],
               [
                -0.10375308133500563,
                51.48014389576451
               ],
               [
                -0.10426757108538516,
                51.47989232900149
               ],
               [
                -0.10518523276462939,
                51.47939908031065
               ],
               [
                -0.10555427558494203,
                51.47914695598236
               ],
               [
                -0.10720300649898755,
                51.47984802691899
               ],
               [
                -0.10785424983630205,
                51.48011932298943
               ],
               [
                -0.10806811089347348,
                51.48020640495706
               ],
               [
                -0.10821939131515296,
                51.48027449169824
               ],
               [
                -0.10824591817239665,
                51.480294703372685
               ],
               [
                -0.10823774420091117,
                51.480353023325996
               ],
               [
                -0.10821492885955739,
                51.480382330771775
               ],
               [
                -0.1081783535575692,
                51.48039612880629
               ],
               [
                -0.10808538861446942,
                51.48041531180828
               ],
               [
                -0.10555704759361804,
                51.48071351043941
               ],
               [
                -0.10500660530425143,
                51.48079004552589
               ],
               [
                -0.1040859683305821,
                51.48090285810042
               ],
               [
                -0.1040468856437669,
                51.480907621718764
               ],
               [
                -0.10462107758852869,
                51.4814393742646
               ],
               [
                -0.10464044454087802,
                51.48145857176177
               ],
               [
                -0.10462371429873968,
                51.481584197612456
               ],
               [
                -0.1048985520598328,
                51.48183323835657
               ],
               [
                -0.1051556001491218,
                51.482094580579314
               ],
               [
                -0.10528074155662842,
                51.482098401289726
               ],
               [
                -0.10532676073950481,
                51.482100044150975
               ],
               [
                -0.10542186130031084,
                51.48220319704488
               ],
               [
                -0.1056340493340352,
                51.482435037054046
               ],
               [
                -0.10604374340981407,
                51.48269704473452
               ],
               [
                -0.10590491343374903,
                51.48278023184337
               ],
               [
                -0.10563573874333411,
                51.48295033969349
               ],
               [
                -0.10566392870071496,
                51.4829651832569
               ],
               [
                -0.10632861908039497,
                51.48329515652646
               ],
               [
                -0.10682333076696297,
                51.483521664742135
               ],
               [
                -0.10722256726749828,
                51.48365400608467
               ],
               [
                -0.10692629499704598,
                51.48406108373059
               ],
               [
                -0.10661589697134292,
                51.48453088064247
               ],
               [
                -0.10655014616897202,
                51.48469258473799
               ],
               [
                -0.10635760769790989,
                51.48489001020578
               ],
               [
                -0.10784448765914684,
                51.485504825334985
               ],
               [
                -0.10799180173367307,
                51.48556475488675
               ],
               [
                -0.10813667253500595,
                51.4856489248024
               ],
               [
                -0.10828109755385362,
                51.485743878441056
               ],
               [
                -0.10845249956552859,
                51.48584825965141
               ]
              ]
             ],
             "type": "Polygon"
            },
            "id": "240",
            "properties": {
             "Name": "Newington",
             "type": "Ward"
            },
            "type": "Feature"
           },
           {
            "geometry": {
             "coordinates": [
              [
               [
                -0.10039357612696535,
                51.49333829970621
               ],
               [
                -0.10052037982479228,
                51.493476141685214
               ],
               [
                -0.10061082314105001,
                51.49369163003724
               ],
               [
                -0.10067763962912316,
                51.49444089482624
               ],
               [
                -0.10068578385725281,
                51.49469551670063
               ],
               [
                -0.10047238123483608,
                51.4947693963514
               ],
               [
                -0.10033135201001232,
                51.49480038440235
               ],
               [
                -0.09986421737474269,
                51.495051802490565
               ],
               [
                -0.09984088373546457,
                51.49505861847049
               ],
               [
                -0.09982925428491381,
                51.49506112780635
               ],
               [
                -0.09978709284461917,
                51.49507033647065
               ],
               [
                -0.0996613185490433,
                51.49508088797913
               ],
               [
                -0.09953584321862766,
                51.4950842501348
               ],
               [
                -0.09933034459990235,
                51.49507192705549
               ],
               [
                -0.09906660490086032,
                51.495039775121505
               ],
               [
                -0.09862990024042902,
                51.4949751427876
               ],
               [
                -0.0979799411028582,
                51.49484230358014
               ],
               [
                -0.0961259814042455,
                51.49445881034035
               ],
               [
                -0.09575452005326046,
                51.49438443534981
               ],
               [
                -0.0954343625692641,
                51.494323482037814
               ],
               [
                -0.09515561829885662,
                51.49427129387669
               ],
               [
                -0.09494128365300233,
                51.49422914401007
               ],
               [
                -0.09472676205786933,
                51.49419148700436
               ],
               [
                -0.09451474534446969,
                51.494162862891656
               ],
               [
                -0.09435687279931217,
                51.49414860714866
               ],
               [
                -0.09424325418338743,
                51.49414406297295
               ],
               [
                -0.09423317674915828,
                51.4941438992007
               ],
               [
                -0.09402586955182791,
                51.494140529979404
               ],
               [
                -0.09360224255368217,
                51.49414263650749
               ],
               [
                -0.08940440352535911,
                51.494209206687316
               ],
               [
                -0.08673572594729748,
                51.494225047632845
               ],
               [
                -0.08635773371540766,
                51.49416942064955
               ],
               [
                -0.08597341928971212,
                51.49412717814519
               ],
               [
                -0.08575310985402802,
                51.494090309456524
               ],
               [
                -0.0856176632632022,
                51.49405662428507
               ],
               [
                -0.08547687256361475,
                51.49401295985034
               ],
               [
                -0.08531236170111033,
                51.49395092275947
               ],
               [
                -0.08519608279704918,
                51.49390675893946
               ],
               [
                -0.08482908908821686,
                51.493726309473715
               ],
               [
                -0.08468427444256454,
                51.49364121240339
               ],
               [
                -0.08455408242505662,
                51.49355095843924
               ],
               [
                -0.08398235976986448,
                51.492996666915786
               ],
               [
                -0.08112828635902562,
                51.490773788822175
               ],
               [
                -0.08077306027974977,
                51.49048560759679
               ],
               [
                -0.08061632169583442,
                51.490341858243674
               ],
               [
                -0.0805018305743676,
                51.490255453665014
               ],
               [
                -0.08035051694164436,
                51.49015405800232
               ],
               [
                -0.08018731052606308,
                51.49006146004091
               ],
               [
                -0.07997982037889058,
                51.489960043421426
               ],
               [
                -0.07800508254763686,
                51.4888944420041
               ],
               [
                -0.07797686035329313,
                51.48888049050173
               ],
               [
                -0.0763759505410267,
                51.488072780972665
               ],
               [
                -0.076218479519495,
                51.48798117071032
               ],
               [
                -0.07598793727458115,
                51.487846096004496
               ],
               [
                -0.07568015821768176,
                51.48766389100653
               ],
               [
                -0.0752842736593115,
                51.48745326119162
               ],
               [
                -0.0749069924619982,
                51.487279805165606
               ],
               [
                -0.07451403223078351,
                51.48710249339616
               ],
               [
                -0.07419808319049265,
                51.486977703030014
               ],
               [
                -0.07348274402001978,
                51.486691677613614
               ],
               [
                -0.07252442677552677,
                51.486327015234515
               ],
               [
                -0.07040697529959655,
                51.48557907470496
               ],
               [
                -0.06927576197403491,
                51.485182763695406
               ],
               [
                -0.06879519500605219,
                51.485000392864144
               ],
               [
                -0.06795690389331423,
                51.484660150923574
               ],
               [
                -0.06772745816033468,
                51.484568242345915
               ],
               [
                -0.06796016111853614,
                51.48434456325665
               ],
               [
                -0.06816581115206125,
                51.484181587900544
               ],
               [
                -0.06827853978656964,
                51.484104309928426
               ],
               [
                -0.06843717724002636,
                51.483997213167754
               ],
               [
                -0.06857944656932205,
                51.48393660826413
               ],
               [
                -0.06871974468064328,
                51.48388856040525
               ],
               [
                -0.06886382884885811,
                51.48385316441646
               ],
               [
                -0.06901582723687288,
                51.48383498458127
               ],
               [
                -0.06922543495474012,
                51.48381685391089
               ],
               [
                -0.06954181540858528,
                51.48379418593368
               ],
               [
                -0.07022521601770404,
                51.48374338600748
               ],
               [
                -0.07067995658224085,
                51.483718495661435
               ],
               [
                -0.07067969165852132,
                51.48307641759541
               ],
               [
                -0.07136766362301723,
                51.48301939144973
               ],
               [
                -0.0719958282542872,
                51.48298026241326
               ],
               [
                -0.07219028217726768,
                51.48291151858152
               ],
               [
                -0.07224005080836328,
                51.482892553039434
               ],
               [
                -0.07224592154360635,
                51.48288995176966
               ],
               [
                -0.07223967268191746,
                51.48286736746492
               ],
               [
                -0.07221937318065796,
                51.48280228680515
               ],
               [
                -0.07230345647670056,
                51.482789280970266
               ],
               [
                -0.07224107912451207,
                51.48266325793285
               ],
               [
                -0.07258491036458724,
                51.48260416332493
               ],
               [
                -0.07260665070307924,
                51.48260092363395
               ],
               [
                -0.07260240815443594,
                51.4826332273566
               ],
               [
                -0.07263365493129652,
                51.482643632864615
               ],
               [
                -0.07271447896517551,
                51.48274208174459
               ],
               [
                -0.07295142623144496,
                51.482724393811885
               ],
               [
                -0.07353955162835923,
                51.48267830365642
               ],
               [
                -0.07396958561009306,
                51.48265839026895
               ],
               [
                -0.07398651405336329,
                51.482530073779124
               ],
               [
                -0.0740702556269682,
                51.48252515443242
               ],
               [
                -0.07407150504486715,
                51.482495499287886
               ],
               [
                -0.07406528950982519,
                51.48223281250733
               ],
               [
                -0.0741749368755436,
                51.48222831859278
               ],
               [
                -0.07516532190688464,
                51.48217174044459
               ],
               [
                -0.07562443801222227,
                51.4821451043176
               ],
               [
                -0.07565532059558494,
                51.482437871453214
               ],
               [
                -0.07580254012463866,
                51.48243039557587
               ],
               [
                -0.07573984201270753,
                51.48214070341782
               ],
               [
                -0.0766079638712402,
                51.48208030806393
               ],
               [
                -0.07740503183469767,
                51.48203133093758
               ],
               [
                -0.0786366684169652,
                51.48195709668295
               ],
               [
                -0.07936923110854702,
                51.481900754373804
               ],
               [
                -0.0809682755738209,
                51.48178844935913
               ],
               [
                -0.08101027740604813,
                51.481782841932606
               ],
               [
                -0.08105549980561279,
                51.48200929676174
               ],
               [
                -0.08110026714503621,
                51.48200643234651
               ],
               [
                -0.08112142050689208,
                51.482120085514836
               ],
               [
                -0.08113248760927354,
                51.48216522971849
               ],
               [
                -0.08117054072687208,
                51.482322324001366
               ],
               [
                -0.08123345627959919,
                51.482573348340544
               ],
               [
                -0.08116179819932264,
                51.48280508450581
               ],
               [
                -0.08116601447927908,
                51.482876195180054
               ],
               [
                -0.08118360497603391,
                51.48297180478007
               ],
               [
                -0.07973518063638421,
                51.4830290269468
               ],
               [
                -0.07979777277471034,
                51.48318472501947
               ],
               [
                -0.07986572559108669,
                51.483212815656884
               ],
               [
                -0.07991917246890029,
                51.48324336650513
               ],
               [
                -0.07998970203946443,
                51.48327869335838
               ],
               [
                -0.08008235162356228,
                51.48357606753339
               ],
               [
                -0.08017583777392259,
                51.48388784349869
               ],
               [
                -0.08023503062623809,
                51.48409024725277
               ],
               [
                -0.08036030870372446,
                51.48422808677797
               ],
               [
                -0.08052977520090611,
                51.484274025575566
               ],
               [
                -0.08066511361285118,
                51.484309513626165
               ],
               [
                -0.08072333303238911,
                51.48432935107211
               ],
               [
                -0.08067585198685501,
                51.48443108971079
               ],
               [
                -0.08066608948469191,
                51.48449207970027
               ],
               [
                -0.08065939426646952,
                51.48454862358778
               ],
               [
                -0.08068638573013154,
                51.48469474576658
               ],
               [
                -0.08078301063446397,
                51.48517203664246
               ],
               [
                -0.0808253717664809,
                51.485260857599286
               ],
               [
                -0.08089614822986664,
                51.4853933081478
               ],
               [
                -0.08104492550552164,
                51.485589084203525
               ],
               [
                -0.08075555651631958,
                51.48568866260664
               ],
               [
                -0.08016260990781068,
                51.48588308834846
               ],
               [
                -0.08040279838610893,
                51.486165791647714
               ],
               [
                -0.08054217433545993,
                51.48631105577702
               ],
               [
                -0.08083050302169005,
                51.486545086795324
               ],
               [
                -0.0810986454524666,
                51.48677968600285
               ],
               [
                -0.08139845737991586,
                51.487014802750124
               ],
               [
                -0.08152919661500763,
                51.48712575241701
               ],
               [
                -0.0816658826944452,
                51.48723230291521
               ],
               [
                -0.08192130496921737,
                51.4874612965028
               ],
               [
                -0.08249410655976237,
                51.487232360493756
               ],
               [
                -0.08285774426262121,
                51.4870449652273
               ],
               [
                -0.08312002218977686,
                51.487247989699
               ],
               [
                -0.08297871065528782,
                51.48732031822171
               ],
               [
                -0.08315609561874837,
                51.48748688352582
               ],
               [
                -0.0832902238963906,
                51.48765454001865
               ],
               [
                -0.08365344834440475,
                51.48816406262771
               ],
               [
                -0.08371529162170724,
                51.48826938752735
               ],
               [
                -0.08381619622464767,
                51.48840502630455
               ],
               [
                -0.08409759940132777,
                51.48870188410115
               ],
               [
                -0.08403877803211167,
                51.48873059862346
               ],
               [
                -0.08437857040310733,
                51.4890778690511
               ],
               [
                -0.08446254090059375,
                51.489033378495705
               ],
               [
                -0.08502717767199895,
                51.48944636867963
               ],
               [
                -0.0852330666861299,
                51.48962059025939
               ],
               [
                -0.08569886754713862,
                51.48953916855658
               ],
               [
                -0.08614818333992784,
                51.489438591493546
               ],
               [
                -0.08662844103143374,
                51.48932143165645
               ],
               [
                -0.08671865858711823,
                51.48940293785597
               ],
               [
                -0.08677155294731252,
                51.489446965366966
               ],
               [
                -0.0868294053873085,
                51.48947578632287
               ],
               [
                -0.08689380581445252,
                51.489485829615106
               ],
               [
                -0.08696695600787886,
                51.4894933178359
               ],
               [
                -0.08768968847070147,
                51.48950240852953
               ],
               [
                -0.08891204616863642,
                51.48955111254783
               ],
               [
                -0.08913167445308642,
                51.489534908006476
               ],
               [
                -0.08940963332369838,
                51.48950166826448
               ],
               [
                -0.0911148010774304,
                51.48909599535049
               ],
               [
                -0.09131554995177157,
                51.48904890456935
               ],
               [
                -0.09161572085849778,
                51.48896656188133
               ],
               [
                -0.09247814939632122,
                51.48870002527078
               ],
               [
                -0.0940854139663052,
                51.48811915969343
               ],
               [
                -0.09424751548702635,
                51.48806604020862
               ],
               [
                -0.09455838780207161,
                51.4879685765499
               ],
               [
                -0.09482510174389665,
                51.487893775376456
               ],
               [
                -0.09526888652073308,
                51.48778677885452
               ],
               [
                -0.09548788877433267,
                51.48775076858496
               ],
               [
                -0.09552994386813242,
                51.487847672370414
               ],
               [
                -0.09589853297555406,
                51.488508318868384
               ],
               [
                -0.09631721480461879,
                51.48917697138069
               ],
               [
                -0.09661854630075752,
                51.48975828792497
               ],
               [
                -0.09679071389605391,
                51.490051542997385
               ],
               [
                -0.09699341286537312,
                51.49033809919829
               ],
               [
                -0.09807665934897092,
                51.49193027534586
               ],
               [
                -0.09835724186449675,
                51.49231880910955
               ],
               [
                -0.09841426378436909,
                51.49240246556317
               ],
               [
                -0.09858340507866398,
                51.49266509389791
               ],
               [
                -0.09873600213526582,
                51.492875296752345
               ],
               [
                -0.098853619638953,
                51.492991409446006
               ],
               [
                -0.09906374628613557,
                51.49310002907452
               ],
               [
                -0.09936456925657317,
                51.493210118337416
               ],
               [
                -0.09953143369206105,
                51.49325059155885
               ],
               [
                -0.09993291770581421,
                51.49329576554959
               ],
               [
                -0.10039357612696535,
                51.49333829970621
               ]
              ]
             ],
             "type": "Polygon"
            },
            "id": "242",
            "properties": {
             "Name": "East Walworth",
             "type": "Ward"
            },
            "type": "Feature"
           },
           {
            "geometry": {
             "coordinates": [
              [
               [
                -0.09982925428491381,
                51.49506112780635
               ],
               [
                -0.09984088373546457,
                51.49505861847049
               ],
               [
                -0.09986421737474269,
                51.495051802490565
               ],
               [
                -0.10033135201001232,
                51.49480038440235
               ],
               [
                -0.10047238123483608,
                51.4947693963514
               ],
               [
                -0.10068578385725281,
                51.49469551670063
               ],
               [
                -0.10067763962912316,
                51.49444089482624
               ],
               [
                -0.10061082314105001,
                51.49369163003724
               ],
               [
                -0.10052037982479228,
                51.493476141685214
               ],
               [
                -0.10039357612696535,
                51.49333829970621
               ],
               [
                -0.10077823881834386,
                51.49306036467609
               ],
               [
                -0.10090035733961984,
                51.49296432328372
               ],
               [
                -0.10099460012435163,
                51.49288041996495
               ],
               [
                -0.10112148461345374,
                51.49277366442819
               ],
               [
                -0.10126885886731332,
                51.49265914719686
               ],
               [
                -0.10144938026550682,
                51.49254426718311
               ],
               [
                -0.10153519119058739,
                51.49248990243755
               ],
               [
                -0.10182309418715833,
                51.492286834439795
               ],
               [
                -0.10250683855843436,
                51.49184827115773
               ],
               [
                -0.10255492565643606,
                51.49186973218451
               ],
               [
                -0.1027319055192929,
                51.4917359084966
               ],
               [
                -0.1027986633008331,
                51.49168932789261
               ],
               [
                -0.1029318800065308,
                51.49160335580104
               ],
               [
                -0.10307210748528482,
                51.49152199325859
               ],
               [
                -0.10315621389193141,
                51.49147389457332
               ],
               [
                -0.10352741822555443,
                51.49169302257198
               ],
               [
                -0.10340568159280597,
                51.49178008026514
               ],
               [
                -0.10358289013425877,
                51.491883663086966
               ],
               [
                -0.10371214606179176,
                51.491997261305706
               ],
               [
                -0.10373162885927505,
                51.49201376299766
               ],
               [
                -0.10388332085317808,
                51.49196855519167
               ],
               [
                -0.1039430890803685,
                51.49195153643356
               ],
               [
                -0.10410508565687791,
                51.4922482129118
               ],
               [
                -0.10425731977847649,
                51.49250246620799
               ],
               [
                -0.10440055945692919,
                51.49273049542127
               ],
               [
                -0.1045190432309253,
                51.49293024731027
               ],
               [
                -0.10469904935340088,
                51.49307074316491
               ],
               [
                -0.1047938911205283,
                51.4933195718074
               ],
               [
                -0.10488691211842827,
                51.49350812068119
               ],
               [
                -0.10489620680543299,
                51.49352715529565
               ],
               [
                -0.10533777138443569,
                51.49361342502179
               ],
               [
                -0.10574205632901035,
                51.49369549386209
               ],
               [
                -0.10715897775627574,
                51.49416260623211
               ],
               [
                -0.1093994319965454,
                51.49495592245354
               ],
               [
                -0.11050735353541181,
                51.49537214966768
               ],
               [
                -0.11058431619363762,
                51.49539227408101
               ],
               [
                -0.11066438124942328,
                51.4954070528868
               ],
               [
                -0.1108135513589817,
                51.49542294492288
               ],
               [
                -0.11095735292521476,
                51.495499000475924
               ],
               [
                -0.11097287372576113,
                51.49557658655134
               ],
               [
                -0.11144254746512167,
                51.4964474374166
               ],
               [
                -0.1102950670422191,
                51.49677786398952
               ],
               [
                -0.11030387161691212,
                51.496843651583816
               ],
               [
                -0.11029537206893777,
                51.49687498859665
               ],
               [
                -0.10951625092148543,
                51.49836508869022
               ],
               [
                -0.10952012403293171,
                51.4983759422018
               ],
               [
                -0.10947043350117902,
                51.49849744001436
               ],
               [
                -0.10912107902325385,
                51.49910599965149
               ],
               [
                -0.10835358998656361,
                51.500348084815634
               ],
               [
                -0.10822798018719702,
                51.50049353665954
               ],
               [
                -0.108188832345179,
                51.50053427093606
               ],
               [
                -0.10784650130939549,
                51.500798524980375
               ],
               [
                -0.10682576526420445,
                51.50157879261179
               ],
               [
                -0.10670400798469967,
                51.501665853384665
               ],
               [
                -0.10652730078274115,
                51.50158386594648
               ],
               [
                -0.10598659161293308,
                51.5020103746824
               ],
               [
                -0.10594766401986572,
                51.502045716240254
               ],
               [
                -0.10611550900918869,
                51.50213295696395
               ],
               [
                -0.10608688422944712,
                51.502163069409654
               ],
               [
                -0.1060649745350418,
                51.50220498062319
               ],
               [
                -0.10605062368269033,
                51.50227309233277
               ],
               [
                -0.10608080886115623,
                51.50241386376169
               ],
               [
                -0.10613681393100356,
                51.502522678920045
               ],
               [
                -0.10675154505238152,
                51.50222236109209
               ],
               [
                -0.10745797079436736,
                51.50301251880218
               ],
               [
                -0.10639557477687159,
                51.50337125869268
               ],
               [
                -0.10651842504918632,
                51.503640321228694
               ],
               [
                -0.10651986499210109,
                51.503640344477034
               ],
               [
                -0.10659954138844759,
                51.50404719524765
               ],
               [
                -0.10656645710977307,
                51.50425438920867
               ],
               [
                -0.10654561424396541,
                51.504305310283875
               ],
               [
                -0.1064671210186196,
                51.504495584471854
               ],
               [
                -0.1064346318358312,
                51.50468839990275
               ],
               [
                -0.10643454275995781,
                51.50482958161949
               ],
               [
                -0.10646568628512965,
                51.504982058675076
               ],
               [
                -0.10659266193203164,
                51.50529075489501
               ],
               [
                -0.10659683290814297,
                51.50529441925582
               ],
               [
                -0.10736358808962565,
                51.50706394074263
               ],
               [
                -0.1081755379904773,
                51.50690888016479
               ],
               [
                -0.1082449604320964,
                51.50700711954716
               ],
               [
                -0.10829093287574919,
                51.50711487245271
               ],
               [
                -0.10840636873640755,
                51.50742427962032
               ],
               [
                -0.10842444535823208,
                51.5074749294606
               ],
               [
                -0.10850636327179532,
                51.50775861675968
               ],
               [
                -0.10859306546781584,
                51.50775282100354
               ],
               [
                -0.1087996771260954,
                51.50770489532311
               ],
               [
                -0.10886233341493629,
                51.5080710032094
               ],
               [
                -0.10892152618958147,
                51.50841637232522
               ],
               [
                -0.10892484178994048,
                51.50844070567067
               ],
               [
                -0.10914066949644953,
                51.509632101180614
               ],
               [
                -0.10917879143074982,
                51.5098251563008
               ],
               [
                -0.10918841497975494,
                51.50987117344124
               ],
               [
                -0.10849462771150181,
                51.5098860647375
               ],
               [
                -0.10792184920918808,
                51.50990200491337
               ],
               [
                -0.10735971002134642,
                51.50990462515876
               ],
               [
                -0.10698626653803923,
                51.5099093892486
               ],
               [
                -0.10651223671987753,
                51.50990713274131
               ],
               [
                -0.10558789061560836,
                51.50988681041544
               ],
               [
                -0.10517911492230786,
                51.509874811447425
               ],
               [
                -0.1046401676522966,
                51.50987419631244
               ],
               [
                -0.10465723747365556,
                51.50967124047485
               ],
               [
                -0.10466159516421288,
                51.50967041164152
               ],
               [
                -0.10477223856636211,
                51.509643423458535
               ],
               [
                -0.10475024071712036,
                51.50961788883566
               ],
               [
                -0.10474337571783345,
                51.509609684602026
               ],
               [
                -0.10465996009227431,
                51.50960563883656
               ],
               [
                -0.1046572120984074,
                51.5094635120882
               ],
               [
                -0.1046888895551603,
                51.50911691144252
               ],
               [
                -0.1047642603007832,
                51.50910643910572
               ],
               [
                -0.10474314341365981,
                51.50909440754429
               ],
               [
                -0.10468256115880246,
                51.50906105534101
               ],
               [
                -0.10468442590157312,
                51.50901612270679
               ],
               [
                -0.10470216364621582,
                51.50862343473899
               ],
               [
                -0.1047418810887772,
                51.50856922199117
               ],
               [
                -0.10473427610101198,
                51.5084746772739
               ],
               [
                -0.10468799808021681,
                51.508409183023005
               ],
               [
                -0.10420463487979918,
                51.508423852113786
               ],
               [
                -0.10420589627221825,
                51.508497611455695
               ],
               [
                -0.10423534802250302,
                51.50862128552547
               ],
               [
                -0.10422341783546774,
                51.50880454080108
               ],
               [
                -0.10421342040281673,
                51.50904537966053
               ],
               [
                -0.10408918292147701,
                51.509087434902305
               ],
               [
                -0.10419657973593399,
                51.509138630006724
               ],
               [
                -0.10420422257285102,
                51.509579388690184
               ],
               [
                -0.10405804590476846,
                51.5096291825693
               ],
               [
                -0.10403736177287305,
                51.50964143777284
               ],
               [
                -0.10418317318484381,
                51.509669873231054
               ],
               [
                -0.1041798832247599,
                51.50985326813973
               ],
               [
                -0.10361357375308088,
                51.50985220598438
               ],
               [
                -0.10330085574678242,
                51.50981747370962
               ],
               [
                -0.10158782687557748,
                51.509806844002526
               ],
               [
                -0.10021061011628948,
                51.50972609184623
               ],
               [
                -0.09995179811574614,
                51.509712007419544
               ],
               [
                -0.09931645820170967,
                51.50967293664655
               ],
               [
                -0.09854539264457293,
                51.50960558361557
               ],
               [
                -0.09773271569869145,
                51.5095339535641
               ],
               [
                -0.09685007483994051,
                51.509446794474336
               ],
               [
                -0.09601612273775798,
                51.509332542202465
               ],
               [
                -0.09572989868569691,
                51.50928473092916
               ],
               [
                -0.09530423105373345,
                51.50919418789243
               ],
               [
                -0.09494901785443909,
                51.50910748550393
               ],
               [
                -0.09401396265156806,
                51.50889535615819
               ],
               [
                -0.09317084269075475,
                51.508655937848246
               ],
               [
                -0.0928234762761636,
                51.50855406917292
               ],
               [
                -0.0926509147304088,
                51.50851079637006
               ],
               [
                -0.09236109249195422,
                51.50844583241376
               ],
               [
                -0.0919281266091325,
                51.50835785607879
               ],
               [
                -0.09110497694920645,
                51.50826172954085
               ],
               [
                -0.09032677374448368,
                51.508159135009734
               ],
               [
                -0.0895027291122539,
                51.50808456477695
               ],
               [
                -0.08906406099928638,
                51.50802975743655
               ],
               [
                -0.08896946783367146,
                51.508017425037686
               ],
               [
                -0.08862350260407371,
                51.5079857087297
               ],
               [
                -0.08809858329222048,
                51.50792589502498
               ],
               [
                -0.08775739112702219,
                51.507883462872186
               ],
               [
                -0.08804258308643846,
                51.50709496738994
               ],
               [
                -0.08812575742633742,
                51.50682924380465
               ],
               [
                -0.08826389347685877,
                51.50648977769889
               ],
               [
                -0.08834618410635671,
                51.50631396530915
               ],
               [
                -0.08839496175604745,
                51.50621584203364
               ],
               [
                -0.08854091238367343,
                51.506033873064126
               ],
               [
                -0.088702976052768,
                51.50588004349952
               ],
               [
                -0.08885450744323051,
                51.505736833174666
               ],
               [
                -0.08902857767933353,
                51.50557150847165
               ],
               [
                -0.08946256365984816,
                51.505186502835514
               ],
               [
                -0.08985413060178941,
                51.50488533494908
               ],
               [
                -0.09095185833712632,
                51.504133444394284
               ],
               [
                -0.0909893592805586,
                51.50409808452623
               ],
               [
                -0.09115599044719835,
                51.50393803115959
               ],
               [
                -0.09156600082991805,
                51.50347079515019
               ],
               [
                -0.09166470187596784,
                51.50335010222193
               ],
               [
                -0.09206444500838044,
                51.502817950863424
               ],
               [
                -0.0921239417895245,
                51.502738884852484
               ],
               [
                -0.09266996108302708,
                51.501808941324995
               ],
               [
                -0.09289792428708187,
                51.50155995720692
               ],
               [
                -0.0931015343164116,
                51.50134205069026
               ],
               [
                -0.09325982330602066,
                51.50120883645764
               ],
               [
                -0.09351527926900235,
                51.501025943968585
               ],
               [
                -0.09373536681177208,
                51.50089643149598
               ],
               [
                -0.09395105859215294,
                51.500768645686456
               ],
               [
                -0.09446810096209537,
                51.500497378858434
               ],
               [
                -0.09516276593172393,
                51.50014716252596
               ],
               [
                -0.09517454680870696,
                51.50014105907459
               ],
               [
                -0.09566614516050218,
                51.499857683390104
               ],
               [
                -0.09601403133659393,
                51.499669092345854
               ],
               [
                -0.0966106533103478,
                51.49931997348349
               ],
               [
                -0.09670353207155544,
                51.49926932396692
               ],
               [
                -0.0968173539294583,
                51.49920012984801
               ],
               [
                -0.09699310662481316,
                51.499096869552915
               ],
               [
                -0.09726240969891083,
                51.498926783303006
               ],
               [
                -0.09726983319523463,
                51.49892150820272
               ],
               [
                -0.09756744521746402,
                51.49869432807772
               ],
               [
                -0.09790536924044663,
                51.49839855821713
               ],
               [
                -0.09824040933933205,
                51.49810274062708
               ],
               [
                -0.09869616012027474,
                51.497675789088554
               ],
               [
                -0.09917860269510803,
                51.49723038403507
               ],
               [
                -0.09944180833511203,
                51.496963973441886
               ],
               [
                -0.09969480130894293,
                51.49666592275635
               ],
               [
                -0.09998742247803645,
                51.496107728864715
               ],
               [
                -0.10010031070817238,
                51.49588744117781
               ],
               [
                -0.1000909013063169,
                51.495732616404204
               ],
               [
                -0.10004237659786783,
                51.49554838165078
               ],
               [
                -0.09999209592454218,
                51.49540638353625
               ],
               [
                -0.09988678761317153,
                51.49516727320497
               ],
               [
                -0.09982925428491381,
                51.49506112780635
               ]
              ]
             ],
             "type": "Polygon"
            },
            "id": "245",
            "properties": {
             "Name": "Cathedrals",
             "type": "Ward"
            },
            "type": "Feature"
           },
           {
            "geometry": {
             "coordinates": [
              [
               [
                -0.08531236170111033,
                51.49395092275947
               ],
               [
                -0.08547687256361475,
                51.49401295985034
               ],
               [
                -0.0856176632632022,
                51.49405662428507
               ],
               [
                -0.08575310985402802,
                51.494090309456524
               ],
               [
                -0.08597341928971212,
                51.49412717814519
               ],
               [
                -0.08635773371540766,
                51.49416942064955
               ],
               [
                -0.08673572594729748,
                51.494225047632845
               ],
               [
                -0.08940440352535911,
                51.494209206687316
               ],
               [
                -0.09360224255368217,
                51.49414263650749
               ],
               [
                -0.09402586955182791,
                51.494140529979404
               ],
               [
                -0.09423317674915828,
                51.4941438992007
               ],
               [
                -0.09424325418338743,
                51.49414406297295
               ],
               [
                -0.09435687279931217,
                51.49414860714866
               ],
               [
                -0.09451474534446969,
                51.494162862891656
               ],
               [
                -0.09472676205786933,
                51.49419148700436
               ],
               [
                -0.09494128365300233,
                51.49422914401007
               ],
               [
                -0.09515561829885662,
                51.49427129387669
               ],
               [
                -0.0954343625692641,
                51.494323482037814
               ],
               [
                -0.09575452005326046,
                51.49438443534981
               ],
               [
                -0.0961259814042455,
                51.49445881034035
               ],
               [
                -0.0979799411028582,
                51.49484230358014
               ],
               [
                -0.09862990024042902,
                51.4949751427876
               ],
               [
                -0.09906660490086032,
                51.495039775121505
               ],
               [
                -0.09933034459990235,
                51.49507192705549
               ],
               [
                -0.09953584321862766,
                51.4950842501348
               ],
               [
                -0.0996613185490433,
                51.49508088797913
               ],
               [
                -0.09978709284461917,
                51.49507033647065
               ],
               [
                -0.09982925428491381,
                51.49506112780635
               ],
               [
                -0.09988678761317153,
                51.49516727320497
               ],
               [
                -0.09999209592454218,
                51.49540638353625
               ],
               [
                -0.10004237659786783,
                51.49554838165078
               ],
               [
                -0.1000909013063169,
                51.495732616404204
               ],
               [
                -0.10010031070817238,
                51.49588744117781
               ],
               [
                -0.09998742247803645,
                51.496107728864715
               ],
               [
                -0.09969480130894293,
                51.49666592275635
               ],
               [
                -0.09944180833511203,
                51.496963973441886
               ],
               [
                -0.09917860269510803,
                51.49723038403507
               ],
               [
                -0.09869616012027474,
                51.497675789088554
               ],
               [
                -0.09824040933933205,
                51.49810274062708
               ],
               [
                -0.09790536924044663,
                51.49839855821713
               ],
               [
                -0.09756744521746402,
                51.49869432807772
               ],
               [
                -0.09726983319523463,
                51.49892150820272
               ],
               [
                -0.09726240969891083,
                51.498926783303006
               ],
               [
                -0.09699310662481316,
                51.499096869552915
               ],
               [
                -0.0968173539294583,
                51.49920012984801
               ],
               [
                -0.09670353207155544,
                51.49926932396692
               ],
               [
                -0.0966106533103478,
                51.49931997348349
               ],
               [
                -0.09601403133659393,
                51.499669092345854
               ],
               [
                -0.09566614516050218,
                51.499857683390104
               ],
               [
                -0.09517454680870696,
                51.50014105907459
               ],
               [
                -0.09516276593172393,
                51.50014716252596
               ],
               [
                -0.09446810096209537,
                51.500497378858434
               ],
               [
                -0.09395105859215294,
                51.500768645686456
               ],
               [
                -0.09373536681177208,
                51.50089643149598
               ],
               [
                -0.09351527926900235,
                51.501025943968585
               ],
               [
                -0.09325982330602066,
                51.50120883645764
               ],
               [
                -0.0931015343164116,
                51.50134205069026
               ],
               [
                -0.09289792428708187,
                51.50155995720692
               ],
               [
                -0.09266996108302708,
                51.501808941324995
               ],
               [
                -0.0921239417895245,
                51.502738884852484
               ],
               [
                -0.09206444500838044,
                51.502817950863424
               ],
               [
                -0.09166470187596784,
                51.50335010222193
               ],
               [
                -0.09156600082991805,
                51.50347079515019
               ],
               [
                -0.09115599044719835,
                51.50393803115959
               ],
               [
                -0.0909893592805586,
                51.50409808452623
               ],
               [
                -0.09095185833712632,
                51.504133444394284
               ],
               [
                -0.08985413060178941,
                51.50488533494908
               ],
               [
                -0.08946256365984816,
                51.505186502835514
               ],
               [
                -0.08777302215619587,
                51.50455016925797
               ],
               [
                -0.08723566099465478,
                51.50430669990256
               ],
               [
                -0.08746252744980118,
                51.504050514247965
               ],
               [
                -0.08752609023200032,
                51.503977811643345
               ],
               [
                -0.08753262994579138,
                51.50392486206143
               ],
               [
                -0.08761596503826537,
                51.503827302613544
               ],
               [
                -0.08765296891735876,
                51.503769454239546
               ],
               [
                -0.08788532667227886,
                51.503519652125085
               ],
               [
                -0.08796335196818593,
                51.503411214762735
               ],
               [
                -0.08800811887985273,
                51.50334000397184
               ],
               [
                -0.08811617246604665,
                51.50316820873947
               ],
               [
                -0.08820243856023613,
                51.50300055452692
               ],
               [
                -0.08824373927338597,
                51.50287443239406
               ],
               [
                -0.08831536890389047,
                51.50267776323971
               ],
               [
                -0.08833575832809261,
                51.50256928536257
               ],
               [
                -0.08827061386957058,
                51.5025421449605
               ],
               [
                -0.08823529351821797,
                51.50252538254348
               ],
               [
                -0.0881817435369701,
                51.50249663258155
               ],
               [
                -0.0881594737665533,
                51.50240904149107
               ],
               [
                -0.08807411816780257,
                51.50221071242215
               ],
               [
                -0.08839660342692715,
                51.50218269687548
               ],
               [
                -0.08847297055585894,
                51.50211379950639
               ],
               [
                -0.08859804566934425,
                51.50198274788799
               ],
               [
                -0.08869061568614656,
                51.501870950065005
               ],
               [
                -0.0887626135002178,
                51.50176870874484
               ],
               [
                -0.08888981853505833,
                51.501552261996395
               ],
               [
                -0.0889501348537133,
                51.5014192554177
               ],
               [
                -0.0890320145846014,
                51.50118408473789
               ],
               [
                -0.08919452784935089,
                51.50084681312394
               ],
               [
                -0.08926875203158388,
                51.500725723343834
               ],
               [
                -0.0889129545812502,
                51.50058593632463
               ],
               [
                -0.08722928097481127,
                51.49984807279235
               ],
               [
                -0.08592868966039471,
                51.499287297019855
               ],
               [
                -0.08541118004840599,
                51.499053135273414
               ],
               [
                -0.08484839413658117,
                51.49879934736625
               ],
               [
                -0.08445867385957999,
                51.49864460447001
               ],
               [
                -0.08401723788039267,
                51.498486317558786
               ],
               [
                -0.08352427533727921,
                51.498319992838354
               ],
               [
                -0.08313544489354435,
                51.498212920769234
               ],
               [
                -0.08281637882577485,
                51.498160044257084
               ],
               [
                -0.08254691268773424,
                51.49812686232154
               ],
               [
                -0.08214468212008856,
                51.49806453081372
               ],
               [
                -0.08156262975290993,
                51.497961487437685
               ],
               [
                -0.08134772500416755,
                51.49793279233067
               ],
               [
                -0.07979922106768618,
                51.497720401131424
               ],
               [
                -0.07989123701228862,
                51.49762208993423
               ],
               [
                -0.07997681386895858,
                51.49753985991839
               ],
               [
                -0.0801618070330276,
                51.497457458916124
               ],
               [
                -0.0803853650603774,
                51.49734871111158
               ],
               [
                -0.08048231228138594,
                51.49730443576783
               ],
               [
                -0.08088029055066502,
                51.49712480256939
               ],
               [
                -0.08181902062353981,
                51.496693229038485
               ],
               [
                -0.08203158773214539,
                51.496605880581335
               ],
               [
                -0.08223918735031478,
                51.49649956605228
               ],
               [
                -0.08243125109132209,
                51.49638580304234
               ],
               [
                -0.08260599987574152,
                51.4962726558762
               ],
               [
                -0.08278225612715115,
                51.49612356270941
               ],
               [
                -0.08295767481466469,
                51.49596006743348
               ],
               [
                -0.0830994588775989,
                51.49584278360952
               ],
               [
                -0.08347355867871271,
                51.49554494835442
               ],
               [
                -0.08368246925980494,
                51.49540717863572
               ],
               [
                -0.08386918070411845,
                51.49528343397871
               ],
               [
                -0.08425995174887516,
                51.49503442867227
               ],
               [
                -0.08484940227809828,
                51.49468525210604
               ],
               [
                -0.08504128793755604,
                51.49436914853474
               ],
               [
                -0.08510592425567043,
                51.49423621432335
               ],
               [
                -0.08516776485159994,
                51.494135607774844
               ],
               [
                -0.08531236170111033,
                51.49395092275947
               ]
              ]
             ],
             "type": "Polygon"
            },
            "id": "249",
            "properties": {
             "Name": "Chaucer",
             "type": "Ward"
            },
            "type": "Feature"
           }
          ],
          "type": "FeatureCollection"
         },
         "hovertemplate": "<b>%{hovertext}</b><br><br>type=LSOA<br>index=%{location}<extra></extra>",
         "hovertext": [
          "Southwark 009F"
         ],
         "locations": {
          "bdata": "QBI=",
          "dtype": "i2"
         },
         "marker": {
          "opacity": 0.5
         },
         "name": "LSOA",
         "showlegend": true,
         "showscale": false,
         "subplot": "map",
         "type": "choroplethmap",
         "z": [
          1
         ]
        },
        {
         "colorscale": [
          [
           0,
           "#EF553B"
          ],
          [
           1,
           "#EF553B"
          ]
         ],
         "geojson": {
          "features": [
           {
            "geometry": {
             "coordinates": [
              [
               [
                -0.09362787690608583,
                51.4961161884374
               ],
               [
                -0.09324471459136122,
                51.49592807497145
               ],
               [
                -0.09304163755859536,
                51.49615453339244
               ],
               [
                -0.09266324055195715,
                51.49534361502524
               ],
               [
                -0.0905978628429639,
                51.49533035436423
               ],
               [
                -0.0903303182328689,
                51.49419462205803
               ],
               [
                -0.09183217945868538,
                51.49417024906975
               ],
               [
                -0.09289611393209153,
                51.49415297998972
               ],
               [
                -0.09365447941281285,
                51.49414124654647
               ],
               [
                -0.09430607163251356,
                51.49414631580825
               ],
               [
                -0.0947238891663095,
                51.49374075888749
               ],
               [
                -0.09444257397585386,
                51.49307669856807
               ],
               [
                -0.09624645301962,
                51.49232658290435
               ],
               [
                -0.09806566665965148,
                51.49191507943881
               ],
               [
                -0.09844940115824524,
                51.49245641532267
               ],
               [
                -0.09865135640307009,
                51.4927582257719
               ],
               [
                -0.09936459280491768,
                51.493209552186414
               ],
               [
                -0.1003937406617353,
                51.49333850020827
               ],
               [
                -0.10068579095457622,
                51.49469534595659
               ],
               [
                -0.09978785603034644,
                51.495069305698095
               ],
               [
                -0.09992766982216271,
                51.495260541185765
               ],
               [
                -0.10004403647031777,
                51.49558468460205
               ],
               [
                -0.10004758253423214,
                51.495627942397206
               ],
               [
                -0.09841332620330506,
                51.49563258573153
               ],
               [
                -0.09588781006683775,
                51.49497134245446
               ],
               [
                -0.09528037019071672,
                51.49493392448168
               ],
               [
                -0.09499347643465393,
                51.494739871466315
               ],
               [
                -0.094224370018075,
                51.495153623464
               ],
               [
                -0.09384682226966495,
                51.49543676966644
               ],
               [
                -0.09463923863199504,
                51.495676844996375
               ],
               [
                -0.09384600166679413,
                51.496213400899414
               ],
               [
                -0.09362787690608583,
                51.4961161884374
               ]
              ]
             ],
             "type": "Polygon"
            },
            "id": "4672",
            "properties": {
             "Name": "Southwark 009F",
             "type": "LSOA"
            },
            "type": "Feature"
           },
           {
            "geometry": {
             "coordinates": [
              [
               [
                -0.10845249956552859,
                51.48584825965141
               ],
               [
                -0.10812148857421916,
                51.48615496217102
               ],
               [
                -0.10551986923750122,
                51.48876936778067
               ],
               [
                -0.10471101153080101,
                51.489552140669815
               ],
               [
                -0.10418845920719691,
                51.49003019232162
               ],
               [
                -0.10380326221743325,
                51.490461003628596
               ],
               [
                -0.10339296670636182,
                51.490871624074686
               ],
               [
                -0.10326019257620925,
                51.491051126675536
               ],
               [
                -0.10325856653821665,
                51.49105559666481
               ],
               [
                -0.10315977408007666,
                51.49117989479764
               ],
               [
                -0.10339594904421473,
                51.49132040205091
               ],
               [
                -0.10315621389193141,
                51.49147389457332
               ],
               [
                -0.10307210748528482,
                51.49152199325859
               ],
               [
                -0.1029318800065308,
                51.49160335580104
               ],
               [
                -0.1027986633008331,
                51.49168932789261
               ],
               [
                -0.1027319055192929,
                51.4917359084966
               ],
               [
                -0.10255492565643606,
                51.49186973218451
               ],
               [
                -0.10250683855843436,
                51.49184827115773
               ],
               [
                -0.10182309418715833,
                51.492286834439795
               ],
               [
                -0.10153519119058739,
                51.49248990243755
               ],
               [
                -0.10144938026550682,
                51.49254426718311
               ],
               [
                -0.10126885886731332,
                51.49265914719686
               ],
               [
                -0.10112148461345374,
                51.49277366442819
               ],
               [
                -0.10099460012435163,
                51.49288041996495
               ],
               [
                -0.10090035733961984,
                51.49296432328372
               ],
               [
                -0.10077823881834386,
                51.49306036467609
               ],
               [
                -0.10039357612696535,
                51.49333829970621
               ],
               [
                -0.09993291770581421,
                51.49329576554959
               ],
               [
                -0.09953143369206105,
                51.49325059155885
               ],
               [
                -0.09936456925657317,
                51.493210118337416
               ],
               [
                -0.09906374628613557,
                51.49310002907452
               ],
               [
                -0.098853619638953,
                51.492991409446006
               ],
               [
                -0.09873600213526582,
                51.492875296752345
               ],
               [
                -0.09858340507866398,
                51.49266509389791
               ],
               [
                -0.09841426378436909,
                51.49240246556317
               ],
               [
                -0.09835724186449675,
                51.49231880910955
               ],
               [
                -0.09807665934897092,
                51.49193027534586
               ],
               [
                -0.09699341286537312,
                51.49033809919829
               ],
               [
                -0.09679071389605391,
                51.490051542997385
               ],
               [
                -0.09661854630075752,
                51.48975828792497
               ],
               [
                -0.09631721480461879,
                51.48917697138069
               ],
               [
                -0.09589853297555406,
                51.488508318868384
               ],
               [
                -0.09552994386813242,
                51.487847672370414
               ],
               [
                -0.09548788877433267,
                51.48775076858496
               ],
               [
                -0.09519740924788632,
                51.4871516398823
               ],
               [
                -0.09506918843040782,
                51.48691035394273
               ],
               [
                -0.09476433029741327,
                51.486483648292136
               ],
               [
                -0.09465174792641018,
                51.48638559822637
               ],
               [
                -0.09458395265460813,
                51.4863188506528
               ],
               [
                -0.09451384077455016,
                51.486238576497584
               ],
               [
                -0.09406621460550146,
                51.485609013901076
               ],
               [
                -0.09395796073689341,
                51.48544179047924
               ],
               [
                -0.09395954999281193,
                51.48543821927297
               ],
               [
                -0.09524648095386425,
                51.48528287625075
               ],
               [
                -0.09527491949124788,
                51.485188016668005
               ],
               [
                -0.09582748512017226,
                51.48513134512964
               ],
               [
                -0.09570950360562284,
                51.4843677561442
               ],
               [
                -0.09568436926849394,
                51.48393390470815
               ],
               [
                -0.09569337106512661,
                51.48375240040209
               ],
               [
                -0.09717632240514114,
                51.483211739515234
               ],
               [
                -0.09745208881885177,
                51.483126288282214
               ],
               [
                -0.09764063684438823,
                51.48306010439764
               ],
               [
                -0.0977637059634872,
                51.48300994391691
               ],
               [
                -0.09791789721908861,
                51.48293870592456
               ],
               [
                -0.09818741775057918,
                51.48279559903447
               ],
               [
                -0.10021650004406266,
                51.48179614151418
               ],
               [
                -0.10248694089602063,
                51.48073940567623
               ],
               [
                -0.10331644473174555,
                51.48032387963044
               ],
               [
                -0.10375308133500563,
                51.48014389576451
               ],
               [
                -0.10426757108538516,
                51.47989232900149
               ],
               [
                -0.10518523276462939,
                51.47939908031065
               ],
               [
                -0.10555427558494203,
                51.47914695598236
               ],
               [
                -0.10720300649898755,
                51.47984802691899
               ],
               [
                -0.10785424983630205,
                51.48011932298943
               ],
               [
                -0.10806811089347348,
                51.48020640495706
               ],
               [
                -0.10821939131515296,
                51.48027449169824
               ],
               [
                -0.10824591817239665,
                51.480294703372685
               ],
               [
                -0.10823774420091117,
                51.480353023325996
               ],
               [
                -0.10821492885955739,
                51.480382330771775
               ],
               [
                -0.1081783535575692,
                51.48039612880629
               ],
               [
                -0.10808538861446942,
                51.48041531180828
               ],
               [
                -0.10555704759361804,
                51.48071351043941
               ],
               [
                -0.10500660530425143,
                51.48079004552589
               ],
               [
                -0.1040859683305821,
                51.48090285810042
               ],
               [
                -0.1040468856437669,
                51.480907621718764
               ],
               [
                -0.10462107758852869,
                51.4814393742646
               ],
               [
                -0.10464044454087802,
                51.48145857176177
               ],
               [
                -0.10462371429873968,
                51.481584197612456
               ],
               [
                -0.1048985520598328,
                51.48183323835657
               ],
               [
                -0.1051556001491218,
                51.482094580579314
               ],
               [
                -0.10528074155662842,
                51.482098401289726
               ],
               [
                -0.10532676073950481,
                51.482100044150975
               ],
               [
                -0.10542186130031084,
                51.48220319704488
               ],
               [
                -0.1056340493340352,
                51.482435037054046
               ],
               [
                -0.10604374340981407,
                51.48269704473452
               ],
               [
                -0.10590491343374903,
                51.48278023184337
               ],
               [
                -0.10563573874333411,
                51.48295033969349
               ],
               [
                -0.10566392870071496,
                51.4829651832569
               ],
               [
                -0.10632861908039497,
                51.48329515652646
               ],
               [
                -0.10682333076696297,
                51.483521664742135
               ],
               [
                -0.10722256726749828,
                51.48365400608467
               ],
               [
                -0.10692629499704598,
                51.48406108373059
               ],
               [
                -0.10661589697134292,
                51.48453088064247
               ],
               [
                -0.10655014616897202,
                51.48469258473799
               ],
               [
                -0.10635760769790989,
                51.48489001020578
               ],
               [
                -0.10784448765914684,
                51.485504825334985
               ],
               [
                -0.10799180173367307,
                51.48556475488675
               ],
               [
                -0.10813667253500595,
                51.4856489248024
               ],
               [
                -0.10828109755385362,
                51.485743878441056
               ],
               [
                -0.10845249956552859,
                51.48584825965141
               ]
              ]
             ],
             "type": "Polygon"
            },
            "id": "240",
            "properties": {
             "Name": "Newington",
             "type": "Ward"
            },
            "type": "Feature"
           },
           {
            "geometry": {
             "coordinates": [
              [
               [
                -0.10039357612696535,
                51.49333829970621
               ],
               [
                -0.10052037982479228,
                51.493476141685214
               ],
               [
                -0.10061082314105001,
                51.49369163003724
               ],
               [
                -0.10067763962912316,
                51.49444089482624
               ],
               [
                -0.10068578385725281,
                51.49469551670063
               ],
               [
                -0.10047238123483608,
                51.4947693963514
               ],
               [
                -0.10033135201001232,
                51.49480038440235
               ],
               [
                -0.09986421737474269,
                51.495051802490565
               ],
               [
                -0.09984088373546457,
                51.49505861847049
               ],
               [
                -0.09982925428491381,
                51.49506112780635
               ],
               [
                -0.09978709284461917,
                51.49507033647065
               ],
               [
                -0.0996613185490433,
                51.49508088797913
               ],
               [
                -0.09953584321862766,
                51.4950842501348
               ],
               [
                -0.09933034459990235,
                51.49507192705549
               ],
               [
                -0.09906660490086032,
                51.495039775121505
               ],
               [
                -0.09862990024042902,
                51.4949751427876
               ],
               [
                -0.0979799411028582,
                51.49484230358014
               ],
               [
                -0.0961259814042455,
                51.49445881034035
               ],
               [
                -0.09575452005326046,
                51.49438443534981
               ],
               [
                -0.0954343625692641,
                51.494323482037814
               ],
               [
                -0.09515561829885662,
                51.49427129387669
               ],
               [
                -0.09494128365300233,
                51.49422914401007
               ],
               [
                -0.09472676205786933,
                51.49419148700436
               ],
               [
                -0.09451474534446969,
                51.494162862891656
               ],
               [
                -0.09435687279931217,
                51.49414860714866
               ],
               [
                -0.09424325418338743,
                51.49414406297295
               ],
               [
                -0.09423317674915828,
                51.4941438992007
               ],
               [
                -0.09402586955182791,
                51.494140529979404
               ],
               [
                -0.09360224255368217,
                51.49414263650749
               ],
               [
                -0.08940440352535911,
                51.494209206687316
               ],
               [
                -0.08673572594729748,
                51.494225047632845
               ],
               [
                -0.08635773371540766,
                51.49416942064955
               ],
               [
                -0.08597341928971212,
                51.49412717814519
               ],
               [
                -0.08575310985402802,
                51.494090309456524
               ],
               [
                -0.0856176632632022,
                51.49405662428507
               ],
               [
                -0.08547687256361475,
                51.49401295985034
               ],
               [
                -0.08531236170111033,
                51.49395092275947
               ],
               [
                -0.08519608279704918,
                51.49390675893946
               ],
               [
                -0.08482908908821686,
                51.493726309473715
               ],
               [
                -0.08468427444256454,
                51.49364121240339
               ],
               [
                -0.08455408242505662,
                51.49355095843924
               ],
               [
                -0.08398235976986448,
                51.492996666915786
               ],
               [
                -0.08112828635902562,
                51.490773788822175
               ],
               [
                -0.08077306027974977,
                51.49048560759679
               ],
               [
                -0.08061632169583442,
                51.490341858243674
               ],
               [
                -0.0805018305743676,
                51.490255453665014
               ],
               [
                -0.08035051694164436,
                51.49015405800232
               ],
               [
                -0.08018731052606308,
                51.49006146004091
               ],
               [
                -0.07997982037889058,
                51.489960043421426
               ],
               [
                -0.07800508254763686,
                51.4888944420041
               ],
               [
                -0.07797686035329313,
                51.48888049050173
               ],
               [
                -0.0763759505410267,
                51.488072780972665
               ],
               [
                -0.076218479519495,
                51.48798117071032
               ],
               [
                -0.07598793727458115,
                51.487846096004496
               ],
               [
                -0.07568015821768176,
                51.48766389100653
               ],
               [
                -0.0752842736593115,
                51.48745326119162
               ],
               [
                -0.0749069924619982,
                51.487279805165606
               ],
               [
                -0.07451403223078351,
                51.48710249339616
               ],
               [
                -0.07419808319049265,
                51.486977703030014
               ],
               [
                -0.07348274402001978,
                51.486691677613614
               ],
               [
                -0.07252442677552677,
                51.486327015234515
               ],
               [
                -0.07040697529959655,
                51.48557907470496
               ],
               [
                -0.06927576197403491,
                51.485182763695406
               ],
               [
                -0.06879519500605219,
                51.485000392864144
               ],
               [
                -0.06795690389331423,
                51.484660150923574
               ],
               [
                -0.06772745816033468,
                51.484568242345915
               ],
               [
                -0.06796016111853614,
                51.48434456325665
               ],
               [
                -0.06816581115206125,
                51.484181587900544
               ],
               [
                -0.06827853978656964,
                51.484104309928426
               ],
               [
                -0.06843717724002636,
                51.483997213167754
               ],
               [
                -0.06857944656932205,
                51.48393660826413
               ],
               [
                -0.06871974468064328,
                51.48388856040525
               ],
               [
                -0.06886382884885811,
                51.48385316441646
               ],
               [
                -0.06901582723687288,
                51.48383498458127
               ],
               [
                -0.06922543495474012,
                51.48381685391089
               ],
               [
                -0.06954181540858528,
                51.48379418593368
               ],
               [
                -0.07022521601770404,
                51.48374338600748
               ],
               [
                -0.07067995658224085,
                51.483718495661435
               ],
               [
                -0.07067969165852132,
                51.48307641759541
               ],
               [
                -0.07136766362301723,
                51.48301939144973
               ],
               [
                -0.0719958282542872,
                51.48298026241326
               ],
               [
                -0.07219028217726768,
                51.48291151858152
               ],
               [
                -0.07224005080836328,
                51.482892553039434
               ],
               [
                -0.07224592154360635,
                51.48288995176966
               ],
               [
                -0.07223967268191746,
                51.48286736746492
               ],
               [
                -0.07221937318065796,
                51.48280228680515
               ],
               [
                -0.07230345647670056,
                51.482789280970266
               ],
               [
                -0.07224107912451207,
                51.48266325793285
               ],
               [
                -0.07258491036458724,
                51.48260416332493
               ],
               [
                -0.07260665070307924,
                51.48260092363395
               ],
               [
                -0.07260240815443594,
                51.4826332273566
               ],
               [
                -0.07263365493129652,
                51.482643632864615
               ],
               [
                -0.07271447896517551,
                51.48274208174459
               ],
               [
                -0.07295142623144496,
                51.482724393811885
               ],
               [
                -0.07353955162835923,
                51.48267830365642
               ],
               [
                -0.07396958561009306,
                51.48265839026895
               ],
               [
                -0.07398651405336329,
                51.482530073779124
               ],
               [
                -0.0740702556269682,
                51.48252515443242
               ],
               [
                -0.07407150504486715,
                51.482495499287886
               ],
               [
                -0.07406528950982519,
                51.48223281250733
               ],
               [
                -0.0741749368755436,
                51.48222831859278
               ],
               [
                -0.07516532190688464,
                51.48217174044459
               ],
               [
                -0.07562443801222227,
                51.4821451043176
               ],
               [
                -0.07565532059558494,
                51.482437871453214
               ],
               [
                -0.07580254012463866,
                51.48243039557587
               ],
               [
                -0.07573984201270753,
                51.48214070341782
               ],
               [
                -0.0766079638712402,
                51.48208030806393
               ],
               [
                -0.07740503183469767,
                51.48203133093758
               ],
               [
                -0.0786366684169652,
                51.48195709668295
               ],
               [
                -0.07936923110854702,
                51.481900754373804
               ],
               [
                -0.0809682755738209,
                51.48178844935913
               ],
               [
                -0.08101027740604813,
                51.481782841932606
               ],
               [
                -0.08105549980561279,
                51.48200929676174
               ],
               [
                -0.08110026714503621,
                51.48200643234651
               ],
               [
                -0.08112142050689208,
                51.482120085514836
               ],
               [
                -0.08113248760927354,
                51.48216522971849
               ],
               [
                -0.08117054072687208,
                51.482322324001366
               ],
               [
                -0.08123345627959919,
                51.482573348340544
               ],
               [
                -0.08116179819932264,
                51.48280508450581
               ],
               [
                -0.08116601447927908,
                51.482876195180054
               ],
               [
                -0.08118360497603391,
                51.48297180478007
               ],
               [
                -0.07973518063638421,
                51.4830290269468
               ],
               [
                -0.07979777277471034,
                51.48318472501947
               ],
               [
                -0.07986572559108669,
                51.483212815656884
               ],
               [
                -0.07991917246890029,
                51.48324336650513
               ],
               [
                -0.07998970203946443,
                51.48327869335838
               ],
               [
                -0.08008235162356228,
                51.48357606753339
               ],
               [
                -0.08017583777392259,
                51.48388784349869
               ],
               [
                -0.08023503062623809,
                51.48409024725277
               ],
               [
                -0.08036030870372446,
                51.48422808677797
               ],
               [
                -0.08052977520090611,
                51.484274025575566
               ],
               [
                -0.08066511361285118,
                51.484309513626165
               ],
               [
                -0.08072333303238911,
                51.48432935107211
               ],
               [
                -0.08067585198685501,
                51.48443108971079
               ],
               [
                -0.08066608948469191,
                51.48449207970027
               ],
               [
                -0.08065939426646952,
                51.48454862358778
               ],
               [
                -0.08068638573013154,
                51.48469474576658
               ],
               [
                -0.08078301063446397,
                51.48517203664246
               ],
               [
                -0.0808253717664809,
                51.485260857599286
               ],
               [
                -0.08089614822986664,
                51.4853933081478
               ],
               [
                -0.08104492550552164,
                51.485589084203525
               ],
               [
                -0.08075555651631958,
                51.48568866260664
               ],
               [
                -0.08016260990781068,
                51.48588308834846
               ],
               [
                -0.08040279838610893,
                51.486165791647714
               ],
               [
                -0.08054217433545993,
                51.48631105577702
               ],
               [
                -0.08083050302169005,
                51.486545086795324
               ],
               [
                -0.0810986454524666,
                51.48677968600285
               ],
               [
                -0.08139845737991586,
                51.487014802750124
               ],
               [
                -0.08152919661500763,
                51.48712575241701
               ],
               [
                -0.0816658826944452,
                51.48723230291521
               ],
               [
                -0.08192130496921737,
                51.4874612965028
               ],
               [
                -0.08249410655976237,
                51.487232360493756
               ],
               [
                -0.08285774426262121,
                51.4870449652273
               ],
               [
                -0.08312002218977686,
                51.487247989699
               ],
               [
                -0.08297871065528782,
                51.48732031822171
               ],
               [
                -0.08315609561874837,
                51.48748688352582
               ],
               [
                -0.0832902238963906,
                51.48765454001865
               ],
               [
                -0.08365344834440475,
                51.48816406262771
               ],
               [
                -0.08371529162170724,
                51.48826938752735
               ],
               [
                -0.08381619622464767,
                51.48840502630455
               ],
               [
                -0.08409759940132777,
                51.48870188410115
               ],
               [
                -0.08403877803211167,
                51.48873059862346
               ],
               [
                -0.08437857040310733,
                51.4890778690511
               ],
               [
                -0.08446254090059375,
                51.489033378495705
               ],
               [
                -0.08502717767199895,
                51.48944636867963
               ],
               [
                -0.0852330666861299,
                51.48962059025939
               ],
               [
                -0.08569886754713862,
                51.48953916855658
               ],
               [
                -0.08614818333992784,
                51.489438591493546
               ],
               [
                -0.08662844103143374,
                51.48932143165645
               ],
               [
                -0.08671865858711823,
                51.48940293785597
               ],
               [
                -0.08677155294731252,
                51.489446965366966
               ],
               [
                -0.0868294053873085,
                51.48947578632287
               ],
               [
                -0.08689380581445252,
                51.489485829615106
               ],
               [
                -0.08696695600787886,
                51.4894933178359
               ],
               [
                -0.08768968847070147,
                51.48950240852953
               ],
               [
                -0.08891204616863642,
                51.48955111254783
               ],
               [
                -0.08913167445308642,
                51.489534908006476
               ],
               [
                -0.08940963332369838,
                51.48950166826448
               ],
               [
                -0.0911148010774304,
                51.48909599535049
               ],
               [
                -0.09131554995177157,
                51.48904890456935
               ],
               [
                -0.09161572085849778,
                51.48896656188133
               ],
               [
                -0.09247814939632122,
                51.48870002527078
               ],
               [
                -0.0940854139663052,
                51.48811915969343
               ],
               [
                -0.09424751548702635,
                51.48806604020862
               ],
               [
                -0.09455838780207161,
                51.4879685765499
               ],
               [
                -0.09482510174389665,
                51.487893775376456
               ],
               [
                -0.09526888652073308,
                51.48778677885452
               ],
               [
                -0.09548788877433267,
                51.48775076858496
               ],
               [
                -0.09552994386813242,
                51.487847672370414
               ],
               [
                -0.09589853297555406,
                51.488508318868384
               ],
               [
                -0.09631721480461879,
                51.48917697138069
               ],
               [
                -0.09661854630075752,
                51.48975828792497
               ],
               [
                -0.09679071389605391,
                51.490051542997385
               ],
               [
                -0.09699341286537312,
                51.49033809919829
               ],
               [
                -0.09807665934897092,
                51.49193027534586
               ],
               [
                -0.09835724186449675,
                51.49231880910955
               ],
               [
                -0.09841426378436909,
                51.49240246556317
               ],
               [
                -0.09858340507866398,
                51.49266509389791
               ],
               [
                -0.09873600213526582,
                51.492875296752345
               ],
               [
                -0.098853619638953,
                51.492991409446006
               ],
               [
                -0.09906374628613557,
                51.49310002907452
               ],
               [
                -0.09936456925657317,
                51.493210118337416
               ],
               [
                -0.09953143369206105,
                51.49325059155885
               ],
               [
                -0.09993291770581421,
                51.49329576554959
               ],
               [
                -0.10039357612696535,
                51.49333829970621
               ]
              ]
             ],
             "type": "Polygon"
            },
            "id": "242",
            "properties": {
             "Name": "East Walworth",
             "type": "Ward"
            },
            "type": "Feature"
           },
           {
            "geometry": {
             "coordinates": [
              [
               [
                -0.09982925428491381,
                51.49506112780635
               ],
               [
                -0.09984088373546457,
                51.49505861847049
               ],
               [
                -0.09986421737474269,
                51.495051802490565
               ],
               [
                -0.10033135201001232,
                51.49480038440235
               ],
               [
                -0.10047238123483608,
                51.4947693963514
               ],
               [
                -0.10068578385725281,
                51.49469551670063
               ],
               [
                -0.10067763962912316,
                51.49444089482624
               ],
               [
                -0.10061082314105001,
                51.49369163003724
               ],
               [
                -0.10052037982479228,
                51.493476141685214
               ],
               [
                -0.10039357612696535,
                51.49333829970621
               ],
               [
                -0.10077823881834386,
                51.49306036467609
               ],
               [
                -0.10090035733961984,
                51.49296432328372
               ],
               [
                -0.10099460012435163,
                51.49288041996495
               ],
               [
                -0.10112148461345374,
                51.49277366442819
               ],
               [
                -0.10126885886731332,
                51.49265914719686
               ],
               [
                -0.10144938026550682,
                51.49254426718311
               ],
               [
                -0.10153519119058739,
                51.49248990243755
               ],
               [
                -0.10182309418715833,
                51.492286834439795
               ],
               [
                -0.10250683855843436,
                51.49184827115773
               ],
               [
                -0.10255492565643606,
                51.49186973218451
               ],
               [
                -0.1027319055192929,
                51.4917359084966
               ],
               [
                -0.1027986633008331,
                51.49168932789261
               ],
               [
                -0.1029318800065308,
                51.49160335580104
               ],
               [
                -0.10307210748528482,
                51.49152199325859
               ],
               [
                -0.10315621389193141,
                51.49147389457332
               ],
               [
                -0.10352741822555443,
                51.49169302257198
               ],
               [
                -0.10340568159280597,
                51.49178008026514
               ],
               [
                -0.10358289013425877,
                51.491883663086966
               ],
               [
                -0.10371214606179176,
                51.491997261305706
               ],
               [
                -0.10373162885927505,
                51.49201376299766
               ],
               [
                -0.10388332085317808,
                51.49196855519167
               ],
               [
                -0.1039430890803685,
                51.49195153643356
               ],
               [
                -0.10410508565687791,
                51.4922482129118
               ],
               [
                -0.10425731977847649,
                51.49250246620799
               ],
               [
                -0.10440055945692919,
                51.49273049542127
               ],
               [
                -0.1045190432309253,
                51.49293024731027
               ],
               [
                -0.10469904935340088,
                51.49307074316491
               ],
               [
                -0.1047938911205283,
                51.4933195718074
               ],
               [
                -0.10488691211842827,
                51.49350812068119
               ],
               [
                -0.10489620680543299,
                51.49352715529565
               ],
               [
                -0.10533777138443569,
                51.49361342502179
               ],
               [
                -0.10574205632901035,
                51.49369549386209
               ],
               [
                -0.10715897775627574,
                51.49416260623211
               ],
               [
                -0.1093994319965454,
                51.49495592245354
               ],
               [
                -0.11050735353541181,
                51.49537214966768
               ],
               [
                -0.11058431619363762,
                51.49539227408101
               ],
               [
                -0.11066438124942328,
                51.4954070528868
               ],
               [
                -0.1108135513589817,
                51.49542294492288
               ],
               [
                -0.11095735292521476,
                51.495499000475924
               ],
               [
                -0.11097287372576113,
                51.49557658655134
               ],
               [
                -0.11144254746512167,
                51.4964474374166
               ],
               [
                -0.1102950670422191,
                51.49677786398952
               ],
               [
                -0.11030387161691212,
                51.496843651583816
               ],
               [
                -0.11029537206893777,
                51.49687498859665
               ],
               [
                -0.10951625092148543,
                51.49836508869022
               ],
               [
                -0.10952012403293171,
                51.4983759422018
               ],
               [
                -0.10947043350117902,
                51.49849744001436
               ],
               [
                -0.10912107902325385,
                51.49910599965149
               ],
               [
                -0.10835358998656361,
                51.500348084815634
               ],
               [
                -0.10822798018719702,
                51.50049353665954
               ],
               [
                -0.108188832345179,
                51.50053427093606
               ],
               [
                -0.10784650130939549,
                51.500798524980375
               ],
               [
                -0.10682576526420445,
                51.50157879261179
               ],
               [
                -0.10670400798469967,
                51.501665853384665
               ],
               [
                -0.10652730078274115,
                51.50158386594648
               ],
               [
                -0.10598659161293308,
                51.5020103746824
               ],
               [
                -0.10594766401986572,
                51.502045716240254
               ],
               [
                -0.10611550900918869,
                51.50213295696395
               ],
               [
                -0.10608688422944712,
                51.502163069409654
               ],
               [
                -0.1060649745350418,
                51.50220498062319
               ],
               [
                -0.10605062368269033,
                51.50227309233277
               ],
               [
                -0.10608080886115623,
                51.50241386376169
               ],
               [
                -0.10613681393100356,
                51.502522678920045
               ],
               [
                -0.10675154505238152,
                51.50222236109209
               ],
               [
                -0.10745797079436736,
                51.50301251880218
               ],
               [
                -0.10639557477687159,
                51.50337125869268
               ],
               [
                -0.10651842504918632,
                51.503640321228694
               ],
               [
                -0.10651986499210109,
                51.503640344477034
               ],
               [
                -0.10659954138844759,
                51.50404719524765
               ],
               [
                -0.10656645710977307,
                51.50425438920867
               ],
               [
                -0.10654561424396541,
                51.504305310283875
               ],
               [
                -0.1064671210186196,
                51.504495584471854
               ],
               [
                -0.1064346318358312,
                51.50468839990275
               ],
               [
                -0.10643454275995781,
                51.50482958161949
               ],
               [
                -0.10646568628512965,
                51.504982058675076
               ],
               [
                -0.10659266193203164,
                51.50529075489501
               ],
               [
                -0.10659683290814297,
                51.50529441925582
               ],
               [
                -0.10736358808962565,
                51.50706394074263
               ],
               [
                -0.1081755379904773,
                51.50690888016479
               ],
               [
                -0.1082449604320964,
                51.50700711954716
               ],
               [
                -0.10829093287574919,
                51.50711487245271
               ],
               [
                -0.10840636873640755,
                51.50742427962032
               ],
               [
                -0.10842444535823208,
                51.5074749294606
               ],
               [
                -0.10850636327179532,
                51.50775861675968
               ],
               [
                -0.10859306546781584,
                51.50775282100354
               ],
               [
                -0.1087996771260954,
                51.50770489532311
               ],
               [
                -0.10886233341493629,
                51.5080710032094
               ],
               [
                -0.10892152618958147,
                51.50841637232522
               ],
               [
                -0.10892484178994048,
                51.50844070567067
               ],
               [
                -0.10914066949644953,
                51.509632101180614
               ],
               [
                -0.10917879143074982,
                51.5098251563008
               ],
               [
                -0.10918841497975494,
                51.50987117344124
               ],
               [
                -0.10849462771150181,
                51.5098860647375
               ],
               [
                -0.10792184920918808,
                51.50990200491337
               ],
               [
                -0.10735971002134642,
                51.50990462515876
               ],
               [
                -0.10698626653803923,
                51.5099093892486
               ],
               [
                -0.10651223671987753,
                51.50990713274131
               ],
               [
                -0.10558789061560836,
                51.50988681041544
               ],
               [
                -0.10517911492230786,
                51.509874811447425
               ],
               [
                -0.1046401676522966,
                51.50987419631244
               ],
               [
                -0.10465723747365556,
                51.50967124047485
               ],
               [
                -0.10466159516421288,
                51.50967041164152
               ],
               [
                -0.10477223856636211,
                51.509643423458535
               ],
               [
                -0.10475024071712036,
                51.50961788883566
               ],
               [
                -0.10474337571783345,
                51.509609684602026
               ],
               [
                -0.10465996009227431,
                51.50960563883656
               ],
               [
                -0.1046572120984074,
                51.5094635120882
               ],
               [
                -0.1046888895551603,
                51.50911691144252
               ],
               [
                -0.1047642603007832,
                51.50910643910572
               ],
               [
                -0.10474314341365981,
                51.50909440754429
               ],
               [
                -0.10468256115880246,
                51.50906105534101
               ],
               [
                -0.10468442590157312,
                51.50901612270679
               ],
               [
                -0.10470216364621582,
                51.50862343473899
               ],
               [
                -0.1047418810887772,
                51.50856922199117
               ],
               [
                -0.10473427610101198,
                51.5084746772739
               ],
               [
                -0.10468799808021681,
                51.508409183023005
               ],
               [
                -0.10420463487979918,
                51.508423852113786
               ],
               [
                -0.10420589627221825,
                51.508497611455695
               ],
               [
                -0.10423534802250302,
                51.50862128552547
               ],
               [
                -0.10422341783546774,
                51.50880454080108
               ],
               [
                -0.10421342040281673,
                51.50904537966053
               ],
               [
                -0.10408918292147701,
                51.509087434902305
               ],
               [
                -0.10419657973593399,
                51.509138630006724
               ],
               [
                -0.10420422257285102,
                51.509579388690184
               ],
               [
                -0.10405804590476846,
                51.5096291825693
               ],
               [
                -0.10403736177287305,
                51.50964143777284
               ],
               [
                -0.10418317318484381,
                51.509669873231054
               ],
               [
                -0.1041798832247599,
                51.50985326813973
               ],
               [
                -0.10361357375308088,
                51.50985220598438
               ],
               [
                -0.10330085574678242,
                51.50981747370962
               ],
               [
                -0.10158782687557748,
                51.509806844002526
               ],
               [
                -0.10021061011628948,
                51.50972609184623
               ],
               [
                -0.09995179811574614,
                51.509712007419544
               ],
               [
                -0.09931645820170967,
                51.50967293664655
               ],
               [
                -0.09854539264457293,
                51.50960558361557
               ],
               [
                -0.09773271569869145,
                51.5095339535641
               ],
               [
                -0.09685007483994051,
                51.509446794474336
               ],
               [
                -0.09601612273775798,
                51.509332542202465
               ],
               [
                -0.09572989868569691,
                51.50928473092916
               ],
               [
                -0.09530423105373345,
                51.50919418789243
               ],
               [
                -0.09494901785443909,
                51.50910748550393
               ],
               [
                -0.09401396265156806,
                51.50889535615819
               ],
               [
                -0.09317084269075475,
                51.508655937848246
               ],
               [
                -0.0928234762761636,
                51.50855406917292
               ],
               [
                -0.0926509147304088,
                51.50851079637006
               ],
               [
                -0.09236109249195422,
                51.50844583241376
               ],
               [
                -0.0919281266091325,
                51.50835785607879
               ],
               [
                -0.09110497694920645,
                51.50826172954085
               ],
               [
                -0.09032677374448368,
                51.508159135009734
               ],
               [
                -0.0895027291122539,
                51.50808456477695
               ],
               [
                -0.08906406099928638,
                51.50802975743655
               ],
               [
                -0.08896946783367146,
                51.508017425037686
               ],
               [
                -0.08862350260407371,
                51.5079857087297
               ],
               [
                -0.08809858329222048,
                51.50792589502498
               ],
               [
                -0.08775739112702219,
                51.507883462872186
               ],
               [
                -0.08804258308643846,
                51.50709496738994
               ],
               [
                -0.08812575742633742,
                51.50682924380465
               ],
               [
                -0.08826389347685877,
                51.50648977769889
               ],
               [
                -0.08834618410635671,
                51.50631396530915
               ],
               [
                -0.08839496175604745,
                51.50621584203364
               ],
               [
                -0.08854091238367343,
                51.506033873064126
               ],
               [
                -0.088702976052768,
                51.50588004349952
               ],
               [
                -0.08885450744323051,
                51.505736833174666
               ],
               [
                -0.08902857767933353,
                51.50557150847165
               ],
               [
                -0.08946256365984816,
                51.505186502835514
               ],
               [
                -0.08985413060178941,
                51.50488533494908
               ],
               [
                -0.09095185833712632,
                51.504133444394284
               ],
               [
                -0.0909893592805586,
                51.50409808452623
               ],
               [
                -0.09115599044719835,
                51.50393803115959
               ],
               [
                -0.09156600082991805,
                51.50347079515019
               ],
               [
                -0.09166470187596784,
                51.50335010222193
               ],
               [
                -0.09206444500838044,
                51.502817950863424
               ],
               [
                -0.0921239417895245,
                51.502738884852484
               ],
               [
                -0.09266996108302708,
                51.501808941324995
               ],
               [
                -0.09289792428708187,
                51.50155995720692
               ],
               [
                -0.0931015343164116,
                51.50134205069026
               ],
               [
                -0.09325982330602066,
                51.50120883645764
               ],
               [
                -0.09351527926900235,
                51.501025943968585
               ],
               [
                -0.09373536681177208,
                51.50089643149598
               ],
               [
                -0.09395105859215294,
                51.500768645686456
               ],
               [
                -0.09446810096209537,
                51.500497378858434
               ],
               [
                -0.09516276593172393,
                51.50014716252596
               ],
               [
                -0.09517454680870696,
                51.50014105907459
               ],
               [
                -0.09566614516050218,
                51.499857683390104
               ],
               [
                -0.09601403133659393,
                51.499669092345854
               ],
               [
                -0.0966106533103478,
                51.49931997348349
               ],
               [
                -0.09670353207155544,
                51.49926932396692
               ],
               [
                -0.0968173539294583,
                51.49920012984801
               ],
               [
                -0.09699310662481316,
                51.499096869552915
               ],
               [
                -0.09726240969891083,
                51.498926783303006
               ],
               [
                -0.09726983319523463,
                51.49892150820272
               ],
               [
                -0.09756744521746402,
                51.49869432807772
               ],
               [
                -0.09790536924044663,
                51.49839855821713
               ],
               [
                -0.09824040933933205,
                51.49810274062708
               ],
               [
                -0.09869616012027474,
                51.497675789088554
               ],
               [
                -0.09917860269510803,
                51.49723038403507
               ],
               [
                -0.09944180833511203,
                51.496963973441886
               ],
               [
                -0.09969480130894293,
                51.49666592275635
               ],
               [
                -0.09998742247803645,
                51.496107728864715
               ],
               [
                -0.10010031070817238,
                51.49588744117781
               ],
               [
                -0.1000909013063169,
                51.495732616404204
               ],
               [
                -0.10004237659786783,
                51.49554838165078
               ],
               [
                -0.09999209592454218,
                51.49540638353625
               ],
               [
                -0.09988678761317153,
                51.49516727320497
               ],
               [
                -0.09982925428491381,
                51.49506112780635
               ]
              ]
             ],
             "type": "Polygon"
            },
            "id": "245",
            "properties": {
             "Name": "Cathedrals",
             "type": "Ward"
            },
            "type": "Feature"
           },
           {
            "geometry": {
             "coordinates": [
              [
               [
                -0.08531236170111033,
                51.49395092275947
               ],
               [
                -0.08547687256361475,
                51.49401295985034
               ],
               [
                -0.0856176632632022,
                51.49405662428507
               ],
               [
                -0.08575310985402802,
                51.494090309456524
               ],
               [
                -0.08597341928971212,
                51.49412717814519
               ],
               [
                -0.08635773371540766,
                51.49416942064955
               ],
               [
                -0.08673572594729748,
                51.494225047632845
               ],
               [
                -0.08940440352535911,
                51.494209206687316
               ],
               [
                -0.09360224255368217,
                51.49414263650749
               ],
               [
                -0.09402586955182791,
                51.494140529979404
               ],
               [
                -0.09423317674915828,
                51.4941438992007
               ],
               [
                -0.09424325418338743,
                51.49414406297295
               ],
               [
                -0.09435687279931217,
                51.49414860714866
               ],
               [
                -0.09451474534446969,
                51.494162862891656
               ],
               [
                -0.09472676205786933,
                51.49419148700436
               ],
               [
                -0.09494128365300233,
                51.49422914401007
               ],
               [
                -0.09515561829885662,
                51.49427129387669
               ],
               [
                -0.0954343625692641,
                51.494323482037814
               ],
               [
                -0.09575452005326046,
                51.49438443534981
               ],
               [
                -0.0961259814042455,
                51.49445881034035
               ],
               [
                -0.0979799411028582,
                51.49484230358014
               ],
               [
                -0.09862990024042902,
                51.4949751427876
               ],
               [
                -0.09906660490086032,
                51.495039775121505
               ],
               [
                -0.09933034459990235,
                51.49507192705549
               ],
               [
                -0.09953584321862766,
                51.4950842501348
               ],
               [
                -0.0996613185490433,
                51.49508088797913
               ],
               [
                -0.09978709284461917,
                51.49507033647065
               ],
               [
                -0.09982925428491381,
                51.49506112780635
               ],
               [
                -0.09988678761317153,
                51.49516727320497
               ],
               [
                -0.09999209592454218,
                51.49540638353625
               ],
               [
                -0.10004237659786783,
                51.49554838165078
               ],
               [
                -0.1000909013063169,
                51.495732616404204
               ],
               [
                -0.10010031070817238,
                51.49588744117781
               ],
               [
                -0.09998742247803645,
                51.496107728864715
               ],
               [
                -0.09969480130894293,
                51.49666592275635
               ],
               [
                -0.09944180833511203,
                51.496963973441886
               ],
               [
                -0.09917860269510803,
                51.49723038403507
               ],
               [
                -0.09869616012027474,
                51.497675789088554
               ],
               [
                -0.09824040933933205,
                51.49810274062708
               ],
               [
                -0.09790536924044663,
                51.49839855821713
               ],
               [
                -0.09756744521746402,
                51.49869432807772
               ],
               [
                -0.09726983319523463,
                51.49892150820272
               ],
               [
                -0.09726240969891083,
                51.498926783303006
               ],
               [
                -0.09699310662481316,
                51.499096869552915
               ],
               [
                -0.0968173539294583,
                51.49920012984801
               ],
               [
                -0.09670353207155544,
                51.49926932396692
               ],
               [
                -0.0966106533103478,
                51.49931997348349
               ],
               [
                -0.09601403133659393,
                51.499669092345854
               ],
               [
                -0.09566614516050218,
                51.499857683390104
               ],
               [
                -0.09517454680870696,
                51.50014105907459
               ],
               [
                -0.09516276593172393,
                51.50014716252596
               ],
               [
                -0.09446810096209537,
                51.500497378858434
               ],
               [
                -0.09395105859215294,
                51.500768645686456
               ],
               [
                -0.09373536681177208,
                51.50089643149598
               ],
               [
                -0.09351527926900235,
                51.501025943968585
               ],
               [
                -0.09325982330602066,
                51.50120883645764
               ],
               [
                -0.0931015343164116,
                51.50134205069026
               ],
               [
                -0.09289792428708187,
                51.50155995720692
               ],
               [
                -0.09266996108302708,
                51.501808941324995
               ],
               [
                -0.0921239417895245,
                51.502738884852484
               ],
               [
                -0.09206444500838044,
                51.502817950863424
               ],
               [
                -0.09166470187596784,
                51.50335010222193
               ],
               [
                -0.09156600082991805,
                51.50347079515019
               ],
               [
                -0.09115599044719835,
                51.50393803115959
               ],
               [
                -0.0909893592805586,
                51.50409808452623
               ],
               [
                -0.09095185833712632,
                51.504133444394284
               ],
               [
                -0.08985413060178941,
                51.50488533494908
               ],
               [
                -0.08946256365984816,
                51.505186502835514
               ],
               [
                -0.08777302215619587,
                51.50455016925797
               ],
               [
                -0.08723566099465478,
                51.50430669990256
               ],
               [
                -0.08746252744980118,
                51.504050514247965
               ],
               [
                -0.08752609023200032,
                51.503977811643345
               ],
               [
                -0.08753262994579138,
                51.50392486206143
               ],
               [
                -0.08761596503826537,
                51.503827302613544
               ],
               [
                -0.08765296891735876,
                51.503769454239546
               ],
               [
                -0.08788532667227886,
                51.503519652125085
               ],
               [
                -0.08796335196818593,
                51.503411214762735
               ],
               [
                -0.08800811887985273,
                51.50334000397184
               ],
               [
                -0.08811617246604665,
                51.50316820873947
               ],
               [
                -0.08820243856023613,
                51.50300055452692
               ],
               [
                -0.08824373927338597,
                51.50287443239406
               ],
               [
                -0.08831536890389047,
                51.50267776323971
               ],
               [
                -0.08833575832809261,
                51.50256928536257
               ],
               [
                -0.08827061386957058,
                51.5025421449605
               ],
               [
                -0.08823529351821797,
                51.50252538254348
               ],
               [
                -0.0881817435369701,
                51.50249663258155
               ],
               [
                -0.0881594737665533,
                51.50240904149107
               ],
               [
                -0.08807411816780257,
                51.50221071242215
               ],
               [
                -0.08839660342692715,
                51.50218269687548
               ],
               [
                -0.08847297055585894,
                51.50211379950639
               ],
               [
                -0.08859804566934425,
                51.50198274788799
               ],
               [
                -0.08869061568614656,
                51.501870950065005
               ],
               [
                -0.0887626135002178,
                51.50176870874484
               ],
               [
                -0.08888981853505833,
                51.501552261996395
               ],
               [
                -0.0889501348537133,
                51.5014192554177
               ],
               [
                -0.0890320145846014,
                51.50118408473789
               ],
               [
                -0.08919452784935089,
                51.50084681312394
               ],
               [
                -0.08926875203158388,
                51.500725723343834
               ],
               [
                -0.0889129545812502,
                51.50058593632463
               ],
               [
                -0.08722928097481127,
                51.49984807279235
               ],
               [
                -0.08592868966039471,
                51.499287297019855
               ],
               [
                -0.08541118004840599,
                51.499053135273414
               ],
               [
                -0.08484839413658117,
                51.49879934736625
               ],
               [
                -0.08445867385957999,
                51.49864460447001
               ],
               [
                -0.08401723788039267,
                51.498486317558786
               ],
               [
                -0.08352427533727921,
                51.498319992838354
               ],
               [
                -0.08313544489354435,
                51.498212920769234
               ],
               [
                -0.08281637882577485,
                51.498160044257084
               ],
               [
                -0.08254691268773424,
                51.49812686232154
               ],
               [
                -0.08214468212008856,
                51.49806453081372
               ],
               [
                -0.08156262975290993,
                51.497961487437685
               ],
               [
                -0.08134772500416755,
                51.49793279233067
               ],
               [
                -0.07979922106768618,
                51.497720401131424
               ],
               [
                -0.07989123701228862,
                51.49762208993423
               ],
               [
                -0.07997681386895858,
                51.49753985991839
               ],
               [
                -0.0801618070330276,
                51.497457458916124
               ],
               [
                -0.0803853650603774,
                51.49734871111158
               ],
               [
                -0.08048231228138594,
                51.49730443576783
               ],
               [
                -0.08088029055066502,
                51.49712480256939
               ],
               [
                -0.08181902062353981,
                51.496693229038485
               ],
               [
                -0.08203158773214539,
                51.496605880581335
               ],
               [
                -0.08223918735031478,
                51.49649956605228
               ],
               [
                -0.08243125109132209,
                51.49638580304234
               ],
               [
                -0.08260599987574152,
                51.4962726558762
               ],
               [
                -0.08278225612715115,
                51.49612356270941
               ],
               [
                -0.08295767481466469,
                51.49596006743348
               ],
               [
                -0.0830994588775989,
                51.49584278360952
               ],
               [
                -0.08347355867871271,
                51.49554494835442
               ],
               [
                -0.08368246925980494,
                51.49540717863572
               ],
               [
                -0.08386918070411845,
                51.49528343397871
               ],
               [
                -0.08425995174887516,
                51.49503442867227
               ],
               [
                -0.08484940227809828,
                51.49468525210604
               ],
               [
                -0.08504128793755604,
                51.49436914853474
               ],
               [
                -0.08510592425567043,
                51.49423621432335
               ],
               [
                -0.08516776485159994,
                51.494135607774844
               ],
               [
                -0.08531236170111033,
                51.49395092275947
               ]
              ]
             ],
             "type": "Polygon"
            },
            "id": "249",
            "properties": {
             "Name": "Chaucer",
             "type": "Ward"
            },
            "type": "Feature"
           }
          ],
          "type": "FeatureCollection"
         },
         "hovertemplate": "<b>%{hovertext}</b><br><br>type=Ward<br>index=%{location}<extra></extra>",
         "hovertext": [
          "Newington",
          "East Walworth",
          "Cathedrals",
          "Chaucer"
         ],
         "locations": {
          "bdata": "8ADyAPUA+QA=",
          "dtype": "i2"
         },
         "marker": {
          "opacity": 0.5
         },
         "name": "Ward",
         "showlegend": true,
         "showscale": false,
         "subplot": "map",
         "type": "choroplethmap",
         "z": [
          1,
          1,
          1,
          1
         ]
        }
       ],
       "layout": {
        "height": 600,
        "legend": {
         "title": {
          "text": "type"
         },
         "tracegroupgap": 0
        },
        "map": {
         "center": {
          "lat": 51.5072,
          "lon": -0.1276
         },
         "domain": {
          "x": [
           0,
           1
          ],
          "y": [
           0,
           1
          ]
         },
         "style": "open-street-map",
         "zoom": 9
        },
        "mapbox": {
         "center": {
          "lat": 51.5072,
          "lon": -0.1276
         },
         "style": "open-street-map",
         "zoom": 9
        },
        "margin": {
         "t": 60
        },
        "template": {
         "data": {
          "bar": [
           {
            "error_x": {
             "color": "#2a3f5f"
            },
            "error_y": {
             "color": "#2a3f5f"
            },
            "marker": {
             "line": {
              "color": "#E5ECF6",
              "width": 0.5
             },
             "pattern": {
              "fillmode": "overlay",
              "size": 10,
              "solidity": 0.2
             }
            },
            "type": "bar"
           }
          ],
          "barpolar": [
           {
            "marker": {
             "line": {
              "color": "#E5ECF6",
              "width": 0.5
             },
             "pattern": {
              "fillmode": "overlay",
              "size": 10,
              "solidity": 0.2
             }
            },
            "type": "barpolar"
           }
          ],
          "carpet": [
           {
            "aaxis": {
             "endlinecolor": "#2a3f5f",
             "gridcolor": "white",
             "linecolor": "white",
             "minorgridcolor": "white",
             "startlinecolor": "#2a3f5f"
            },
            "baxis": {
             "endlinecolor": "#2a3f5f",
             "gridcolor": "white",
             "linecolor": "white",
             "minorgridcolor": "white",
             "startlinecolor": "#2a3f5f"
            },
            "type": "carpet"
           }
          ],
          "choropleth": [
           {
            "colorbar": {
             "outlinewidth": 0,
             "ticks": ""
            },
            "type": "choropleth"
           }
          ],
          "contour": [
           {
            "colorbar": {
             "outlinewidth": 0,
             "ticks": ""
            },
            "colorscale": [
             [
              0,
              "#0d0887"
             ],
             [
              0.1111111111111111,
              "#46039f"
             ],
             [
              0.2222222222222222,
              "#7201a8"
             ],
             [
              0.3333333333333333,
              "#9c179e"
             ],
             [
              0.4444444444444444,
              "#bd3786"
             ],
             [
              0.5555555555555556,
              "#d8576b"
             ],
             [
              0.6666666666666666,
              "#ed7953"
             ],
             [
              0.7777777777777778,
              "#fb9f3a"
             ],
             [
              0.8888888888888888,
              "#fdca26"
             ],
             [
              1,
              "#f0f921"
             ]
            ],
            "type": "contour"
           }
          ],
          "contourcarpet": [
           {
            "colorbar": {
             "outlinewidth": 0,
             "ticks": ""
            },
            "type": "contourcarpet"
           }
          ],
          "heatmap": [
           {
            "colorbar": {
             "outlinewidth": 0,
             "ticks": ""
            },
            "colorscale": [
             [
              0,
              "#0d0887"
             ],
             [
              0.1111111111111111,
              "#46039f"
             ],
             [
              0.2222222222222222,
              "#7201a8"
             ],
             [
              0.3333333333333333,
              "#9c179e"
             ],
             [
              0.4444444444444444,
              "#bd3786"
             ],
             [
              0.5555555555555556,
              "#d8576b"
             ],
             [
              0.6666666666666666,
              "#ed7953"
             ],
             [
              0.7777777777777778,
              "#fb9f3a"
             ],
             [
              0.8888888888888888,
              "#fdca26"
             ],
             [
              1,
              "#f0f921"
             ]
            ],
            "type": "heatmap"
           }
          ],
          "histogram": [
           {
            "marker": {
             "pattern": {
              "fillmode": "overlay",
              "size": 10,
              "solidity": 0.2
             }
            },
            "type": "histogram"
           }
          ],
          "histogram2d": [
           {
            "colorbar": {
             "outlinewidth": 0,
             "ticks": ""
            },
            "colorscale": [
             [
              0,
              "#0d0887"
             ],
             [
              0.1111111111111111,
              "#46039f"
             ],
             [
              0.2222222222222222,
              "#7201a8"
             ],
             [
              0.3333333333333333,
              "#9c179e"
             ],
             [
              0.4444444444444444,
              "#bd3786"
             ],
             [
              0.5555555555555556,
              "#d8576b"
             ],
             [
              0.6666666666666666,
              "#ed7953"
             ],
             [
              0.7777777777777778,
              "#fb9f3a"
             ],
             [
              0.8888888888888888,
              "#fdca26"
             ],
             [
              1,
              "#f0f921"
             ]
            ],
            "type": "histogram2d"
           }
          ],
          "histogram2dcontour": [
           {
            "colorbar": {
             "outlinewidth": 0,
             "ticks": ""
            },
            "colorscale": [
             [
              0,
              "#0d0887"
             ],
             [
              0.1111111111111111,
              "#46039f"
             ],
             [
              0.2222222222222222,
              "#7201a8"
             ],
             [
              0.3333333333333333,
              "#9c179e"
             ],
             [
              0.4444444444444444,
              "#bd3786"
             ],
             [
              0.5555555555555556,
              "#d8576b"
             ],
             [
              0.6666666666666666,
              "#ed7953"
             ],
             [
              0.7777777777777778,
              "#fb9f3a"
             ],
             [
              0.8888888888888888,
              "#fdca26"
             ],
             [
              1,
              "#f0f921"
             ]
            ],
            "type": "histogram2dcontour"
           }
          ],
          "mesh3d": [
           {
            "colorbar": {
             "outlinewidth": 0,
             "ticks": ""
            },
            "type": "mesh3d"
           }
          ],
          "parcoords": [
           {
            "line": {
             "colorbar": {
              "outlinewidth": 0,
              "ticks": ""
             }
            },
            "type": "parcoords"
           }
          ],
          "pie": [
           {
            "automargin": true,
            "type": "pie"
           }
          ],
          "scatter": [
           {
            "fillpattern": {
             "fillmode": "overlay",
             "size": 10,
             "solidity": 0.2
            },
            "type": "scatter"
           }
          ],
          "scatter3d": [
           {
            "line": {
             "colorbar": {
              "outlinewidth": 0,
              "ticks": ""
             }
            },
            "marker": {
             "colorbar": {
              "outlinewidth": 0,
              "ticks": ""
             }
            },
            "type": "scatter3d"
           }
          ],
          "scattercarpet": [
           {
            "marker": {
             "colorbar": {
              "outlinewidth": 0,
              "ticks": ""
             }
            },
            "type": "scattercarpet"
           }
          ],
          "scattergeo": [
           {
            "marker": {
             "colorbar": {
              "outlinewidth": 0,
              "ticks": ""
             }
            },
            "type": "scattergeo"
           }
          ],
          "scattergl": [
           {
            "marker": {
             "colorbar": {
              "outlinewidth": 0,
              "ticks": ""
             }
            },
            "type": "scattergl"
           }
          ],
          "scattermap": [
           {
            "marker": {
             "colorbar": {
              "outlinewidth": 0,
              "ticks": ""
             }
            },
            "type": "scattermap"
           }
          ],
          "scattermapbox": [
           {
            "marker": {
             "colorbar": {
              "outlinewidth": 0,
              "ticks": ""
             }
            },
            "type": "scattermapbox"
           }
          ],
          "scatterpolar": [
           {
            "marker": {
             "colorbar": {
              "outlinewidth": 0,
              "ticks": ""
             }
            },
            "type": "scatterpolar"
           }
          ],
          "scatterpolargl": [
           {
            "marker": {
             "colorbar": {
              "outlinewidth": 0,
              "ticks": ""
             }
            },
            "type": "scatterpolargl"
           }
          ],
          "scatterternary": [
           {
            "marker": {
             "colorbar": {
              "outlinewidth": 0,
              "ticks": ""
             }
            },
            "type": "scatterternary"
           }
          ],
          "surface": [
           {
            "colorbar": {
             "outlinewidth": 0,
             "ticks": ""
            },
            "colorscale": [
             [
              0,
              "#0d0887"
             ],
             [
              0.1111111111111111,
              "#46039f"
             ],
             [
              0.2222222222222222,
              "#7201a8"
             ],
             [
              0.3333333333333333,
              "#9c179e"
             ],
             [
              0.4444444444444444,
              "#bd3786"
             ],
             [
              0.5555555555555556,
              "#d8576b"
             ],
             [
              0.6666666666666666,
              "#ed7953"
             ],
             [
              0.7777777777777778,
              "#fb9f3a"
             ],
             [
              0.8888888888888888,
              "#fdca26"
             ],
             [
              1,
              "#f0f921"
             ]
            ],
            "type": "surface"
           }
          ],
          "table": [
           {
            "cells": {
             "fill": {
              "color": "#EBF0F8"
             },
             "line": {
              "color": "white"
             }
            },
            "header": {
             "fill": {
              "color": "#C8D4E3"
             },
             "line": {
              "color": "white"
             }
            },
            "type": "table"
           }
          ]
         },
         "layout": {
          "annotationdefaults": {
           "arrowcolor": "#2a3f5f",
           "arrowhead": 0,
           "arrowwidth": 1
          },
          "autotypenumbers": "strict",
          "coloraxis": {
           "colorbar": {
            "outlinewidth": 0,
            "ticks": ""
           }
          },
          "colorscale": {
           "diverging": [
            [
             0,
             "#8e0152"
            ],
            [
             0.1,
             "#c51b7d"
            ],
            [
             0.2,
             "#de77ae"
            ],
            [
             0.3,
             "#f1b6da"
            ],
            [
             0.4,
             "#fde0ef"
            ],
            [
             0.5,
             "#f7f7f7"
            ],
            [
             0.6,
             "#e6f5d0"
            ],
            [
             0.7,
             "#b8e186"
            ],
            [
             0.8,
             "#7fbc41"
            ],
            [
             0.9,
             "#4d9221"
            ],
            [
             1,
             "#276419"
            ]
           ],
           "sequential": [
            [
             0,
             "#0d0887"
            ],
            [
             0.1111111111111111,
             "#46039f"
            ],
            [
             0.2222222222222222,
             "#7201a8"
            ],
            [
             0.3333333333333333,
             "#9c179e"
            ],
            [
             0.4444444444444444,
             "#bd3786"
            ],
            [
             0.5555555555555556,
             "#d8576b"
            ],
            [
             0.6666666666666666,
             "#ed7953"
            ],
            [
             0.7777777777777778,
             "#fb9f3a"
            ],
            [
             0.8888888888888888,
             "#fdca26"
            ],
            [
             1,
             "#f0f921"
            ]
           ],
           "sequentialminus": [
            [
             0,
             "#0d0887"
            ],
            [
             0.1111111111111111,
             "#46039f"
            ],
            [
             0.2222222222222222,
             "#7201a8"
            ],
            [
             0.3333333333333333,
             "#9c179e"
            ],
            [
             0.4444444444444444,
             "#bd3786"
            ],
            [
             0.5555555555555556,
             "#d8576b"
            ],
            [
             0.6666666666666666,
             "#ed7953"
            ],
            [
             0.7777777777777778,
             "#fb9f3a"
            ],
            [
             0.8888888888888888,
             "#fdca26"
            ],
            [
             1,
             "#f0f921"
            ]
           ]
          },
          "colorway": [
           "#636efa",
           "#EF553B",
           "#00cc96",
           "#ab63fa",
           "#FFA15A",
           "#19d3f3",
           "#FF6692",
           "#B6E880",
           "#FF97FF",
           "#FECB52"
          ],
          "font": {
           "color": "#2a3f5f"
          },
          "geo": {
           "bgcolor": "white",
           "lakecolor": "white",
           "landcolor": "#E5ECF6",
           "showlakes": true,
           "showland": true,
           "subunitcolor": "white"
          },
          "hoverlabel": {
           "align": "left"
          },
          "hovermode": "closest",
          "mapbox": {
           "style": "light"
          },
          "paper_bgcolor": "white",
          "plot_bgcolor": "#E5ECF6",
          "polar": {
           "angularaxis": {
            "gridcolor": "white",
            "linecolor": "white",
            "ticks": ""
           },
           "bgcolor": "#E5ECF6",
           "radialaxis": {
            "gridcolor": "white",
            "linecolor": "white",
            "ticks": ""
           }
          },
          "scene": {
           "xaxis": {
            "backgroundcolor": "#E5ECF6",
            "gridcolor": "white",
            "gridwidth": 2,
            "linecolor": "white",
            "showbackground": true,
            "ticks": "",
            "zerolinecolor": "white"
           },
           "yaxis": {
            "backgroundcolor": "#E5ECF6",
            "gridcolor": "white",
            "gridwidth": 2,
            "linecolor": "white",
            "showbackground": true,
            "ticks": "",
            "zerolinecolor": "white"
           },
           "zaxis": {
            "backgroundcolor": "#E5ECF6",
            "gridcolor": "white",
            "gridwidth": 2,
            "linecolor": "white",
            "showbackground": true,
            "ticks": "",
            "zerolinecolor": "white"
           }
          },
          "shapedefaults": {
           "line": {
            "color": "#2a3f5f"
           }
          },
          "ternary": {
           "aaxis": {
            "gridcolor": "white",
            "linecolor": "white",
            "ticks": ""
           },
           "baxis": {
            "gridcolor": "white",
            "linecolor": "white",
            "ticks": ""
           },
           "bgcolor": "#E5ECF6",
           "caxis": {
            "gridcolor": "white",
            "linecolor": "white",
            "ticks": ""
           }
          },
          "title": {
           "x": 0.05
          },
          "xaxis": {
           "automargin": true,
           "gridcolor": "white",
           "linecolor": "white",
           "ticks": "",
           "title": {
            "standoff": 15
           },
           "zerolinecolor": "white",
           "zerolinewidth": 2
          },
          "yaxis": {
           "automargin": true,
           "gridcolor": "white",
           "linecolor": "white",
           "ticks": "",
           "title": {
            "standoff": 15
           },
           "zerolinecolor": "white",
           "zerolinewidth": 2
          }
         }
        },
        "title": {
         "text": "LSOA E01032720 and Intersecting Wards"
        }
       }
      }
     },
     "metadata": {},
     "output_type": "display_data"
    }
   ],
   "source": [
    "# Plot LSOA and its intersecting wards\n",
    "\n",
    "\n",
    "lsoa = \"E01032720\"\n",
    "\n",
    "\n",
    "lsoas = gpd.read_file(\"data/LSOAs.geojson\").to_crs(epsg=4326)\n",
    "wards = gpd.read_file(\"data/wards.geojson\").to_crs(epsg=4326)\n",
    "\n",
    "lsoa_target = lsoas[lsoas[\"LSOA11CD\"] == lsoa].copy()\n",
    "\n",
    "intersecting_wards = gpd.sjoin(wards, lsoa_target, how='inner', predicate='intersects').copy()\n",
    "\n",
    "# Label types\n",
    "lsoa_target.loc[:, \"type\"] = \"LSOA\"\n",
    "intersecting_wards.loc[:, \"type\"] = \"Ward\"\n",
    "\n",
    "lsoa_target.loc[:, \"Name\"] = lsoa_target[\"LSOA11NM\"]\n",
    "\n",
    "# Combine both for plotting\n",
    "combined = pd.concat([\n",
    "    lsoa_target[[\"geometry\", \"Name\", \"type\"]],\n",
    "    intersecting_wards[[\"geometry\", \"Name\", \"type\"]]\n",
    "])\n",
    "\n",
    "geojson_combined = json.loads(combined.to_json())\n",
    "\n",
    "fig = px.choropleth_map(\n",
    "    combined,\n",
    "    geojson=geojson_combined,\n",
    "    locations=combined.index,\n",
    "    color=\"type\",\n",
    "    hover_name=\"Name\",\n",
    "    map_style=\"open-street-map\",\n",
    "    zoom=9,\n",
    "    center={\"lat\": 51.5072, \"lon\": -0.1276},\n",
    "    opacity=0.5,\n",
    "    height=600\n",
    ")\n",
    "\n",
    "fig.update_layout(title=f'LSOA {lsoa} and Intersecting Wards')\n",
    "fig.show()"
   ]
  },
  {
   "cell_type": "code",
   "execution_count": 233,
   "id": "cb24202a",
   "metadata": {},
   "outputs": [
    {
     "data": {
      "text/html": [
       "<div>\n",
       "<style scoped>\n",
       "    .dataframe tbody tr th:only-of-type {\n",
       "        vertical-align: middle;\n",
       "    }\n",
       "\n",
       "    .dataframe tbody tr th {\n",
       "        vertical-align: top;\n",
       "    }\n",
       "\n",
       "    .dataframe thead th {\n",
       "        text-align: right;\n",
       "    }\n",
       "</style>\n",
       "<table border=\"1\" class=\"dataframe\">\n",
       "  <thead>\n",
       "    <tr style=\"text-align: right;\">\n",
       "      <th></th>\n",
       "      <th>LSOA11CD</th>\n",
       "      <th>LSOA11NM</th>\n",
       "      <th>Ward_code</th>\n",
       "      <th>Ward</th>\n",
       "    </tr>\n",
       "  </thead>\n",
       "  <tbody>\n",
       "    <tr>\n",
       "      <th>0</th>\n",
       "      <td>E01000007</td>\n",
       "      <td>Barking and Dagenham 015A</td>\n",
       "      <td>E05000026</td>\n",
       "      <td>Abbey</td>\n",
       "    </tr>\n",
       "    <tr>\n",
       "      <th>1</th>\n",
       "      <td>E01000012</td>\n",
       "      <td>Barking and Dagenham 015D</td>\n",
       "      <td>E05000026</td>\n",
       "      <td>Abbey</td>\n",
       "    </tr>\n",
       "    <tr>\n",
       "      <th>2</th>\n",
       "      <td>E01000011</td>\n",
       "      <td>Barking and Dagenham 016C</td>\n",
       "      <td>E05000026</td>\n",
       "      <td>Abbey</td>\n",
       "    </tr>\n",
       "    <tr>\n",
       "      <th>3</th>\n",
       "      <td>E01000010</td>\n",
       "      <td>Barking and Dagenham 015C</td>\n",
       "      <td>E05000026</td>\n",
       "      <td>Abbey</td>\n",
       "    </tr>\n",
       "    <tr>\n",
       "      <th>4</th>\n",
       "      <td>E01000009</td>\n",
       "      <td>Barking and Dagenham 016B</td>\n",
       "      <td>E05000026</td>\n",
       "      <td>Abbey</td>\n",
       "    </tr>\n",
       "    <tr>\n",
       "      <th>...</th>\n",
       "      <td>...</td>\n",
       "      <td>...</td>\n",
       "      <td>...</td>\n",
       "      <td>...</td>\n",
       "    </tr>\n",
       "    <tr>\n",
       "      <th>4830</th>\n",
       "      <td>E01032739</td>\n",
       "      <td>City of London 001F</td>\n",
       "      <td>E09000001</td>\n",
       "      <td>City of London</td>\n",
       "    </tr>\n",
       "    <tr>\n",
       "      <th>4831</th>\n",
       "      <td>E01000005</td>\n",
       "      <td>City of London 001E</td>\n",
       "      <td>E09000001</td>\n",
       "      <td>City of London</td>\n",
       "    </tr>\n",
       "    <tr>\n",
       "      <th>4832</th>\n",
       "      <td>E01000002</td>\n",
       "      <td>City of London 001B</td>\n",
       "      <td>E09000001</td>\n",
       "      <td>City of London</td>\n",
       "    </tr>\n",
       "    <tr>\n",
       "      <th>4833</th>\n",
       "      <td>E01032740</td>\n",
       "      <td>City of London 001G</td>\n",
       "      <td>E09000001</td>\n",
       "      <td>City of London</td>\n",
       "    </tr>\n",
       "    <tr>\n",
       "      <th>4834</th>\n",
       "      <td>E01000001</td>\n",
       "      <td>City of London 001A</td>\n",
       "      <td>E09000001</td>\n",
       "      <td>City of London</td>\n",
       "    </tr>\n",
       "  </tbody>\n",
       "</table>\n",
       "<p>4835 rows × 4 columns</p>\n",
       "</div>"
      ],
      "text/plain": [
       "       LSOA11CD                   LSOA11NM  Ward_code            Ward\n",
       "0     E01000007  Barking and Dagenham 015A  E05000026           Abbey\n",
       "1     E01000012  Barking and Dagenham 015D  E05000026           Abbey\n",
       "2     E01000011  Barking and Dagenham 016C  E05000026           Abbey\n",
       "3     E01000010  Barking and Dagenham 015C  E05000026           Abbey\n",
       "4     E01000009  Barking and Dagenham 016B  E05000026           Abbey\n",
       "...         ...                        ...        ...             ...\n",
       "4830  E01032739        City of London 001F  E09000001  City of London\n",
       "4831  E01000005        City of London 001E  E09000001  City of London\n",
       "4832  E01000002        City of London 001B  E09000001  City of London\n",
       "4833  E01032740        City of London 001G  E09000001  City of London\n",
       "4834  E01000001        City of London 001A  E09000001  City of London\n",
       "\n",
       "[4835 rows x 4 columns]"
      ]
     },
     "execution_count": 233,
     "metadata": {},
     "output_type": "execute_result"
    }
   ],
   "source": [
    "# Create dataframe with good overview of LSOAs within wards\n",
    "\n",
    "single_ward_lsoa_ids = overlap_counts[overlap_counts == 1].index\n",
    "single_ward_rows = joined.loc[single_ward_lsoa_ids]\n",
    "\n",
    "single_ward_df = single_ward_rows[['LSOA11CD', 'LSOA11NM', 'GSS_Code', 'Name']].rename(columns={'Name': 'Ward', 'GSS_Code': 'Ward_code'})\n",
    "multi_ward_df = df_max[['LSOA11CD', 'LSOA11NM', 'Ward_code', 'Ward']]\n",
    "\n",
    "# Combine\n",
    "final_lsoa_ward_df = pd.concat([single_ward_df, multi_ward_df], ignore_index=True)\n",
    "\n",
    "# Sort by Ward_code\n",
    "final_lsoa_ward_df = final_lsoa_ward_df.sort_values('Ward_code').reset_index(drop=True)\n",
    "\n",
    "final_lsoa_ward_df\n"
   ]
  },
  {
   "cell_type": "code",
   "execution_count": 234,
   "id": "6b566548",
   "metadata": {},
   "outputs": [
    {
     "data": {
      "text/html": [
       "<div>\n",
       "<style scoped>\n",
       "    .dataframe tbody tr th:only-of-type {\n",
       "        vertical-align: middle;\n",
       "    }\n",
       "\n",
       "    .dataframe tbody tr th {\n",
       "        vertical-align: top;\n",
       "    }\n",
       "\n",
       "    .dataframe thead th {\n",
       "        text-align: right;\n",
       "    }\n",
       "</style>\n",
       "<table border=\"1\" class=\"dataframe\">\n",
       "  <thead>\n",
       "    <tr style=\"text-align: right;\">\n",
       "      <th></th>\n",
       "      <th>LSOA11NM</th>\n",
       "      <th>Month</th>\n",
       "      <th>Burglary_Count</th>\n",
       "    </tr>\n",
       "  </thead>\n",
       "  <tbody>\n",
       "    <tr>\n",
       "      <th>0</th>\n",
       "      <td>Barking and Dagenham 001A</td>\n",
       "      <td>2022-03-01</td>\n",
       "      <td>4</td>\n",
       "    </tr>\n",
       "    <tr>\n",
       "      <th>1</th>\n",
       "      <td>Barking and Dagenham 001A</td>\n",
       "      <td>2022-04-01</td>\n",
       "      <td>1</td>\n",
       "    </tr>\n",
       "    <tr>\n",
       "      <th>2</th>\n",
       "      <td>Barking and Dagenham 001A</td>\n",
       "      <td>2022-07-01</td>\n",
       "      <td>2</td>\n",
       "    </tr>\n",
       "    <tr>\n",
       "      <th>3</th>\n",
       "      <td>Barking and Dagenham 001A</td>\n",
       "      <td>2022-10-01</td>\n",
       "      <td>1</td>\n",
       "    </tr>\n",
       "    <tr>\n",
       "      <th>4</th>\n",
       "      <td>Barking and Dagenham 001A</td>\n",
       "      <td>2023-03-01</td>\n",
       "      <td>1</td>\n",
       "    </tr>\n",
       "    <tr>\n",
       "      <th>...</th>\n",
       "      <td>...</td>\n",
       "      <td>...</td>\n",
       "      <td>...</td>\n",
       "    </tr>\n",
       "    <tr>\n",
       "      <th>173839</th>\n",
       "      <td>Westminster 024F</td>\n",
       "      <td>2023-05-01</td>\n",
       "      <td>0</td>\n",
       "    </tr>\n",
       "    <tr>\n",
       "      <th>173840</th>\n",
       "      <td>Westminster 024F</td>\n",
       "      <td>2023-10-01</td>\n",
       "      <td>1</td>\n",
       "    </tr>\n",
       "    <tr>\n",
       "      <th>173841</th>\n",
       "      <td>Westminster 024F</td>\n",
       "      <td>2024-08-01</td>\n",
       "      <td>1</td>\n",
       "    </tr>\n",
       "    <tr>\n",
       "      <th>173842</th>\n",
       "      <td>Westminster 024F</td>\n",
       "      <td>2025-02-01</td>\n",
       "      <td>0</td>\n",
       "    </tr>\n",
       "    <tr>\n",
       "      <th>173843</th>\n",
       "      <td>Westminster 024F</td>\n",
       "      <td>2024-04-01</td>\n",
       "      <td>0</td>\n",
       "    </tr>\n",
       "  </tbody>\n",
       "</table>\n",
       "<p>173844 rows × 3 columns</p>\n",
       "</div>"
      ],
      "text/plain": [
       "                         LSOA11NM      Month  Burglary_Count\n",
       "0       Barking and Dagenham 001A 2022-03-01               4\n",
       "1       Barking and Dagenham 001A 2022-04-01               1\n",
       "2       Barking and Dagenham 001A 2022-07-01               2\n",
       "3       Barking and Dagenham 001A 2022-10-01               1\n",
       "4       Barking and Dagenham 001A 2023-03-01               1\n",
       "...                           ...        ...             ...\n",
       "173839           Westminster 024F 2023-05-01               0\n",
       "173840           Westminster 024F 2023-10-01               1\n",
       "173841           Westminster 024F 2024-08-01               1\n",
       "173842           Westminster 024F 2025-02-01               0\n",
       "173843           Westminster 024F 2024-04-01               0\n",
       "\n",
       "[173844 rows x 3 columns]"
      ]
     },
     "execution_count": 234,
     "metadata": {},
     "output_type": "execute_result"
    }
   ],
   "source": [
    "# Get burglary per month per LSOA\n",
    "\n",
    "\n",
    "crimes = pd.read_csv('data/all_crimes_2022-2025.csv')\n",
    "crimes['Month'] = pd.to_datetime(crimes['Month'])\n",
    "\n",
    "crimes_cleaned = crimes.dropna(subset=['Longitude', 'Latitude'])\n",
    "\n",
    "burglary = crimes_cleaned[crimes_cleaned['Crime type'] == 'Burglary'].copy()\n",
    "\n",
    "gdf_crimes = gpd.GeoDataFrame(\n",
    "    crimes_cleaned,\n",
    "    geometry=gpd.points_from_xy(crimes_cleaned['Longitude'], crimes_cleaned['Latitude']),\n",
    "    crs=\"EPSG:4326\"\n",
    ")\n",
    "\n",
    "gdf_crimes= gpd.sjoin(\n",
    "    gdf_crimes,\n",
    "    lsoas[['geometry', 'LSOA11NM']],\n",
    "    how='left',\n",
    "    predicate='within'\n",
    ")\n",
    "\n",
    "gdf_burglary = gpd.GeoDataFrame(\n",
    "    burglary,\n",
    "    geometry=gpd.points_from_xy(burglary['Longitude'], burglary['Latitude']),\n",
    "    crs=\"EPSG:4326\"\n",
    ")\n",
    "\n",
    "gdf_burglary = gpd.sjoin(\n",
    "    gdf_burglary,\n",
    "    lsoas[['geometry', 'LSOA11NM']],\n",
    "    how='left',\n",
    "    predicate='within'\n",
    ")\n",
    "\n",
    "monthly_burglary_counts = (\n",
    "    gdf_burglary.dropna(subset=['LSOA11NM'])\n",
    "    .groupby(['LSOA11NM', gdf_burglary['Month'].dt.to_period('M')])\n",
    "    .size()\n",
    "    .reset_index(name='Burglary_Count')\n",
    ")\n",
    "\n",
    "monthly_burglary_counts['Month'] = monthly_burglary_counts['Month'].dt.to_timestamp()\n",
    "\n",
    "burglary_pivot = monthly_burglary_counts.pivot(index='LSOA11NM', columns='Month', values='Burglary_Count').fillna(0)\n",
    "\n",
    "full_lsoa_months = pd.MultiIndex.from_product(\n",
    "    [monthly_burglary_counts['LSOA11NM'].unique(), monthly_burglary_counts['Month'].unique()],\n",
    "    names=['LSOA11NM', 'Month']\n",
    ")\n",
    "\n",
    "monthly_burglary_counts = monthly_burglary_counts.set_index(['LSOA11NM', 'Month']).reindex(full_lsoa_months, fill_value=0).reset_index()\n",
    "monthly_burglary_counts"
   ]
  },
  {
   "cell_type": "code",
   "execution_count": 235,
   "id": "9ff40f55",
   "metadata": {},
   "outputs": [
    {
     "data": {
      "application/vnd.plotly.v1+json": {
       "config": {
        "plotlyServerURL": "https://plot.ly"
       },
       "data": [
        {
         "coloraxis": "coloraxis",
         "featureidkey": "properties.LSOA11NM",
         "geojson": {
          "features": [
           {
            "geometry": {
             "coordinates": [
              [
               [
                0.09115207554164695,
                51.53908530197986
               ],
               [
                0.09325749554800437,
                51.53786985074346
               ],
               [
                0.09360014061461908,
                51.5376704362355
               ],
               [
                0.09258233961406619,
                51.53759072975164
               ],
               [
                0.09207433758810388,
                51.537550942610494
               ],
               [
                0.08962145437577207,
                51.53739232810911
               ],
               [
                0.08652377200511384,
                51.5375847181292
               ],
               [
                0.08497157686039881,
                51.53789626434127
               ],
               [
                0.08511939066419004,
                51.53815446254799
               ],
               [
                0.08531409896507391,
                51.538361503493896
               ],
               [
                0.08491777221227532,
                51.53852029216592
               ],
               [
                0.08577372962371799,
                51.53917884769649
               ],
               [
                0.0861902697654173,
                51.53901422908059
               ],
               [
                0.08678250444949605,
                51.5394446990756
               ],
               [
                0.08507026708781022,
                51.540357326487445
               ],
               [
                0.08649889567550884,
                51.5412518904686
               ],
               [
                0.08612130770358656,
                51.54153895492672
               ],
               [
                0.08645534858903325,
                51.541776294578824
               ],
               [
                0.08852537925222399,
                51.54058192850293
               ],
               [
                0.08961604180344959,
                51.53996068270752
               ],
               [
                0.09115207554164695,
                51.53908530197986
               ]
              ]
             ],
             "type": "Polygon"
            },
            "id": "0",
            "properties": {
             "AvHholdSz": 3.1,
             "Burglary_Count": 1,
             "ComEstRes": 4,
             "HholdRes": 1699,
             "Hholds": 543,
             "LAD11CD": "E09000002",
             "LAD11NM": "Barking and Dagenham",
             "LSOA11CD": "E01000006",
             "LSOA11NM": "Barking and Dagenham 016A",
             "MSOA11CD": "E02000017",
             "MSOA11NM": "Barking and Dagenham 016",
             "PopDen": 116.2,
             "RGN11CD": "E12000007",
             "RGN11NM": "London",
             "UsualRes": 1703
            },
            "type": "Feature"
           },
           {
            "geometry": {
             "coordinates": [
              [
               [
                0.07774095163677304,
                51.54279167533337
               ],
               [
                0.07964843775007675,
                51.541341473061436
               ],
               [
                0.08011515519103794,
                51.5416086722872
               ],
               [
                0.08025318129689034,
                51.54169875988177
               ],
               [
                0.08034391195234711,
                51.54114743382494
               ],
               [
                0.0821023081684876,
                51.54082063553246
               ],
               [
                0.083124925736982,
                51.54110823298778
               ],
               [
                0.08318174335650454,
                51.5410892384961
               ],
               [
                0.08302199449483015,
                51.54068398477772
               ],
               [
                0.08206803743932019,
                51.53990429004762
               ],
               [
                0.08133282383959699,
                51.53930552542105
               ],
               [
                0.08058026957382788,
                51.53875233328791
               ],
               [
                0.0786871489802898,
                51.53961322839425
               ],
               [
                0.07802563768353633,
                51.539337181503164
               ],
               [
                0.07751050786580929,
                51.53974198639574
               ],
               [
                0.07695907422170778,
                51.539531789129306
               ],
               [
                0.07770707288122375,
                51.53915805076986
               ],
               [
                0.076514060373852,
                51.5386377413875
               ],
               [
                0.07550218111942139,
                51.53840270212307
               ],
               [
                0.07521898694181257,
                51.53950123797332
               ],
               [
                0.07473174789346128,
                51.53939840091514
               ],
               [
                0.07361382204720868,
                51.538870151437195
               ],
               [
                0.07304241870209835,
                51.53878852526601
               ],
               [
                0.07296878554387475,
                51.53912580395876
               ],
               [
                0.07190865904812446,
                51.53896243108398
               ],
               [
                0.0721685576190094,
                51.54002739939142
               ],
               [
                0.07295104477942499,
                51.54018053302214
               ],
               [
                0.0727166912134931,
                51.54078133277375
               ],
               [
                0.07262545999992942,
                51.54143251644573
               ],
               [
                0.0734986352922343,
                51.541899284234034
               ],
               [
                0.07385191145502203,
                51.54155275427371
               ],
               [
                0.07536085440488831,
                51.54222062997047
               ],
               [
                0.07759728812421747,
                51.54122586931695
               ],
               [
                0.07783200443687557,
                51.541417924404925
               ],
               [
                0.0770298803567251,
                51.54185479732858
               ],
               [
                0.07711724711955957,
                51.542565141963195
               ],
               [
                0.07774095163677304,
                51.54279167533337
               ]
              ]
             ],
             "type": "Polygon"
            },
            "id": "1",
            "properties": {
             "AvHholdSz": 2.3,
             "Burglary_Count": 1,
             "ComEstRes": 0,
             "HholdRes": 1391,
             "Hholds": 612,
             "LAD11CD": "E09000002",
             "LAD11NM": "Barking and Dagenham",
             "LSOA11CD": "E01000007",
             "LSOA11NM": "Barking and Dagenham 015A",
             "MSOA11CD": "E02000016",
             "MSOA11NM": "Barking and Dagenham 015",
             "PopDen": 69.6,
             "RGN11CD": "E12000007",
             "RGN11NM": "London",
             "UsualRes": 1391
            },
            "type": "Feature"
           },
           {
            "geometry": {
             "coordinates": [
              [
               [
                [
                 0.06858027822229,
                 51.53622093710611
                ],
                [
                 0.06802988841455287,
                 51.536154680416644
                ],
                [
                 0.0690815134725983,
                 51.5373370330992
                ],
                [
                 0.06827870486805074,
                 51.53814519503715
                ],
                [
                 0.06692813012699934,
                 51.53985684507468
                ],
                [
                 0.06669286751569546,
                 51.54114652666205
                ],
                [
                 0.06828177088028997,
                 51.544287052964435
                ],
                [
                 0.06832630764712204,
                 51.54441427904503
                ],
                [
                 0.06936669385248333,
                 51.54412831628115
                ],
                [
                 0.06859292005661678,
                 51.542132477490824
                ],
                [
                 0.06909510099355581,
                 51.54137632558438
                ],
                [
                 0.06850328315133722,
                 51.54091914146673
                ],
                [
                 0.06941539822967746,
                 51.54029874285007
                ],
                [
                 0.06912583185165716,
                 51.53881104957835
                ],
                [
                 0.07045046562773415,
                 51.538511608621484
                ],
                [
                 0.07102917851563517,
                 51.53715228519087
                ],
                [
                 0.06858027822229,
                 51.53622093710611
                ]
               ]
              ],
              [
               [
                [
                 0.07135496004038416,
                 51.54169435317838
                ],
                [
                 0.07229294377929996,
                 51.541660043875694
                ],
                [
                 0.0731982123190729,
                 51.542214474572376
                ],
                [
                 0.0734986352922343,
                 51.541899284234034
                ],
                [
                 0.07262545999992942,
                 51.54143251644573
                ],
                [
                 0.0727166912134931,
                 51.54078133277375
                ],
                [
                 0.07295104477942499,
                 51.54018053302214
                ],
                [
                 0.0721685576190094,
                 51.54002739939142
                ],
                [
                 0.07190865904812446,
                 51.53896243108398
                ],
                [
                 0.07201524954020407,
                 51.53840352963732
                ],
                [
                 0.0725442415519812,
                 51.53771654599945
                ],
                [
                 0.07134442904778844,
                 51.53724979342985
                ],
                [
                 0.07042739976123193,
                 51.539115427772686
                ],
                [
                 0.06949759677059439,
                 51.53886834863715
                ],
                [
                 0.06978404050056694,
                 51.54034415381888
                ],
                [
                 0.06990607669928117,
                 51.540910583448444
                ],
                [
                 0.0692433002222867,
                 51.54164697330104
                ],
                [
                 0.06989734365108154,
                 51.54214882871592
                ],
                [
                 0.07058435702997873,
                 51.54237020907412
                ],
                [
                 0.07168834098644292,
                 51.541796603391624
                ],
                [
                 0.07135496004038416,
                 51.54169435317838
                ]
               ]
              ]
             ],
             "type": "MultiPolygon"
            },
            "id": "2",
            "properties": {
             "AvHholdSz": 3,
             "Burglary_Count": 2,
             "ComEstRes": 0,
             "HholdRes": 1544,
             "Hholds": 521,
             "LAD11CD": "E09000002",
             "LAD11NM": "Barking and Dagenham",
             "LSOA11CD": "E01000008",
             "LSOA11NM": "Barking and Dagenham 015B",
             "MSOA11CD": "E02000016",
             "MSOA11NM": "Barking and Dagenham 015",
             "PopDen": 79.1,
             "RGN11CD": "E12000007",
             "RGN11NM": "London",
             "UsualRes": 1544
            },
            "type": "Feature"
           },
           {
            "geometry": {
             "coordinates": [
              [
               [
                0.0823463996369489,
                51.54274404018075
               ],
               [
                0.08418584577698222,
                51.541826019279924
               ],
               [
                0.08474656326531403,
                51.542494180072055
               ],
               [
                0.08641859427441083,
                51.541797550692706
               ],
               [
                0.08645534858903325,
                51.541776294578824
               ],
               [
                0.08612130770358656,
                51.54153895492672
               ],
               [
                0.08649889567550884,
                51.5412518904686
               ],
               [
                0.08507026708781022,
                51.540357326487445
               ],
               [
                0.08678250444949605,
                51.5394446990756
               ],
               [
                0.0861902697654173,
                51.53901422908059
               ],
               [
                0.08577372962371799,
                51.53917884769649
               ],
               [
                0.08491777221227532,
                51.53852029216592
               ],
               [
                0.08531409896507391,
                51.538361503493896
               ],
               [
                0.08511939066419004,
                51.53815446254799
               ],
               [
                0.08497157686039881,
                51.53789626434127
               ],
               [
                0.08155820965685037,
                51.53912707588631
               ],
               [
                0.08133282383959699,
                51.53930552542105
               ],
               [
                0.08206803743932019,
                51.53990429004762
               ],
               [
                0.08302199449483015,
                51.54068398477772
               ],
               [
                0.08318174335650454,
                51.5410892384961
               ],
               [
                0.083124925736982,
                51.54110823298778
               ],
               [
                0.0821023081684876,
                51.54082063553246
               ],
               [
                0.08034391195234711,
                51.54114743382494
               ],
               [
                0.08025318129689034,
                51.54169875988177
               ],
               [
                0.08051044149476633,
                51.54189880011217
               ],
               [
                0.08102205222899816,
                51.54224317555713
               ],
               [
                0.08136096964346462,
                51.542076822034105
               ],
               [
                0.0823463996369489,
                51.54274404018075
               ]
              ]
             ],
             "type": "Polygon"
            },
            "id": "3",
            "properties": {
             "AvHholdSz": 2.8,
             "Burglary_Count": 2,
             "ComEstRes": 0,
             "HholdRes": 1773,
             "Hholds": 638,
             "LAD11CD": "E09000002",
             "LAD11NM": "Barking and Dagenham",
             "LSOA11CD": "E01000009",
             "LSOA11NM": "Barking and Dagenham 016B",
             "MSOA11CD": "E02000017",
             "MSOA11NM": "Barking and Dagenham 016",
             "PopDen": 138.6,
             "RGN11CD": "E12000007",
             "RGN11NM": "London",
             "UsualRes": 1773
            },
            "type": "Feature"
           },
           {
            "geometry": {
             "coordinates": [
              [
               [
                0.07751050786580929,
                51.53974198639574
               ],
               [
                0.07802563768353633,
                51.539337181503164
               ],
               [
                0.0786871489802898,
                51.53961322839425
               ],
               [
                0.08058026957382788,
                51.53875233328791
               ],
               [
                0.08133282383959699,
                51.53930552542105
               ],
               [
                0.08155820965685037,
                51.53912707588631
               ],
               [
                0.08291727281581446,
                51.53829560928699
               ],
               [
                0.08549394774600402,
                51.53703443860735
               ],
               [
                0.08452987252289981,
                51.536559860746145
               ],
               [
                0.08362404138720933,
                51.536144572796715
               ],
               [
                0.08251095409092907,
                51.535696303310715
               ],
               [
                0.08238190227752797,
                51.535639512083506
               ],
               [
                0.08144925425770057,
                51.53543836923663
               ],
               [
                0.08121245163912554,
                51.53546700435832
               ],
               [
                0.07946079552694571,
                51.534754137154614
               ],
               [
                0.07924263014631433,
                51.53467246563765
               ],
               [
                0.07870059652973939,
                51.534469286334044
               ],
               [
                0.07615981231869477,
                51.53361065022203
               ],
               [
                0.07501097266736644,
                51.53399775713533
               ],
               [
                0.07490432503237734,
                51.53416315870168
               ],
               [
                0.07350488204263221,
                51.537563553695904
               ],
               [
                0.07134442904778844,
                51.53724979342985
               ],
               [
                0.0725442415519812,
                51.53771654599945
               ],
               [
                0.07201524954020407,
                51.53840352963732
               ],
               [
                0.07190865904812446,
                51.53896243108398
               ],
               [
                0.07296878554387475,
                51.53912580395876
               ],
               [
                0.07304241870209835,
                51.53878852526601
               ],
               [
                0.07361382204720868,
                51.538870151437195
               ],
               [
                0.07473174789346128,
                51.53939840091514
               ],
               [
                0.07521898694181257,
                51.53950123797332
               ],
               [
                0.07550218111942139,
                51.53840270212307
               ],
               [
                0.076514060373852,
                51.5386377413875
               ],
               [
                0.07770707288122375,
                51.53915805076986
               ],
               [
                0.07695907422170778,
                51.539531789129306
               ],
               [
                0.07751050786580929,
                51.53974198639574
               ]
              ]
             ],
             "type": "Polygon"
            },
            "id": "4",
            "properties": {
             "AvHholdSz": 2.6,
             "Burglary_Count": 5,
             "ComEstRes": 0,
             "HholdRes": 2840,
             "Hholds": 1103,
             "LAD11CD": "E09000002",
             "LAD11NM": "Barking and Dagenham",
             "LSOA11CD": "E01000010",
             "LSOA11NM": "Barking and Dagenham 015C",
             "MSOA11CD": "E02000016",
             "MSOA11NM": "Barking and Dagenham 015",
             "PopDen": 80.7,
             "RGN11CD": "E12000007",
             "RGN11NM": "London",
             "UsualRes": 2840
            },
            "type": "Feature"
           },
           {
            "geometry": {
             "coordinates": [
              [
               [
                0.08272071624991828,
                51.54349883693147
               ],
               [
                0.08474656326531403,
                51.542494180072055
               ],
               [
                0.08418584577698222,
                51.541826019279924
               ],
               [
                0.0823463996369489,
                51.54274404018075
               ],
               [
                0.08136096964346462,
                51.542076822034105
               ],
               [
                0.08102205222899816,
                51.54224317555713
               ],
               [
                0.08051044149476633,
                51.54189880011217
               ],
               [
                0.08025318129689034,
                51.54169875988177
               ],
               [
                0.08011515519103794,
                51.5416086722872
               ],
               [
                0.07964843775007675,
                51.541341473061436
               ],
               [
                0.07774095163677304,
                51.54279167533337
               ],
               [
                0.07864162779565186,
                51.54327659602734
               ],
               [
                0.07863771047817221,
                51.543572274527804
               ],
               [
                0.07794681495861025,
                51.54408840472901
               ],
               [
                0.07937798958483563,
                51.544581574231884
               ],
               [
                0.08010864201320918,
                51.54479440091839
               ],
               [
                0.08272071624991828,
                51.54349883693147
               ]
              ]
             ],
             "type": "Polygon"
            },
            "id": "5",
            "properties": {
             "AvHholdSz": 3.6,
             "Burglary_Count": 0,
             "ComEstRes": 6,
             "HholdRes": 1628,
             "Hholds": 457,
             "LAD11CD": "E09000002",
             "LAD11NM": "Barking and Dagenham",
             "LSOA11CD": "E01000011",
             "LSOA11NM": "Barking and Dagenham 016C",
             "MSOA11CD": "E02000017",
             "MSOA11NM": "Barking and Dagenham 016",
             "PopDen": 178.2,
             "RGN11CD": "E12000007",
             "RGN11NM": "London",
             "UsualRes": 1634
            },
            "type": "Feature"
           },
           {
            "geometry": {
             "coordinates": [
              [
               [
                0.07863771047817221,
                51.543572274527804
               ],
               [
                0.07864162779565186,
                51.54327659602734
               ],
               [
                0.07774095163677304,
                51.54279167533337
               ],
               [
                0.07711724711955957,
                51.542565141963195
               ],
               [
                0.0770298803567251,
                51.54185479732858
               ],
               [
                0.07783200443687557,
                51.541417924404925
               ],
               [
                0.07759728812421747,
                51.54122586931695
               ],
               [
                0.07536085440488831,
                51.54222062997047
               ],
               [
                0.07385191145502203,
                51.54155275427371
               ],
               [
                0.0734986352922343,
                51.541899284234034
               ],
               [
                0.0731982123190729,
                51.542214474572376
               ],
               [
                0.07229294377929996,
                51.541660043875694
               ],
               [
                0.07135496004038416,
                51.54169435317838
               ],
               [
                0.07168834098644292,
                51.541796603391624
               ],
               [
                0.07058435702997873,
                51.54237020907412
               ],
               [
                0.06989734365108154,
                51.54214882871592
               ],
               [
                0.0692433002222867,
                51.54164697330104
               ],
               [
                0.06894195740214626,
                51.542069667780616
               ],
               [
                0.0697145521996177,
                51.54406241369885
               ],
               [
                0.07088241862104136,
                51.543827389009486
               ],
               [
                0.07145746062400454,
                51.54364011535494
               ],
               [
                0.07435163924052589,
                51.54389449141658
               ],
               [
                0.0763915895559834,
                51.544415185502984
               ],
               [
                0.0768007974122664,
                51.54458945979674
               ],
               [
                0.07752472447323587,
                51.54453238791345
               ],
               [
                0.07761197720421784,
                51.54440347859155
               ],
               [
                0.07776741776602206,
                51.544209351203264
               ],
               [
                0.07794681495861025,
                51.54408840472901
               ],
               [
                0.07863771047817221,
                51.543572274527804
               ]
              ]
             ],
             "type": "Polygon"
            },
            "id": "6",
            "properties": {
             "AvHholdSz": 2.7,
             "Burglary_Count": 1,
             "ComEstRes": 6,
             "HholdRes": 1895,
             "Hholds": 698,
             "LAD11CD": "E09000002",
             "LAD11NM": "Barking and Dagenham",
             "LSOA11CD": "E01000012",
             "LSOA11NM": "Barking and Dagenham 015D",
             "MSOA11CD": "E02000016",
             "MSOA11NM": "Barking and Dagenham 015",
             "PopDen": 136.8,
             "RGN11CD": "E12000007",
             "RGN11NM": "London",
             "UsualRes": 1901
            },
            "type": "Feature"
           }
          ],
          "type": "FeatureCollection"
         },
         "hovertemplate": "LSOA11NM=%{location}<br>Burglary_Count=%{z}<extra></extra>",
         "locations": [
          "Barking and Dagenham 016A",
          "Barking and Dagenham 015A",
          "Barking and Dagenham 015B",
          "Barking and Dagenham 016B",
          "Barking and Dagenham 015C",
          "Barking and Dagenham 016C",
          "Barking and Dagenham 015D"
         ],
         "marker": {
          "opacity": 0.6
         },
         "name": "",
         "subplot": "map",
         "type": "choroplethmap",
         "z": {
          "bdata": "AQECAgUAAQ==",
          "dtype": "i1"
         }
        }
       ],
       "layout": {
        "coloraxis": {
         "colorbar": {
          "title": {
           "text": "Burglary_Count"
          }
         },
         "colorscale": [
          [
           0,
           "rgb(255,247,236)"
          ],
          [
           0.125,
           "rgb(254,232,200)"
          ],
          [
           0.25,
           "rgb(253,212,158)"
          ],
          [
           0.375,
           "rgb(253,187,132)"
          ],
          [
           0.5,
           "rgb(252,141,89)"
          ],
          [
           0.625,
           "rgb(239,101,72)"
          ],
          [
           0.75,
           "rgb(215,48,31)"
          ],
          [
           0.875,
           "rgb(179,0,0)"
          ],
          [
           1,
           "rgb(127,0,0)"
          ]
         ]
        },
        "height": 600,
        "legend": {
         "tracegroupgap": 0
        },
        "map": {
         "center": {
          "lat": 51.5072,
          "lon": -0.1276
         },
         "domain": {
          "x": [
           0,
           1
          ],
          "y": [
           0,
           1
          ]
         },
         "style": "open-street-map",
         "zoom": 9
        },
        "mapbox": {
         "center": {
          "lat": 51.5072,
          "lon": -0.1276
         },
         "style": "open-street-map",
         "zoom": 9
        },
        "margin": {
         "t": 60
        },
        "template": {
         "data": {
          "bar": [
           {
            "error_x": {
             "color": "#2a3f5f"
            },
            "error_y": {
             "color": "#2a3f5f"
            },
            "marker": {
             "line": {
              "color": "#E5ECF6",
              "width": 0.5
             },
             "pattern": {
              "fillmode": "overlay",
              "size": 10,
              "solidity": 0.2
             }
            },
            "type": "bar"
           }
          ],
          "barpolar": [
           {
            "marker": {
             "line": {
              "color": "#E5ECF6",
              "width": 0.5
             },
             "pattern": {
              "fillmode": "overlay",
              "size": 10,
              "solidity": 0.2
             }
            },
            "type": "barpolar"
           }
          ],
          "carpet": [
           {
            "aaxis": {
             "endlinecolor": "#2a3f5f",
             "gridcolor": "white",
             "linecolor": "white",
             "minorgridcolor": "white",
             "startlinecolor": "#2a3f5f"
            },
            "baxis": {
             "endlinecolor": "#2a3f5f",
             "gridcolor": "white",
             "linecolor": "white",
             "minorgridcolor": "white",
             "startlinecolor": "#2a3f5f"
            },
            "type": "carpet"
           }
          ],
          "choropleth": [
           {
            "colorbar": {
             "outlinewidth": 0,
             "ticks": ""
            },
            "type": "choropleth"
           }
          ],
          "contour": [
           {
            "colorbar": {
             "outlinewidth": 0,
             "ticks": ""
            },
            "colorscale": [
             [
              0,
              "#0d0887"
             ],
             [
              0.1111111111111111,
              "#46039f"
             ],
             [
              0.2222222222222222,
              "#7201a8"
             ],
             [
              0.3333333333333333,
              "#9c179e"
             ],
             [
              0.4444444444444444,
              "#bd3786"
             ],
             [
              0.5555555555555556,
              "#d8576b"
             ],
             [
              0.6666666666666666,
              "#ed7953"
             ],
             [
              0.7777777777777778,
              "#fb9f3a"
             ],
             [
              0.8888888888888888,
              "#fdca26"
             ],
             [
              1,
              "#f0f921"
             ]
            ],
            "type": "contour"
           }
          ],
          "contourcarpet": [
           {
            "colorbar": {
             "outlinewidth": 0,
             "ticks": ""
            },
            "type": "contourcarpet"
           }
          ],
          "heatmap": [
           {
            "colorbar": {
             "outlinewidth": 0,
             "ticks": ""
            },
            "colorscale": [
             [
              0,
              "#0d0887"
             ],
             [
              0.1111111111111111,
              "#46039f"
             ],
             [
              0.2222222222222222,
              "#7201a8"
             ],
             [
              0.3333333333333333,
              "#9c179e"
             ],
             [
              0.4444444444444444,
              "#bd3786"
             ],
             [
              0.5555555555555556,
              "#d8576b"
             ],
             [
              0.6666666666666666,
              "#ed7953"
             ],
             [
              0.7777777777777778,
              "#fb9f3a"
             ],
             [
              0.8888888888888888,
              "#fdca26"
             ],
             [
              1,
              "#f0f921"
             ]
            ],
            "type": "heatmap"
           }
          ],
          "histogram": [
           {
            "marker": {
             "pattern": {
              "fillmode": "overlay",
              "size": 10,
              "solidity": 0.2
             }
            },
            "type": "histogram"
           }
          ],
          "histogram2d": [
           {
            "colorbar": {
             "outlinewidth": 0,
             "ticks": ""
            },
            "colorscale": [
             [
              0,
              "#0d0887"
             ],
             [
              0.1111111111111111,
              "#46039f"
             ],
             [
              0.2222222222222222,
              "#7201a8"
             ],
             [
              0.3333333333333333,
              "#9c179e"
             ],
             [
              0.4444444444444444,
              "#bd3786"
             ],
             [
              0.5555555555555556,
              "#d8576b"
             ],
             [
              0.6666666666666666,
              "#ed7953"
             ],
             [
              0.7777777777777778,
              "#fb9f3a"
             ],
             [
              0.8888888888888888,
              "#fdca26"
             ],
             [
              1,
              "#f0f921"
             ]
            ],
            "type": "histogram2d"
           }
          ],
          "histogram2dcontour": [
           {
            "colorbar": {
             "outlinewidth": 0,
             "ticks": ""
            },
            "colorscale": [
             [
              0,
              "#0d0887"
             ],
             [
              0.1111111111111111,
              "#46039f"
             ],
             [
              0.2222222222222222,
              "#7201a8"
             ],
             [
              0.3333333333333333,
              "#9c179e"
             ],
             [
              0.4444444444444444,
              "#bd3786"
             ],
             [
              0.5555555555555556,
              "#d8576b"
             ],
             [
              0.6666666666666666,
              "#ed7953"
             ],
             [
              0.7777777777777778,
              "#fb9f3a"
             ],
             [
              0.8888888888888888,
              "#fdca26"
             ],
             [
              1,
              "#f0f921"
             ]
            ],
            "type": "histogram2dcontour"
           }
          ],
          "mesh3d": [
           {
            "colorbar": {
             "outlinewidth": 0,
             "ticks": ""
            },
            "type": "mesh3d"
           }
          ],
          "parcoords": [
           {
            "line": {
             "colorbar": {
              "outlinewidth": 0,
              "ticks": ""
             }
            },
            "type": "parcoords"
           }
          ],
          "pie": [
           {
            "automargin": true,
            "type": "pie"
           }
          ],
          "scatter": [
           {
            "fillpattern": {
             "fillmode": "overlay",
             "size": 10,
             "solidity": 0.2
            },
            "type": "scatter"
           }
          ],
          "scatter3d": [
           {
            "line": {
             "colorbar": {
              "outlinewidth": 0,
              "ticks": ""
             }
            },
            "marker": {
             "colorbar": {
              "outlinewidth": 0,
              "ticks": ""
             }
            },
            "type": "scatter3d"
           }
          ],
          "scattercarpet": [
           {
            "marker": {
             "colorbar": {
              "outlinewidth": 0,
              "ticks": ""
             }
            },
            "type": "scattercarpet"
           }
          ],
          "scattergeo": [
           {
            "marker": {
             "colorbar": {
              "outlinewidth": 0,
              "ticks": ""
             }
            },
            "type": "scattergeo"
           }
          ],
          "scattergl": [
           {
            "marker": {
             "colorbar": {
              "outlinewidth": 0,
              "ticks": ""
             }
            },
            "type": "scattergl"
           }
          ],
          "scattermap": [
           {
            "marker": {
             "colorbar": {
              "outlinewidth": 0,
              "ticks": ""
             }
            },
            "type": "scattermap"
           }
          ],
          "scattermapbox": [
           {
            "marker": {
             "colorbar": {
              "outlinewidth": 0,
              "ticks": ""
             }
            },
            "type": "scattermapbox"
           }
          ],
          "scatterpolar": [
           {
            "marker": {
             "colorbar": {
              "outlinewidth": 0,
              "ticks": ""
             }
            },
            "type": "scatterpolar"
           }
          ],
          "scatterpolargl": [
           {
            "marker": {
             "colorbar": {
              "outlinewidth": 0,
              "ticks": ""
             }
            },
            "type": "scatterpolargl"
           }
          ],
          "scatterternary": [
           {
            "marker": {
             "colorbar": {
              "outlinewidth": 0,
              "ticks": ""
             }
            },
            "type": "scatterternary"
           }
          ],
          "surface": [
           {
            "colorbar": {
             "outlinewidth": 0,
             "ticks": ""
            },
            "colorscale": [
             [
              0,
              "#0d0887"
             ],
             [
              0.1111111111111111,
              "#46039f"
             ],
             [
              0.2222222222222222,
              "#7201a8"
             ],
             [
              0.3333333333333333,
              "#9c179e"
             ],
             [
              0.4444444444444444,
              "#bd3786"
             ],
             [
              0.5555555555555556,
              "#d8576b"
             ],
             [
              0.6666666666666666,
              "#ed7953"
             ],
             [
              0.7777777777777778,
              "#fb9f3a"
             ],
             [
              0.8888888888888888,
              "#fdca26"
             ],
             [
              1,
              "#f0f921"
             ]
            ],
            "type": "surface"
           }
          ],
          "table": [
           {
            "cells": {
             "fill": {
              "color": "#EBF0F8"
             },
             "line": {
              "color": "white"
             }
            },
            "header": {
             "fill": {
              "color": "#C8D4E3"
             },
             "line": {
              "color": "white"
             }
            },
            "type": "table"
           }
          ]
         },
         "layout": {
          "annotationdefaults": {
           "arrowcolor": "#2a3f5f",
           "arrowhead": 0,
           "arrowwidth": 1
          },
          "autotypenumbers": "strict",
          "coloraxis": {
           "colorbar": {
            "outlinewidth": 0,
            "ticks": ""
           }
          },
          "colorscale": {
           "diverging": [
            [
             0,
             "#8e0152"
            ],
            [
             0.1,
             "#c51b7d"
            ],
            [
             0.2,
             "#de77ae"
            ],
            [
             0.3,
             "#f1b6da"
            ],
            [
             0.4,
             "#fde0ef"
            ],
            [
             0.5,
             "#f7f7f7"
            ],
            [
             0.6,
             "#e6f5d0"
            ],
            [
             0.7,
             "#b8e186"
            ],
            [
             0.8,
             "#7fbc41"
            ],
            [
             0.9,
             "#4d9221"
            ],
            [
             1,
             "#276419"
            ]
           ],
           "sequential": [
            [
             0,
             "#0d0887"
            ],
            [
             0.1111111111111111,
             "#46039f"
            ],
            [
             0.2222222222222222,
             "#7201a8"
            ],
            [
             0.3333333333333333,
             "#9c179e"
            ],
            [
             0.4444444444444444,
             "#bd3786"
            ],
            [
             0.5555555555555556,
             "#d8576b"
            ],
            [
             0.6666666666666666,
             "#ed7953"
            ],
            [
             0.7777777777777778,
             "#fb9f3a"
            ],
            [
             0.8888888888888888,
             "#fdca26"
            ],
            [
             1,
             "#f0f921"
            ]
           ],
           "sequentialminus": [
            [
             0,
             "#0d0887"
            ],
            [
             0.1111111111111111,
             "#46039f"
            ],
            [
             0.2222222222222222,
             "#7201a8"
            ],
            [
             0.3333333333333333,
             "#9c179e"
            ],
            [
             0.4444444444444444,
             "#bd3786"
            ],
            [
             0.5555555555555556,
             "#d8576b"
            ],
            [
             0.6666666666666666,
             "#ed7953"
            ],
            [
             0.7777777777777778,
             "#fb9f3a"
            ],
            [
             0.8888888888888888,
             "#fdca26"
            ],
            [
             1,
             "#f0f921"
            ]
           ]
          },
          "colorway": [
           "#636efa",
           "#EF553B",
           "#00cc96",
           "#ab63fa",
           "#FFA15A",
           "#19d3f3",
           "#FF6692",
           "#B6E880",
           "#FF97FF",
           "#FECB52"
          ],
          "font": {
           "color": "#2a3f5f"
          },
          "geo": {
           "bgcolor": "white",
           "lakecolor": "white",
           "landcolor": "#E5ECF6",
           "showlakes": true,
           "showland": true,
           "subunitcolor": "white"
          },
          "hoverlabel": {
           "align": "left"
          },
          "hovermode": "closest",
          "mapbox": {
           "style": "light"
          },
          "paper_bgcolor": "white",
          "plot_bgcolor": "#E5ECF6",
          "polar": {
           "angularaxis": {
            "gridcolor": "white",
            "linecolor": "white",
            "ticks": ""
           },
           "bgcolor": "#E5ECF6",
           "radialaxis": {
            "gridcolor": "white",
            "linecolor": "white",
            "ticks": ""
           }
          },
          "scene": {
           "xaxis": {
            "backgroundcolor": "#E5ECF6",
            "gridcolor": "white",
            "gridwidth": 2,
            "linecolor": "white",
            "showbackground": true,
            "ticks": "",
            "zerolinecolor": "white"
           },
           "yaxis": {
            "backgroundcolor": "#E5ECF6",
            "gridcolor": "white",
            "gridwidth": 2,
            "linecolor": "white",
            "showbackground": true,
            "ticks": "",
            "zerolinecolor": "white"
           },
           "zaxis": {
            "backgroundcolor": "#E5ECF6",
            "gridcolor": "white",
            "gridwidth": 2,
            "linecolor": "white",
            "showbackground": true,
            "ticks": "",
            "zerolinecolor": "white"
           }
          },
          "shapedefaults": {
           "line": {
            "color": "#2a3f5f"
           }
          },
          "ternary": {
           "aaxis": {
            "gridcolor": "white",
            "linecolor": "white",
            "ticks": ""
           },
           "baxis": {
            "gridcolor": "white",
            "linecolor": "white",
            "ticks": ""
           },
           "bgcolor": "#E5ECF6",
           "caxis": {
            "gridcolor": "white",
            "linecolor": "white",
            "ticks": ""
           }
          },
          "title": {
           "x": 0.05
          },
          "xaxis": {
           "automargin": true,
           "gridcolor": "white",
           "linecolor": "white",
           "ticks": "",
           "title": {
            "standoff": 15
           },
           "zerolinecolor": "white",
           "zerolinewidth": 2
          },
          "yaxis": {
           "automargin": true,
           "gridcolor": "white",
           "linecolor": "white",
           "ticks": "",
           "title": {
            "standoff": 15
           },
           "zerolinecolor": "white",
           "zerolinewidth": 2
          }
         }
        },
        "title": {
         "text": "Burglary Count in E05000026 Ward - 2025-02-01"
        }
       }
      }
     },
     "metadata": {},
     "output_type": "display_data"
    }
   ],
   "source": [
    "# Plot all LSOAs within wards and their burglary counts\n",
    "\n",
    "\n",
    "selected_ward_code = \"E05000026\"\n",
    "# YYYY-MM-DD\n",
    "selected_month = \"2025-02-01\"\n",
    "\n",
    "lsoas_in_ward = final_lsoa_ward_df[final_lsoa_ward_df['Ward_code'] == selected_ward_code]\n",
    "burglary_for_month = monthly_burglary_counts[monthly_burglary_counts['Month'] == selected_month]\n",
    "\n",
    "# Merge them\n",
    "merged = lsoas_in_ward.merge(burglary_for_month, on=\"LSOA11NM\", how=\"left\")\n",
    "merged[\"Burglary_Count\"] = merged[\"Burglary_Count\"].fillna(0)\n",
    "\n",
    "plot_lsoas = lsoas[lsoas[\"LSOA11NM\"].isin(merged[\"LSOA11NM\"])]\n",
    "\n",
    "plot_gdf = plot_lsoas.merge(merged[[\"LSOA11NM\", \"Burglary_Count\"]], on=\"LSOA11NM\")\n",
    "\n",
    "fig = px.choropleth_map(\n",
    "    plot_gdf,\n",
    "    geojson=json.loads(plot_gdf.to_json()),\n",
    "    locations='LSOA11NM',\n",
    "    featureidkey=\"properties.LSOA11NM\",\n",
    "    color='Burglary_Count',\n",
    "    color_continuous_scale=\"OrRd\",\n",
    "    map_style=\"open-street-map\",\n",
    "    zoom=9,\n",
    "    center={\"lat\": 51.5072, \"lon\": -0.1276},\n",
    "    opacity=0.6,\n",
    "    height=600\n",
    ")\n",
    "\n",
    "fig.update_layout(title=f'Burglary Count in {selected_ward_code} Ward - {selected_month}')\n",
    "fig.show()\n"
   ]
  },
  {
   "cell_type": "code",
   "execution_count": 236,
   "id": "ddfdad40",
   "metadata": {},
   "outputs": [
    {
     "data": {
      "text/html": [
       "<div>\n",
       "<style scoped>\n",
       "    .dataframe tbody tr th:only-of-type {\n",
       "        vertical-align: middle;\n",
       "    }\n",
       "\n",
       "    .dataframe tbody tr th {\n",
       "        vertical-align: top;\n",
       "    }\n",
       "\n",
       "    .dataframe thead th {\n",
       "        text-align: right;\n",
       "    }\n",
       "</style>\n",
       "<table border=\"1\" class=\"dataframe\">\n",
       "  <thead>\n",
       "    <tr style=\"text-align: right;\">\n",
       "      <th></th>\n",
       "      <th>Ward_code</th>\n",
       "      <th>Ward</th>\n",
       "      <th>LSOA11CD</th>\n",
       "      <th>LSOA11NM</th>\n",
       "      <th>Burglary_Count</th>\n",
       "      <th>Ward_Total_Burglary</th>\n",
       "      <th>LSOA_Pct_of_Ward</th>\n",
       "    </tr>\n",
       "  </thead>\n",
       "  <tbody>\n",
       "    <tr>\n",
       "      <th>0</th>\n",
       "      <td>E05000026</td>\n",
       "      <td>Abbey</td>\n",
       "      <td>E01000010</td>\n",
       "      <td>Barking and Dagenham 015C</td>\n",
       "      <td>5.0</td>\n",
       "      <td>12.0</td>\n",
       "      <td>41.666667</td>\n",
       "    </tr>\n",
       "    <tr>\n",
       "      <th>1</th>\n",
       "      <td>E05000026</td>\n",
       "      <td>Abbey</td>\n",
       "      <td>E01000009</td>\n",
       "      <td>Barking and Dagenham 016B</td>\n",
       "      <td>2.0</td>\n",
       "      <td>12.0</td>\n",
       "      <td>16.666667</td>\n",
       "    </tr>\n",
       "    <tr>\n",
       "      <th>2</th>\n",
       "      <td>E05000026</td>\n",
       "      <td>Abbey</td>\n",
       "      <td>E01000008</td>\n",
       "      <td>Barking and Dagenham 015B</td>\n",
       "      <td>2.0</td>\n",
       "      <td>12.0</td>\n",
       "      <td>16.666667</td>\n",
       "    </tr>\n",
       "    <tr>\n",
       "      <th>3</th>\n",
       "      <td>E05000026</td>\n",
       "      <td>Abbey</td>\n",
       "      <td>E01000007</td>\n",
       "      <td>Barking and Dagenham 015A</td>\n",
       "      <td>1.0</td>\n",
       "      <td>12.0</td>\n",
       "      <td>8.333333</td>\n",
       "    </tr>\n",
       "    <tr>\n",
       "      <th>4</th>\n",
       "      <td>E05000026</td>\n",
       "      <td>Abbey</td>\n",
       "      <td>E01000012</td>\n",
       "      <td>Barking and Dagenham 015D</td>\n",
       "      <td>1.0</td>\n",
       "      <td>12.0</td>\n",
       "      <td>8.333333</td>\n",
       "    </tr>\n",
       "    <tr>\n",
       "      <th>5</th>\n",
       "      <td>E05000026</td>\n",
       "      <td>Abbey</td>\n",
       "      <td>E01000006</td>\n",
       "      <td>Barking and Dagenham 016A</td>\n",
       "      <td>1.0</td>\n",
       "      <td>12.0</td>\n",
       "      <td>8.333333</td>\n",
       "    </tr>\n",
       "    <tr>\n",
       "      <th>6</th>\n",
       "      <td>E05000026</td>\n",
       "      <td>Abbey</td>\n",
       "      <td>E01000011</td>\n",
       "      <td>Barking and Dagenham 016C</td>\n",
       "      <td>0.0</td>\n",
       "      <td>12.0</td>\n",
       "      <td>0.000000</td>\n",
       "    </tr>\n",
       "    <tr>\n",
       "      <th>7</th>\n",
       "      <td>E05000027</td>\n",
       "      <td>Alibon</td>\n",
       "      <td>E01000014</td>\n",
       "      <td>Barking and Dagenham 013B</td>\n",
       "      <td>2.0</td>\n",
       "      <td>3.0</td>\n",
       "      <td>66.666667</td>\n",
       "    </tr>\n",
       "    <tr>\n",
       "      <th>8</th>\n",
       "      <td>E05000027</td>\n",
       "      <td>Alibon</td>\n",
       "      <td>E01000013</td>\n",
       "      <td>Barking and Dagenham 013A</td>\n",
       "      <td>1.0</td>\n",
       "      <td>3.0</td>\n",
       "      <td>33.333333</td>\n",
       "    </tr>\n",
       "    <tr>\n",
       "      <th>9</th>\n",
       "      <td>E05000027</td>\n",
       "      <td>Alibon</td>\n",
       "      <td>E01000015</td>\n",
       "      <td>Barking and Dagenham 009A</td>\n",
       "      <td>0.0</td>\n",
       "      <td>3.0</td>\n",
       "      <td>0.000000</td>\n",
       "    </tr>\n",
       "  </tbody>\n",
       "</table>\n",
       "</div>"
      ],
      "text/plain": [
       "   Ward_code    Ward   LSOA11CD                   LSOA11NM  Burglary_Count  \\\n",
       "0  E05000026   Abbey  E01000010  Barking and Dagenham 015C             5.0   \n",
       "1  E05000026   Abbey  E01000009  Barking and Dagenham 016B             2.0   \n",
       "2  E05000026   Abbey  E01000008  Barking and Dagenham 015B             2.0   \n",
       "3  E05000026   Abbey  E01000007  Barking and Dagenham 015A             1.0   \n",
       "4  E05000026   Abbey  E01000012  Barking and Dagenham 015D             1.0   \n",
       "5  E05000026   Abbey  E01000006  Barking and Dagenham 016A             1.0   \n",
       "6  E05000026   Abbey  E01000011  Barking and Dagenham 016C             0.0   \n",
       "7  E05000027  Alibon  E01000014  Barking and Dagenham 013B             2.0   \n",
       "8  E05000027  Alibon  E01000013  Barking and Dagenham 013A             1.0   \n",
       "9  E05000027  Alibon  E01000015  Barking and Dagenham 009A             0.0   \n",
       "\n",
       "   Ward_Total_Burglary  LSOA_Pct_of_Ward  \n",
       "0                 12.0         41.666667  \n",
       "1                 12.0         16.666667  \n",
       "2                 12.0         16.666667  \n",
       "3                 12.0          8.333333  \n",
       "4                 12.0          8.333333  \n",
       "5                 12.0          8.333333  \n",
       "6                 12.0          0.000000  \n",
       "7                  3.0         66.666667  \n",
       "8                  3.0         33.333333  \n",
       "9                  3.0          0.000000  "
      ]
     },
     "execution_count": 236,
     "metadata": {},
     "output_type": "execute_result"
    }
   ],
   "source": [
    "# Get burglary per LSOA, and calculate its share from the ward total burglary (percentage)\n",
    "\n",
    "\n",
    "# YYYY-MM-DD\n",
    "selected_month = \"2025-02-01\"\n",
    "\n",
    "burglary_for_month = monthly_burglary_counts[\n",
    "    monthly_burglary_counts[\"Month\"] == selected_month\n",
    "]\n",
    "\n",
    "merged = final_lsoa_ward_df.merge(\n",
    "    burglary_for_month,\n",
    "    on=\"LSOA11NM\",\n",
    "    how=\"left\"\n",
    ")\n",
    "\n",
    "merged[\"Burglary_Count\"] = merged[\"Burglary_Count\"].fillna(0)\n",
    "\n",
    "ward_totals = merged.groupby(\"Ward_code\")[\"Burglary_Count\"].sum().reset_index()\n",
    "ward_totals = ward_totals.rename(columns={\"Burglary_Count\": \"Ward_Total_Burglary\"})\n",
    "\n",
    "\n",
    "merged = merged.merge(ward_totals, on=\"Ward_code\", how=\"left\")\n",
    "\n",
    "merged[\"LSOA_Pct_of_Ward\"] = (\n",
    "    merged[\"Burglary_Count\"] / merged[\"Ward_Total_Burglary\"]\n",
    ").fillna(0) * 100\n",
    "\n",
    "lsoa_pct_ward = merged[[\n",
    "    \"Ward_code\", \"Ward\", \"LSOA11CD\", \"LSOA11NM\",\n",
    "    \"Burglary_Count\", \"Ward_Total_Burglary\", \"LSOA_Pct_of_Ward\"\n",
    "]]\n",
    "\n",
    "lsoa_pct_ward = lsoa_pct_ward.sort_values(\n",
    "    by=[\"Ward_code\", \"Burglary_Count\"], ascending=[True, False]\n",
    ").reset_index(drop=True)\n",
    "\n",
    "lsoa_pct_ward.head(10)"
   ]
  },
  {
   "cell_type": "code",
   "execution_count": 237,
   "id": "4b933602",
   "metadata": {},
   "outputs": [
    {
     "data": {
      "text/html": [
       "<div>\n",
       "<style scoped>\n",
       "    .dataframe tbody tr th:only-of-type {\n",
       "        vertical-align: middle;\n",
       "    }\n",
       "\n",
       "    .dataframe tbody tr th {\n",
       "        vertical-align: top;\n",
       "    }\n",
       "\n",
       "    .dataframe thead th {\n",
       "        text-align: right;\n",
       "    }\n",
       "</style>\n",
       "<table border=\"1\" class=\"dataframe\">\n",
       "  <thead>\n",
       "    <tr style=\"text-align: right;\">\n",
       "      <th></th>\n",
       "      <th>Ward_code</th>\n",
       "      <th>Ward</th>\n",
       "      <th>LSOA11CD</th>\n",
       "      <th>LSOA11NM</th>\n",
       "      <th>Burglary_Count</th>\n",
       "      <th>Ward_Total_Burglary</th>\n",
       "      <th>LSOA_Pct_of_Ward</th>\n",
       "    </tr>\n",
       "  </thead>\n",
       "  <tbody>\n",
       "    <tr>\n",
       "      <th>0</th>\n",
       "      <td>E05000465</td>\n",
       "      <td>Lower Morden</td>\n",
       "      <td>E01003422</td>\n",
       "      <td>Merton 025E</td>\n",
       "      <td>3.0</td>\n",
       "      <td>3.0</td>\n",
       "      <td>100.0</td>\n",
       "    </tr>\n",
       "    <tr>\n",
       "      <th>1</th>\n",
       "      <td>E05000163</td>\n",
       "      <td>Shirley</td>\n",
       "      <td>E01001129</td>\n",
       "      <td>Croydon 026D</td>\n",
       "      <td>2.0</td>\n",
       "      <td>2.0</td>\n",
       "      <td>100.0</td>\n",
       "    </tr>\n",
       "    <tr>\n",
       "      <th>2</th>\n",
       "      <td>E05000078</td>\n",
       "      <td>Longlands</td>\n",
       "      <td>E01000428</td>\n",
       "      <td>Bexley 027D</td>\n",
       "      <td>1.0</td>\n",
       "      <td>1.0</td>\n",
       "      <td>100.0</td>\n",
       "    </tr>\n",
       "    <tr>\n",
       "      <th>3</th>\n",
       "      <td>E05000077</td>\n",
       "      <td>Lesnes Abbey</td>\n",
       "      <td>E01000416</td>\n",
       "      <td>Bexley 002A</td>\n",
       "      <td>1.0</td>\n",
       "      <td>1.0</td>\n",
       "      <td>100.0</td>\n",
       "    </tr>\n",
       "    <tr>\n",
       "      <th>4</th>\n",
       "      <td>E05000424</td>\n",
       "      <td>Knight's Hill</td>\n",
       "      <td>E01003087</td>\n",
       "      <td>Lambeth 031E</td>\n",
       "      <td>1.0</td>\n",
       "      <td>1.0</td>\n",
       "      <td>100.0</td>\n",
       "    </tr>\n",
       "    <tr>\n",
       "      <th>...</th>\n",
       "      <td>...</td>\n",
       "      <td>...</td>\n",
       "      <td>...</td>\n",
       "      <td>...</td>\n",
       "      <td>...</td>\n",
       "      <td>...</td>\n",
       "      <td>...</td>\n",
       "    </tr>\n",
       "    <tr>\n",
       "      <th>620</th>\n",
       "      <td>E05000080</td>\n",
       "      <td>Northumberland Heath</td>\n",
       "      <td>E01000442</td>\n",
       "      <td>Bexley 006E</td>\n",
       "      <td>0.0</td>\n",
       "      <td>0.0</td>\n",
       "      <td>0.0</td>\n",
       "    </tr>\n",
       "    <tr>\n",
       "      <th>621</th>\n",
       "      <td>E05000066</td>\n",
       "      <td>Blackfen and Lamorbey</td>\n",
       "      <td>E01000343</td>\n",
       "      <td>Bexley 022C</td>\n",
       "      <td>0.0</td>\n",
       "      <td>0.0</td>\n",
       "      <td>0.0</td>\n",
       "    </tr>\n",
       "    <tr>\n",
       "      <th>622</th>\n",
       "      <td>E05000333</td>\n",
       "      <td>Ickenham</td>\n",
       "      <td>E01002462</td>\n",
       "      <td>Hillingdon 011D</td>\n",
       "      <td>0.0</td>\n",
       "      <td>0.0</td>\n",
       "      <td>0.0</td>\n",
       "    </tr>\n",
       "    <tr>\n",
       "      <th>623</th>\n",
       "      <td>E05000318</td>\n",
       "      <td>Rainham and Wennington</td>\n",
       "      <td>E01002342</td>\n",
       "      <td>Havering 030A</td>\n",
       "      <td>0.0</td>\n",
       "      <td>0.0</td>\n",
       "      <td>0.0</td>\n",
       "    </tr>\n",
       "    <tr>\n",
       "      <th>624</th>\n",
       "      <td>E05000360</td>\n",
       "      <td>Hounslow South</td>\n",
       "      <td>E01002657</td>\n",
       "      <td>Hounslow 018E</td>\n",
       "      <td>0.0</td>\n",
       "      <td>0.0</td>\n",
       "      <td>0.0</td>\n",
       "    </tr>\n",
       "  </tbody>\n",
       "</table>\n",
       "<p>625 rows × 7 columns</p>\n",
       "</div>"
      ],
      "text/plain": [
       "     Ward_code                    Ward   LSOA11CD         LSOA11NM  \\\n",
       "0    E05000465            Lower Morden  E01003422      Merton 025E   \n",
       "1    E05000163                 Shirley  E01001129     Croydon 026D   \n",
       "2    E05000078               Longlands  E01000428      Bexley 027D   \n",
       "3    E05000077            Lesnes Abbey  E01000416      Bexley 002A   \n",
       "4    E05000424           Knight's Hill  E01003087     Lambeth 031E   \n",
       "..         ...                     ...        ...              ...   \n",
       "620  E05000080    Northumberland Heath  E01000442      Bexley 006E   \n",
       "621  E05000066   Blackfen and Lamorbey  E01000343      Bexley 022C   \n",
       "622  E05000333                Ickenham  E01002462  Hillingdon 011D   \n",
       "623  E05000318  Rainham and Wennington  E01002342    Havering 030A   \n",
       "624  E05000360          Hounslow South  E01002657    Hounslow 018E   \n",
       "\n",
       "     Burglary_Count  Ward_Total_Burglary  LSOA_Pct_of_Ward  \n",
       "0               3.0                  3.0             100.0  \n",
       "1               2.0                  2.0             100.0  \n",
       "2               1.0                  1.0             100.0  \n",
       "3               1.0                  1.0             100.0  \n",
       "4               1.0                  1.0             100.0  \n",
       "..              ...                  ...               ...  \n",
       "620             0.0                  0.0               0.0  \n",
       "621             0.0                  0.0               0.0  \n",
       "622             0.0                  0.0               0.0  \n",
       "623             0.0                  0.0               0.0  \n",
       "624             0.0                  0.0               0.0  \n",
       "\n",
       "[625 rows x 7 columns]"
      ]
     },
     "execution_count": 237,
     "metadata": {},
     "output_type": "execute_result"
    }
   ],
   "source": [
    "# Find the LSOA with the highest percentage for each ward\n",
    "\n",
    "\n",
    "idx = lsoa_pct_ward.groupby(\"Ward_code\")[\"LSOA_Pct_of_Ward\"].idxmax()\n",
    "\n",
    "top_lsoas_per_ward = lsoa_pct_ward.loc[idx].reset_index(drop=True)\n",
    "\n",
    "# Sort by percentage\n",
    "top_lsoas_per_ward = top_lsoas_per_ward.sort_values(\"LSOA_Pct_of_Ward\", ascending=False).reset_index(drop=True)\n",
    "\n",
    "top_lsoas_per_ward"
   ]
  },
  {
   "cell_type": "code",
   "execution_count": 238,
   "id": "6b780dbe",
   "metadata": {},
   "outputs": [
    {
     "name": "stdout",
     "output_type": "stream",
     "text": [
      "Number of wards with 100% of burglaries in 1 LSOA: 65\n",
      "Number of wards with no burglaries: 18\n"
     ]
    }
   ],
   "source": [
    "print(\"Number of wards with 100% of burglaries in 1 LSOA:\", (top_lsoas_per_ward[\"LSOA_Pct_of_Ward\"] == 100).sum())\n",
    "print(\"Number of wards with no burglaries:\", (top_lsoas_per_ward[\"LSOA_Pct_of_Ward\"] == 0).sum())"
   ]
  },
  {
   "cell_type": "code",
   "execution_count": 239,
   "id": "5741f7cd",
   "metadata": {},
   "outputs": [
    {
     "data": {
      "text/html": [
       "<div>\n",
       "<style scoped>\n",
       "    .dataframe tbody tr th:only-of-type {\n",
       "        vertical-align: middle;\n",
       "    }\n",
       "\n",
       "    .dataframe tbody tr th {\n",
       "        vertical-align: top;\n",
       "    }\n",
       "\n",
       "    .dataframe thead th {\n",
       "        text-align: right;\n",
       "    }\n",
       "</style>\n",
       "<table border=\"1\" class=\"dataframe\">\n",
       "  <thead>\n",
       "    <tr style=\"text-align: right;\">\n",
       "      <th></th>\n",
       "      <th>Ward_code</th>\n",
       "      <th>Ward</th>\n",
       "      <th>LSOA11CD</th>\n",
       "      <th>LSOA11NM</th>\n",
       "      <th>Burglary_Count</th>\n",
       "      <th>Ward_Total_Burglary</th>\n",
       "      <th>LSOA_Pct_of_Ward</th>\n",
       "      <th>Police_officers</th>\n",
       "    </tr>\n",
       "  </thead>\n",
       "  <tbody>\n",
       "    <tr>\n",
       "      <th>0</th>\n",
       "      <td>E05000026</td>\n",
       "      <td>Abbey</td>\n",
       "      <td>E01000010</td>\n",
       "      <td>Barking and Dagenham 015C</td>\n",
       "      <td>5.0</td>\n",
       "      <td>12.0</td>\n",
       "      <td>41.666667</td>\n",
       "      <td>41</td>\n",
       "    </tr>\n",
       "    <tr>\n",
       "      <th>1</th>\n",
       "      <td>E05000026</td>\n",
       "      <td>Abbey</td>\n",
       "      <td>E01000009</td>\n",
       "      <td>Barking and Dagenham 016B</td>\n",
       "      <td>2.0</td>\n",
       "      <td>12.0</td>\n",
       "      <td>16.666667</td>\n",
       "      <td>16</td>\n",
       "    </tr>\n",
       "    <tr>\n",
       "      <th>2</th>\n",
       "      <td>E05000026</td>\n",
       "      <td>Abbey</td>\n",
       "      <td>E01000008</td>\n",
       "      <td>Barking and Dagenham 015B</td>\n",
       "      <td>2.0</td>\n",
       "      <td>12.0</td>\n",
       "      <td>16.666667</td>\n",
       "      <td>16</td>\n",
       "    </tr>\n",
       "    <tr>\n",
       "      <th>3</th>\n",
       "      <td>E05000026</td>\n",
       "      <td>Abbey</td>\n",
       "      <td>E01000007</td>\n",
       "      <td>Barking and Dagenham 015A</td>\n",
       "      <td>1.0</td>\n",
       "      <td>12.0</td>\n",
       "      <td>8.333333</td>\n",
       "      <td>8</td>\n",
       "    </tr>\n",
       "    <tr>\n",
       "      <th>4</th>\n",
       "      <td>E05000026</td>\n",
       "      <td>Abbey</td>\n",
       "      <td>E01000012</td>\n",
       "      <td>Barking and Dagenham 015D</td>\n",
       "      <td>1.0</td>\n",
       "      <td>12.0</td>\n",
       "      <td>8.333333</td>\n",
       "      <td>8</td>\n",
       "    </tr>\n",
       "    <tr>\n",
       "      <th>5</th>\n",
       "      <td>E05000026</td>\n",
       "      <td>Abbey</td>\n",
       "      <td>E01000006</td>\n",
       "      <td>Barking and Dagenham 016A</td>\n",
       "      <td>1.0</td>\n",
       "      <td>12.0</td>\n",
       "      <td>8.333333</td>\n",
       "      <td>8</td>\n",
       "    </tr>\n",
       "    <tr>\n",
       "      <th>6</th>\n",
       "      <td>E05000026</td>\n",
       "      <td>Abbey</td>\n",
       "      <td>E01000011</td>\n",
       "      <td>Barking and Dagenham 016C</td>\n",
       "      <td>0.0</td>\n",
       "      <td>12.0</td>\n",
       "      <td>0.000000</td>\n",
       "      <td>0</td>\n",
       "    </tr>\n",
       "    <tr>\n",
       "      <th>7</th>\n",
       "      <td>E05000027</td>\n",
       "      <td>Alibon</td>\n",
       "      <td>E01000014</td>\n",
       "      <td>Barking and Dagenham 013B</td>\n",
       "      <td>2.0</td>\n",
       "      <td>3.0</td>\n",
       "      <td>66.666667</td>\n",
       "      <td>66</td>\n",
       "    </tr>\n",
       "    <tr>\n",
       "      <th>8</th>\n",
       "      <td>E05000027</td>\n",
       "      <td>Alibon</td>\n",
       "      <td>E01000013</td>\n",
       "      <td>Barking and Dagenham 013A</td>\n",
       "      <td>1.0</td>\n",
       "      <td>3.0</td>\n",
       "      <td>33.333333</td>\n",
       "      <td>33</td>\n",
       "    </tr>\n",
       "    <tr>\n",
       "      <th>9</th>\n",
       "      <td>E05000027</td>\n",
       "      <td>Alibon</td>\n",
       "      <td>E01000015</td>\n",
       "      <td>Barking and Dagenham 009A</td>\n",
       "      <td>0.0</td>\n",
       "      <td>3.0</td>\n",
       "      <td>0.000000</td>\n",
       "      <td>0</td>\n",
       "    </tr>\n",
       "  </tbody>\n",
       "</table>\n",
       "</div>"
      ],
      "text/plain": [
       "   Ward_code    Ward   LSOA11CD                   LSOA11NM  Burglary_Count  \\\n",
       "0  E05000026   Abbey  E01000010  Barking and Dagenham 015C             5.0   \n",
       "1  E05000026   Abbey  E01000009  Barking and Dagenham 016B             2.0   \n",
       "2  E05000026   Abbey  E01000008  Barking and Dagenham 015B             2.0   \n",
       "3  E05000026   Abbey  E01000007  Barking and Dagenham 015A             1.0   \n",
       "4  E05000026   Abbey  E01000012  Barking and Dagenham 015D             1.0   \n",
       "5  E05000026   Abbey  E01000006  Barking and Dagenham 016A             1.0   \n",
       "6  E05000026   Abbey  E01000011  Barking and Dagenham 016C             0.0   \n",
       "7  E05000027  Alibon  E01000014  Barking and Dagenham 013B             2.0   \n",
       "8  E05000027  Alibon  E01000013  Barking and Dagenham 013A             1.0   \n",
       "9  E05000027  Alibon  E01000015  Barking and Dagenham 009A             0.0   \n",
       "\n",
       "   Ward_Total_Burglary  LSOA_Pct_of_Ward  Police_officers  \n",
       "0                 12.0         41.666667               41  \n",
       "1                 12.0         16.666667               16  \n",
       "2                 12.0         16.666667               16  \n",
       "3                 12.0          8.333333                8  \n",
       "4                 12.0          8.333333                8  \n",
       "5                 12.0          8.333333                8  \n",
       "6                 12.0          0.000000                0  \n",
       "7                  3.0         66.666667               66  \n",
       "8                  3.0         33.333333               33  \n",
       "9                  3.0          0.000000                0  "
      ]
     },
     "execution_count": 239,
     "metadata": {},
     "output_type": "execute_result"
    }
   ],
   "source": [
    "# Add Police_officers column by rounding down percentage\n",
    "\n",
    "\n",
    "lsoa_pct_ward[\"Police_officers\"] = np.floor(lsoa_pct_ward[\"LSOA_Pct_of_Ward\"]).astype(int)\n",
    "\n",
    "lsoa_pct_ward.head(10)"
   ]
  }
 ],
 "metadata": {
  "kernelspec": {
   "display_name": "Python 3",
   "language": "python",
   "name": "python3"
  },
  "language_info": {
   "codemirror_mode": {
    "name": "ipython",
    "version": 3
   },
   "file_extension": ".py",
   "mimetype": "text/x-python",
   "name": "python",
   "nbconvert_exporter": "python",
   "pygments_lexer": "ipython3",
   "version": "3.12.0"
  }
 },
 "nbformat": 4,
 "nbformat_minor": 5
}
