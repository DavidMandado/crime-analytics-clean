{
 "cells": [
  {
   "cell_type": "code",
   "id": "f973eab0-6880-4d0e-babc-c11b7d0a13f1",
   "metadata": {
    "ExecuteTime": {
     "end_time": "2025-05-26T12:49:10.323225Z",
     "start_time": "2025-05-26T12:49:00.984486Z"
    }
   },
   "source": [
    "import plotly.express as px\n",
    "\n",
    "from lightgbm import LGBMRegressor, early_stopping, log_evaluation\n",
    "\n",
    "from sklearn.model_selection import GridSearchCV\n",
    "from sklearn.model_selection import train_test_split\n",
    "from sklearn.metrics import mean_squared_error\n",
    "\n",
    "import numpy as np\n",
    "import pandas as pd\n",
    "import geopandas as gpd\n",
    "import json"
   ],
   "outputs": [],
   "execution_count": 1
  },
  {
   "cell_type": "code",
   "id": "72fa434a-cf6a-477c-ae92-525efbeb8ec5",
   "metadata": {
    "ExecuteTime": {
     "end_time": "2025-05-26T12:49:19.195249Z",
     "start_time": "2025-05-26T12:49:19.031015Z"
    }
   },
   "source": [
    "# crimes from 2022-2025\n",
    "crimes = pd.read_csv('data/all_crimes_2022-2025.csv')\n",
    "\n",
    "# clean data\n",
    "crimes = crimes[(crimes['Falls within'] == 'Metropolitan Police Service')]\n",
    "crimes = crimes.drop(['Context', 'Crime ID', 'Reported by', 'Falls within',\n",
    "                      'Last outcome category', 'LSOA name', 'LSOA code', 'Location'], axis=1)\n",
    "crimes = crimes.dropna().reset_index(drop=True)\n",
    "\n",
    "crimes_test = crimes[crimes['Month'].str.contains('2024')].reset_index(drop=True)\n",
    "test_X_data = crimes_test[crimes_test['Crime type'] != 'Burglary'].reset_index(drop=True)\n",
    "test_y_data = crimes_test[crimes_test['Crime type'] == 'Burglary'].drop(['Crime type'], axis=1).reset_index(drop=True)\n",
    "\n",
    "# crimes = crimes[~crimes['Month'].astype(str).str.contains('2024')]\n",
    "# crimes = crimes[~crimes['Month'].astype(str).str.contains('2025')]\n",
    "crimes = crimes[crimes['Month'].astype(str).str.contains('2023')]\n",
    "\n",
    "train_X_data = crimes[crimes['Crime type'] != 'Burglary'].reset_index(drop=True)\n",
    "train_y_data = crimes[crimes['Crime type'] == 'Burglary'].drop(['Crime type'], axis=1).reset_index(drop=True)"
   ],
   "outputs": [
    {
     "ename": "FileNotFoundError",
     "evalue": "[Errno 2] No such file or directory: 'data/all_crimes_2022-2025.csv'",
     "output_type": "error",
     "traceback": [
      "\u001B[1;31m---------------------------------------------------------------------------\u001B[0m",
      "\u001B[1;31mFileNotFoundError\u001B[0m                         Traceback (most recent call last)",
      "Cell \u001B[1;32mIn[4], line 2\u001B[0m\n\u001B[0;32m      1\u001B[0m \u001B[38;5;66;03m# crimes from 2022-2025\u001B[39;00m\n\u001B[1;32m----> 2\u001B[0m crimes \u001B[38;5;241m=\u001B[39m \u001B[43mpd\u001B[49m\u001B[38;5;241;43m.\u001B[39;49m\u001B[43mread_csv\u001B[49m\u001B[43m(\u001B[49m\u001B[38;5;124;43m'\u001B[39;49m\u001B[38;5;124;43mdata/all_crimes_2022-2025.csv\u001B[39;49m\u001B[38;5;124;43m'\u001B[39;49m\u001B[43m)\u001B[49m\n\u001B[0;32m      4\u001B[0m \u001B[38;5;66;03m# clean data\u001B[39;00m\n\u001B[0;32m      5\u001B[0m crimes \u001B[38;5;241m=\u001B[39m crimes[(crimes[\u001B[38;5;124m'\u001B[39m\u001B[38;5;124mFalls within\u001B[39m\u001B[38;5;124m'\u001B[39m] \u001B[38;5;241m==\u001B[39m \u001B[38;5;124m'\u001B[39m\u001B[38;5;124mMetropolitan Police Service\u001B[39m\u001B[38;5;124m'\u001B[39m)]\n",
      "File \u001B[1;32m~\\AppData\\Local\\Programs\\Python\\Python310\\lib\\site-packages\\pandas\\io\\parsers\\readers.py:1026\u001B[0m, in \u001B[0;36mread_csv\u001B[1;34m(filepath_or_buffer, sep, delimiter, header, names, index_col, usecols, dtype, engine, converters, true_values, false_values, skipinitialspace, skiprows, skipfooter, nrows, na_values, keep_default_na, na_filter, verbose, skip_blank_lines, parse_dates, infer_datetime_format, keep_date_col, date_parser, date_format, dayfirst, cache_dates, iterator, chunksize, compression, thousands, decimal, lineterminator, quotechar, quoting, doublequote, escapechar, comment, encoding, encoding_errors, dialect, on_bad_lines, delim_whitespace, low_memory, memory_map, float_precision, storage_options, dtype_backend)\u001B[0m\n\u001B[0;32m   1013\u001B[0m kwds_defaults \u001B[38;5;241m=\u001B[39m _refine_defaults_read(\n\u001B[0;32m   1014\u001B[0m     dialect,\n\u001B[0;32m   1015\u001B[0m     delimiter,\n\u001B[1;32m   (...)\u001B[0m\n\u001B[0;32m   1022\u001B[0m     dtype_backend\u001B[38;5;241m=\u001B[39mdtype_backend,\n\u001B[0;32m   1023\u001B[0m )\n\u001B[0;32m   1024\u001B[0m kwds\u001B[38;5;241m.\u001B[39mupdate(kwds_defaults)\n\u001B[1;32m-> 1026\u001B[0m \u001B[38;5;28;01mreturn\u001B[39;00m \u001B[43m_read\u001B[49m\u001B[43m(\u001B[49m\u001B[43mfilepath_or_buffer\u001B[49m\u001B[43m,\u001B[49m\u001B[43m \u001B[49m\u001B[43mkwds\u001B[49m\u001B[43m)\u001B[49m\n",
      "File \u001B[1;32m~\\AppData\\Local\\Programs\\Python\\Python310\\lib\\site-packages\\pandas\\io\\parsers\\readers.py:620\u001B[0m, in \u001B[0;36m_read\u001B[1;34m(filepath_or_buffer, kwds)\u001B[0m\n\u001B[0;32m    617\u001B[0m _validate_names(kwds\u001B[38;5;241m.\u001B[39mget(\u001B[38;5;124m\"\u001B[39m\u001B[38;5;124mnames\u001B[39m\u001B[38;5;124m\"\u001B[39m, \u001B[38;5;28;01mNone\u001B[39;00m))\n\u001B[0;32m    619\u001B[0m \u001B[38;5;66;03m# Create the parser.\u001B[39;00m\n\u001B[1;32m--> 620\u001B[0m parser \u001B[38;5;241m=\u001B[39m TextFileReader(filepath_or_buffer, \u001B[38;5;241m*\u001B[39m\u001B[38;5;241m*\u001B[39mkwds)\n\u001B[0;32m    622\u001B[0m \u001B[38;5;28;01mif\u001B[39;00m chunksize \u001B[38;5;129;01mor\u001B[39;00m iterator:\n\u001B[0;32m    623\u001B[0m     \u001B[38;5;28;01mreturn\u001B[39;00m parser\n",
      "File \u001B[1;32m~\\AppData\\Local\\Programs\\Python\\Python310\\lib\\site-packages\\pandas\\io\\parsers\\readers.py:1620\u001B[0m, in \u001B[0;36mTextFileReader.__init__\u001B[1;34m(self, f, engine, **kwds)\u001B[0m\n\u001B[0;32m   1617\u001B[0m     \u001B[38;5;28mself\u001B[39m\u001B[38;5;241m.\u001B[39moptions[\u001B[38;5;124m\"\u001B[39m\u001B[38;5;124mhas_index_names\u001B[39m\u001B[38;5;124m\"\u001B[39m] \u001B[38;5;241m=\u001B[39m kwds[\u001B[38;5;124m\"\u001B[39m\u001B[38;5;124mhas_index_names\u001B[39m\u001B[38;5;124m\"\u001B[39m]\n\u001B[0;32m   1619\u001B[0m \u001B[38;5;28mself\u001B[39m\u001B[38;5;241m.\u001B[39mhandles: IOHandles \u001B[38;5;241m|\u001B[39m \u001B[38;5;28;01mNone\u001B[39;00m \u001B[38;5;241m=\u001B[39m \u001B[38;5;28;01mNone\u001B[39;00m\n\u001B[1;32m-> 1620\u001B[0m \u001B[38;5;28mself\u001B[39m\u001B[38;5;241m.\u001B[39m_engine \u001B[38;5;241m=\u001B[39m \u001B[38;5;28;43mself\u001B[39;49m\u001B[38;5;241;43m.\u001B[39;49m\u001B[43m_make_engine\u001B[49m\u001B[43m(\u001B[49m\u001B[43mf\u001B[49m\u001B[43m,\u001B[49m\u001B[43m \u001B[49m\u001B[38;5;28;43mself\u001B[39;49m\u001B[38;5;241;43m.\u001B[39;49m\u001B[43mengine\u001B[49m\u001B[43m)\u001B[49m\n",
      "File \u001B[1;32m~\\AppData\\Local\\Programs\\Python\\Python310\\lib\\site-packages\\pandas\\io\\parsers\\readers.py:1880\u001B[0m, in \u001B[0;36mTextFileReader._make_engine\u001B[1;34m(self, f, engine)\u001B[0m\n\u001B[0;32m   1878\u001B[0m     \u001B[38;5;28;01mif\u001B[39;00m \u001B[38;5;124m\"\u001B[39m\u001B[38;5;124mb\u001B[39m\u001B[38;5;124m\"\u001B[39m \u001B[38;5;129;01mnot\u001B[39;00m \u001B[38;5;129;01min\u001B[39;00m mode:\n\u001B[0;32m   1879\u001B[0m         mode \u001B[38;5;241m+\u001B[39m\u001B[38;5;241m=\u001B[39m \u001B[38;5;124m\"\u001B[39m\u001B[38;5;124mb\u001B[39m\u001B[38;5;124m\"\u001B[39m\n\u001B[1;32m-> 1880\u001B[0m \u001B[38;5;28mself\u001B[39m\u001B[38;5;241m.\u001B[39mhandles \u001B[38;5;241m=\u001B[39m \u001B[43mget_handle\u001B[49m\u001B[43m(\u001B[49m\n\u001B[0;32m   1881\u001B[0m \u001B[43m    \u001B[49m\u001B[43mf\u001B[49m\u001B[43m,\u001B[49m\n\u001B[0;32m   1882\u001B[0m \u001B[43m    \u001B[49m\u001B[43mmode\u001B[49m\u001B[43m,\u001B[49m\n\u001B[0;32m   1883\u001B[0m \u001B[43m    \u001B[49m\u001B[43mencoding\u001B[49m\u001B[38;5;241;43m=\u001B[39;49m\u001B[38;5;28;43mself\u001B[39;49m\u001B[38;5;241;43m.\u001B[39;49m\u001B[43moptions\u001B[49m\u001B[38;5;241;43m.\u001B[39;49m\u001B[43mget\u001B[49m\u001B[43m(\u001B[49m\u001B[38;5;124;43m\"\u001B[39;49m\u001B[38;5;124;43mencoding\u001B[39;49m\u001B[38;5;124;43m\"\u001B[39;49m\u001B[43m,\u001B[49m\u001B[43m \u001B[49m\u001B[38;5;28;43;01mNone\u001B[39;49;00m\u001B[43m)\u001B[49m\u001B[43m,\u001B[49m\n\u001B[0;32m   1884\u001B[0m \u001B[43m    \u001B[49m\u001B[43mcompression\u001B[49m\u001B[38;5;241;43m=\u001B[39;49m\u001B[38;5;28;43mself\u001B[39;49m\u001B[38;5;241;43m.\u001B[39;49m\u001B[43moptions\u001B[49m\u001B[38;5;241;43m.\u001B[39;49m\u001B[43mget\u001B[49m\u001B[43m(\u001B[49m\u001B[38;5;124;43m\"\u001B[39;49m\u001B[38;5;124;43mcompression\u001B[39;49m\u001B[38;5;124;43m\"\u001B[39;49m\u001B[43m,\u001B[49m\u001B[43m \u001B[49m\u001B[38;5;28;43;01mNone\u001B[39;49;00m\u001B[43m)\u001B[49m\u001B[43m,\u001B[49m\n\u001B[0;32m   1885\u001B[0m \u001B[43m    \u001B[49m\u001B[43mmemory_map\u001B[49m\u001B[38;5;241;43m=\u001B[39;49m\u001B[38;5;28;43mself\u001B[39;49m\u001B[38;5;241;43m.\u001B[39;49m\u001B[43moptions\u001B[49m\u001B[38;5;241;43m.\u001B[39;49m\u001B[43mget\u001B[49m\u001B[43m(\u001B[49m\u001B[38;5;124;43m\"\u001B[39;49m\u001B[38;5;124;43mmemory_map\u001B[39;49m\u001B[38;5;124;43m\"\u001B[39;49m\u001B[43m,\u001B[49m\u001B[43m \u001B[49m\u001B[38;5;28;43;01mFalse\u001B[39;49;00m\u001B[43m)\u001B[49m\u001B[43m,\u001B[49m\n\u001B[0;32m   1886\u001B[0m \u001B[43m    \u001B[49m\u001B[43mis_text\u001B[49m\u001B[38;5;241;43m=\u001B[39;49m\u001B[43mis_text\u001B[49m\u001B[43m,\u001B[49m\n\u001B[0;32m   1887\u001B[0m \u001B[43m    \u001B[49m\u001B[43merrors\u001B[49m\u001B[38;5;241;43m=\u001B[39;49m\u001B[38;5;28;43mself\u001B[39;49m\u001B[38;5;241;43m.\u001B[39;49m\u001B[43moptions\u001B[49m\u001B[38;5;241;43m.\u001B[39;49m\u001B[43mget\u001B[49m\u001B[43m(\u001B[49m\u001B[38;5;124;43m\"\u001B[39;49m\u001B[38;5;124;43mencoding_errors\u001B[39;49m\u001B[38;5;124;43m\"\u001B[39;49m\u001B[43m,\u001B[49m\u001B[43m \u001B[49m\u001B[38;5;124;43m\"\u001B[39;49m\u001B[38;5;124;43mstrict\u001B[39;49m\u001B[38;5;124;43m\"\u001B[39;49m\u001B[43m)\u001B[49m\u001B[43m,\u001B[49m\n\u001B[0;32m   1888\u001B[0m \u001B[43m    \u001B[49m\u001B[43mstorage_options\u001B[49m\u001B[38;5;241;43m=\u001B[39;49m\u001B[38;5;28;43mself\u001B[39;49m\u001B[38;5;241;43m.\u001B[39;49m\u001B[43moptions\u001B[49m\u001B[38;5;241;43m.\u001B[39;49m\u001B[43mget\u001B[49m\u001B[43m(\u001B[49m\u001B[38;5;124;43m\"\u001B[39;49m\u001B[38;5;124;43mstorage_options\u001B[39;49m\u001B[38;5;124;43m\"\u001B[39;49m\u001B[43m,\u001B[49m\u001B[43m \u001B[49m\u001B[38;5;28;43;01mNone\u001B[39;49;00m\u001B[43m)\u001B[49m\u001B[43m,\u001B[49m\n\u001B[0;32m   1889\u001B[0m \u001B[43m\u001B[49m\u001B[43m)\u001B[49m\n\u001B[0;32m   1890\u001B[0m \u001B[38;5;28;01massert\u001B[39;00m \u001B[38;5;28mself\u001B[39m\u001B[38;5;241m.\u001B[39mhandles \u001B[38;5;129;01mis\u001B[39;00m \u001B[38;5;129;01mnot\u001B[39;00m \u001B[38;5;28;01mNone\u001B[39;00m\n\u001B[0;32m   1891\u001B[0m f \u001B[38;5;241m=\u001B[39m \u001B[38;5;28mself\u001B[39m\u001B[38;5;241m.\u001B[39mhandles\u001B[38;5;241m.\u001B[39mhandle\n",
      "File \u001B[1;32m~\\AppData\\Local\\Programs\\Python\\Python310\\lib\\site-packages\\pandas\\io\\common.py:873\u001B[0m, in \u001B[0;36mget_handle\u001B[1;34m(path_or_buf, mode, encoding, compression, memory_map, is_text, errors, storage_options)\u001B[0m\n\u001B[0;32m    868\u001B[0m \u001B[38;5;28;01melif\u001B[39;00m \u001B[38;5;28misinstance\u001B[39m(handle, \u001B[38;5;28mstr\u001B[39m):\n\u001B[0;32m    869\u001B[0m     \u001B[38;5;66;03m# Check whether the filename is to be opened in binary mode.\u001B[39;00m\n\u001B[0;32m    870\u001B[0m     \u001B[38;5;66;03m# Binary mode does not support 'encoding' and 'newline'.\u001B[39;00m\n\u001B[0;32m    871\u001B[0m     \u001B[38;5;28;01mif\u001B[39;00m ioargs\u001B[38;5;241m.\u001B[39mencoding \u001B[38;5;129;01mand\u001B[39;00m \u001B[38;5;124m\"\u001B[39m\u001B[38;5;124mb\u001B[39m\u001B[38;5;124m\"\u001B[39m \u001B[38;5;129;01mnot\u001B[39;00m \u001B[38;5;129;01min\u001B[39;00m ioargs\u001B[38;5;241m.\u001B[39mmode:\n\u001B[0;32m    872\u001B[0m         \u001B[38;5;66;03m# Encoding\u001B[39;00m\n\u001B[1;32m--> 873\u001B[0m         handle \u001B[38;5;241m=\u001B[39m \u001B[38;5;28;43mopen\u001B[39;49m\u001B[43m(\u001B[49m\n\u001B[0;32m    874\u001B[0m \u001B[43m            \u001B[49m\u001B[43mhandle\u001B[49m\u001B[43m,\u001B[49m\n\u001B[0;32m    875\u001B[0m \u001B[43m            \u001B[49m\u001B[43mioargs\u001B[49m\u001B[38;5;241;43m.\u001B[39;49m\u001B[43mmode\u001B[49m\u001B[43m,\u001B[49m\n\u001B[0;32m    876\u001B[0m \u001B[43m            \u001B[49m\u001B[43mencoding\u001B[49m\u001B[38;5;241;43m=\u001B[39;49m\u001B[43mioargs\u001B[49m\u001B[38;5;241;43m.\u001B[39;49m\u001B[43mencoding\u001B[49m\u001B[43m,\u001B[49m\n\u001B[0;32m    877\u001B[0m \u001B[43m            \u001B[49m\u001B[43merrors\u001B[49m\u001B[38;5;241;43m=\u001B[39;49m\u001B[43merrors\u001B[49m\u001B[43m,\u001B[49m\n\u001B[0;32m    878\u001B[0m \u001B[43m            \u001B[49m\u001B[43mnewline\u001B[49m\u001B[38;5;241;43m=\u001B[39;49m\u001B[38;5;124;43m\"\u001B[39;49m\u001B[38;5;124;43m\"\u001B[39;49m\u001B[43m,\u001B[49m\n\u001B[0;32m    879\u001B[0m \u001B[43m        \u001B[49m\u001B[43m)\u001B[49m\n\u001B[0;32m    880\u001B[0m     \u001B[38;5;28;01melse\u001B[39;00m:\n\u001B[0;32m    881\u001B[0m         \u001B[38;5;66;03m# Binary mode\u001B[39;00m\n\u001B[0;32m    882\u001B[0m         handle \u001B[38;5;241m=\u001B[39m \u001B[38;5;28mopen\u001B[39m(handle, ioargs\u001B[38;5;241m.\u001B[39mmode)\n",
      "\u001B[1;31mFileNotFoundError\u001B[0m: [Errno 2] No such file or directory: 'data/all_crimes_2022-2025.csv'"
     ]
    }
   ],
   "execution_count": 4
  },
  {
   "cell_type": "code",
   "execution_count": null,
   "id": "62c51a84-6166-43cb-8cd1-c88fe627365f",
   "metadata": {},
   "outputs": [],
   "source": [
    "wards = gpd.read_file('geodata/wards2019.geojson')\n",
    "wards = wards.to_crs(epsg=4326)"
   ]
  },
  {
   "cell_type": "code",
   "execution_count": null,
   "id": "3c1f5bb3-f3e9-4293-aa96-61135c35cfb3",
   "metadata": {},
   "outputs": [],
   "source": [
    "# Assign each burglary point a geometry\n",
    "def get_count(data, sort_by):\n",
    "    wards = gpd.read_file('geodata/wards2019.geojson')\n",
    "    wards = wards.to_crs(epsg=4326)\n",
    "\n",
    "    gdf_crimes = gpd.GeoDataFrame(\n",
    "        data,\n",
    "        geometry=gpd.points_from_xy(data['Longitude'], data['Latitude']),\n",
    "        crs=\"EPSG:4326\"\n",
    "    )\n",
    "    \n",
    "    # Join burglary points to wards, keeping GSS_Code and Name\n",
    "    crimes_gdf_wards = gpd.sjoin(\n",
    "        gdf_crimes,\n",
    "        wards[['geometry', 'NAME', 'GSS_CODE']],\n",
    "        how='left',\n",
    "        predicate='within'\n",
    "    )\n",
    "    \n",
    "    # Filter out City of London and nulls\n",
    "    crimes_gdf_wards = crimes_gdf_wards[\n",
    "        (crimes_gdf_wards['NAME'] != 'City of London') & \n",
    "        (crimes_gdf_wards['GSS_CODE'].notna())\n",
    "    ].reset_index(drop=True)\n",
    "    \n",
    "    # Count burglaries per GSS_Code\n",
    "    crimes_burg_counts = (\n",
    "        crimes_gdf_wards\n",
    "        .groupby(sort_by)\n",
    "        .size()\n",
    "        .reset_index(name='Count')\n",
    "    )\n",
    "    \n",
    "    # Merge counts into full wards geodf\n",
    "    return_value = wards.merge(crimes_burg_counts, on='GSS_CODE', how='left')\n",
    "    return_value['Count'] = return_value['Count'].fillna(0)\n",
    "    \n",
    "    # Drop unnecessary columns\n",
    "    return_value = return_value[return_value['DISTRICT'] != 'City and County of the City of London']\n",
    "    return return_value.drop(columns=['DISTRICT', 'LAGSSCODE', 'HECTARES', 'NONLD_AREA'])"
   ]
  },
  {
   "cell_type": "code",
   "id": "bd167534-21cb-4959-bfce-c13c8d3703fb",
   "metadata": {
    "ExecuteTime": {
     "end_time": "2025-05-26T12:49:13.004260Z",
     "start_time": "2025-05-26T12:49:12.964202Z"
    }
   },
   "source": [
    "X_train_df = get_count(train_X_data, ['GSS_CODE', 'Crime type'])\n",
    "y_train_df = get_count(train_y_data, ['GSS_CODE'])\n",
    "\n",
    "X_test_df = get_count(test_X_data, ['GSS_CODE', 'Crime type'])\n",
    "y_test_df = get_count(test_y_data, ['GSS_CODE'])"
   ],
   "outputs": [
    {
     "ename": "NameError",
     "evalue": "name 'get_count' is not defined",
     "output_type": "error",
     "traceback": [
      "\u001B[1;31m---------------------------------------------------------------------------\u001B[0m",
      "\u001B[1;31mNameError\u001B[0m                                 Traceback (most recent call last)",
      "Cell \u001B[1;32mIn[3], line 1\u001B[0m\n\u001B[1;32m----> 1\u001B[0m X_train_df \u001B[38;5;241m=\u001B[39m \u001B[43mget_count\u001B[49m(train_X_data, [\u001B[38;5;124m'\u001B[39m\u001B[38;5;124mGSS_CODE\u001B[39m\u001B[38;5;124m'\u001B[39m, \u001B[38;5;124m'\u001B[39m\u001B[38;5;124mCrime type\u001B[39m\u001B[38;5;124m'\u001B[39m])\n\u001B[0;32m      2\u001B[0m y_train_df \u001B[38;5;241m=\u001B[39m get_count(train_y_data, [\u001B[38;5;124m'\u001B[39m\u001B[38;5;124mGSS_CODE\u001B[39m\u001B[38;5;124m'\u001B[39m])\n\u001B[0;32m      4\u001B[0m X_test_df \u001B[38;5;241m=\u001B[39m get_count(test_X_data, [\u001B[38;5;124m'\u001B[39m\u001B[38;5;124mGSS_CODE\u001B[39m\u001B[38;5;124m'\u001B[39m, \u001B[38;5;124m'\u001B[39m\u001B[38;5;124mCrime type\u001B[39m\u001B[38;5;124m'\u001B[39m])\n",
      "\u001B[1;31mNameError\u001B[0m: name 'get_count' is not defined"
     ]
    }
   ],
   "execution_count": 3
  },
  {
   "cell_type": "code",
   "execution_count": null,
   "id": "8f39fb5d-c61e-4f67-ba74-d51d5029284a",
   "metadata": {},
   "outputs": [],
   "source": [
    "X_train_df = (\n",
    "    X_train_df\n",
    "    .pivot_table(\n",
    "        index=['NAME','GSS_CODE','geometry'],\n",
    "        columns='Crime type',\n",
    "        values='Count',\n",
    "        fill_value=0\n",
    "    )\n",
    "    .reset_index()\n",
    ")\n",
    "X_train_df.columns.name = None\n",
    "\n",
    "X_test_df = (\n",
    "    X_test_df\n",
    "    .pivot_table(\n",
    "        index=['NAME','GSS_CODE','geometry'],\n",
    "        columns='Crime type',\n",
    "        values='Count',\n",
    "        fill_value=0\n",
    "    )\n",
    "    .reset_index()\n",
    ")\n",
    "X_test_df.columns.name = None"
   ]
  },
  {
   "cell_type": "code",
   "execution_count": null,
   "id": "320e5942-925b-4e34-ae2f-8b8a49ee1e25",
   "metadata": {
    "scrolled": true
   },
   "outputs": [],
   "source": [
    "indep_vars = ['Anti-social behaviour',\n",
    "       'Bicycle theft', 'Criminal damage and arson', 'Other theft', 'Robbery',\n",
    "       'Shoplifting', 'Theft from the person', 'Vehicle crime']\n",
    "X_train = X_train_df[indep_vars]\n",
    "y_train = y_train_df[['Count']]\n",
    "X_test = X_test_df[indep_vars]\n",
    "y_test = y_test_df[['Count']]\n",
    "\n",
    "# Initialize model\n",
    "model = LGBMRegressor(objective='regression', random_state=42, n_estimators = 10_000, n_jobs=-1)\n",
    "\n",
    "# Hyperparameter grid to search\n",
    "param_grid = {\n",
    "    'learning_rate': [0.05, 0.1],\n",
    "    'num_leaves': [31, 40, 60],\n",
    "    'max_depth': [-1, 5]\n",
    "}\n",
    "\n",
    "# Initialize GridSearchCV\n",
    "grid_search = GridSearchCV(\n",
    "    estimator=model,\n",
    "    param_grid=param_grid,\n",
    "    cv=5,\n",
    "    scoring='neg_root_mean_squared_error',\n",
    "    n_jobs=-1,\n",
    "    verbose=1\n",
    ")\n",
    "\n",
    "# Fit the model\n",
    "grid_search.fit(\n",
    "    X_train, \n",
    "    y_train.values.ravel(),\n",
    "    eval_set=[(X_test, y_test.values.ravel())],\n",
    "    callbacks=[\n",
    "        early_stopping(stopping_rounds=20, verbose=False),\n",
    "        log_evaluation(period=0)\n",
    "    ]\n",
    ")\n",
    "\n",
    "# Best parameters from GridSearchCV\n",
    "print(\"Best hyperparameters:\", grid_search.best_params_)\n",
    "\n",
    "# Get the best model from the grid search\n",
    "best_model = grid_search.best_estimator_\n",
    "\n",
    "y_pred = best_model.predict(X_test)\n",
    "\n",
    "# Evaluate performance\n",
    "rmse = np.sqrt(mean_squared_error(y_test, y_pred))\n",
    "print(f'Optimized RMSE: {rmse:.2f}')\n"
   ]
  },
  {
   "cell_type": "code",
   "execution_count": null,
   "id": "56d78f10-111a-4109-b696-5d63836ef179",
   "metadata": {},
   "outputs": [],
   "source": [
    "pred_series = pd.Series(y_pred, index=X_test.index, name='Predicted_Count')\n",
    "pred_series"
   ]
  },
  {
   "cell_type": "code",
   "execution_count": null,
   "id": "43c74c5d-3bbf-4a66-a93e-2ea684e223f1",
   "metadata": {},
   "outputs": [],
   "source": [
    "wards_with_pred = wards.merge(\n",
    "    pred_series.to_frame(), \n",
    "    left_index=True, \n",
    "    right_index=True, \n",
    "    how='left'\n",
    ")\n",
    "\n",
    "wards_with_pred = wards_with_pred[wards_with_pred['Predicted_Count'].notna()]"
   ]
  },
  {
   "cell_type": "code",
   "execution_count": null,
   "id": "5a67a133-95b8-476b-b880-40bce4bca6a2",
   "metadata": {},
   "outputs": [],
   "source": [
    "wards_with_pred['Predicted_Count'].mean()"
   ]
  },
  {
   "cell_type": "code",
   "execution_count": null,
   "id": "a152dcbd-d26f-447b-ad42-7a21668b8b0c",
   "metadata": {},
   "outputs": [],
   "source": [
    "fig = px.choropleth_map(\n",
    "    wards_with_pred,\n",
    "    geojson=json.loads(wards.to_json()),\n",
    "    locations='GSS_CODE',\n",
    "    featureidkey=\"properties.GSS_CODE\",\n",
    "    color='Predicted_Count',\n",
    "    range_color=(0, 120),\n",
    "    color_continuous_scale=\"OrRd\",\n",
    "    map_style=\"open-street-map\",\n",
    "    zoom=9,\n",
    "    center={\"lat\": 51.5072, \"lon\": -0.1276},\n",
    "    opacity=0.6,\n",
    "    height=600\n",
    ")\n",
    "\n",
    "fig.update_layout(title='Predicted Count Heatmap by London Ward')\n",
    "fig.show()"
   ]
  },
  {
   "cell_type": "code",
   "execution_count": null,
   "id": "2c278141-ab97-4dc7-a322-b83131d9ea88",
   "metadata": {},
   "outputs": [],
   "source": [
    "fig = px.choropleth_map(\n",
    "    y_test_df,\n",
    "    geojson=json.loads(wards.to_json()),\n",
    "    locations='GSS_CODE',\n",
    "    featureidkey=\"properties.GSS_CODE\",\n",
    "    color='Count',\n",
    "    range_color=(0, 400),\n",
    "    color_continuous_scale=\"OrRd\",\n",
    "    map_style=\"open-street-map\",\n",
    "    zoom=9,\n",
    "    center={\"lat\": 51.5072, \"lon\": -0.1276},\n",
    "    opacity=0.6,\n",
    "    height=600\n",
    ")\n",
    "\n",
    "fig.update_layout(title='actual count Heatmap by London Ward')\n",
    "fig.show()"
   ]
  }
 ],
 "metadata": {
  "kernelspec": {
   "display_name": "Python 3 (ipykernel)",
   "language": "python",
   "name": "python3"
  },
  "language_info": {
   "codemirror_mode": {
    "name": "ipython",
    "version": 3
   },
   "file_extension": ".py",
   "mimetype": "text/x-python",
   "name": "python",
   "nbconvert_exporter": "python",
   "pygments_lexer": "ipython3",
   "version": "3.10.0"
  }
 },
 "nbformat": 4,
 "nbformat_minor": 5
}
