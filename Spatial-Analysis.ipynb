{
 "cells": [
  {
   "cell_type": "code",
   "execution_count": null,
   "id": "e98c90a5-b655-4985-ba04-a791ebd5a103",
   "metadata": {},
   "outputs": [],
   "source": [
    "import plotly.express as px\n",
    "import pandas as pd\n",
    "import numpy as np\n",
    "import geopandas as gpd\n",
    "import json\n",
    "\n",
    "import seaborn as sns\n",
    "import matplotlib.pyplot as plt\n",
    "\n",
    "from libpysal.weights import Queen, W\n",
    "from spreg import ML_Lag\n",
    "\n",
    "from esda.moran import Moran, Moran_Local\n",
    "from splot.esda import moran_scatterplot, plot_moran, lisa_cluster"
   ]
  },
  {
   "cell_type": "code",
   "execution_count": null,
   "id": "c37e827b-4605-4ecc-8f98-a3b12d5eba22",
   "metadata": {},
   "outputs": [],
   "source": [
    "# crimes from 2019\n",
    "crimes = pd.read_csv('data/2019-data.csv')"
   ]
  },
  {
   "cell_type": "code",
   "execution_count": null,
   "id": "3ecc7ca8-adbb-42b3-933e-4c1780cf4ac3",
   "metadata": {},
   "outputs": [],
   "source": [
    "# clean data\n",
    "crimes = crimes[(crimes['Falls within'] == 'Metropolitan Police Service')]\n",
    "crimes = crimes[crimes['Crime type'] == 'Burglary']\n",
    "crimes = crimes.drop(['Context', 'Crime type', 'Crime ID', 'Reported by', 'Falls within',\n",
    "                      'Last outcome category', 'LSOA name', 'LSOA code', 'Location'], axis=1)\n",
    "burglaries = crimes.dropna().reset_index(drop=True)"
   ]
  },
  {
   "cell_type": "code",
   "execution_count": null,
   "id": "6d0c0ea2-f81e-4311-b4d4-26c109f915b7",
   "metadata": {},
   "outputs": [],
   "source": [
    "burglaries"
   ]
  },
  {
   "cell_type": "code",
   "execution_count": null,
   "id": "98d219fe-2da8-4c06-9bbb-7378d6b3fd17",
   "metadata": {},
   "outputs": [],
   "source": [
    "# Load wards and set CRS\n",
    "wards = gpd.read_file('geodata/wards2019.geojson')\n",
    "wards = wards.to_crs(epsg=4326)\n",
    "\n",
    "# Assign each burglary point a geometry\n",
    "gdf_burg = gpd.GeoDataFrame(\n",
    "    burglaries,\n",
    "    geometry=gpd.points_from_xy(burglaries['Longitude'], burglaries['Latitude']),\n",
    "    crs=\"EPSG:4326\"\n",
    ")\n",
    "\n",
    "# Join burglary points to wards, keeping GSS_Code and Name\n",
    "burg_gdf_wards = gpd.sjoin(\n",
    "    gdf_burg,\n",
    "    wards[['geometry', 'NAME', 'GSS_CODE']],\n",
    "    how='left',\n",
    "    predicate='within'\n",
    ")\n",
    "\n",
    "# Filter out City of London and nulls\n",
    "burg_gdf_wards = burg_gdf_wards[\n",
    "    (burg_gdf_wards['NAME'] != 'City of London') & \n",
    "    (burg_gdf_wards['GSS_CODE'].notna())\n",
    "].reset_index(drop=True)\n",
    "\n",
    "# Count burglaries per GSS_Code\n",
    "wards_burglary_counts = (\n",
    "    burg_gdf_wards\n",
    "    .groupby('GSS_CODE')\n",
    "    .size()\n",
    "    .reset_index(name='Count')\n",
    ")\n",
    "\n",
    "# Merge counts into full wards GeoDataFrame\n",
    "wards = wards.merge(wards_burglary_counts, on='GSS_CODE', how='left')\n",
    "wards['Count'] = wards['Count'].fillna(0)\n",
    "\n",
    "# Drop unnecessary columns\n",
    "wards = wards[wards['DISTRICT'] != 'City and County of the City of London']\n",
    "wards = wards.drop(columns=['DISTRICT', 'LAGSSCODE', 'HECTARES', 'NONLD_AREA'])"
   ]
  },
  {
   "cell_type": "code",
   "execution_count": null,
   "id": "4776ec9e-9bc3-4bb1-8cdd-5ba63e0e1b59",
   "metadata": {},
   "outputs": [],
   "source": [
    "deprivation = pd.read_csv('data/wards-deprivation-2019.csv')\n",
    "deprivation = deprivation.rename(columns={'Ward Code': 'GSS_CODE'})\n",
    "deprivation = deprivation[deprivation['Borough'] != 'City of London']\n",
    "\n",
    "indep_vars = ['Child population', '16-59 population']\n",
    "wards = wards.merge(deprivation[['GSS_CODE', 'Population'] + indep_vars], on='GSS_CODE', how='left')\n",
    "\n",
    "wards['CrimeRate'] = (wards['Count'] / wards['Population']) * 1000\n",
    "wards['Child population %'] = (wards['Child population'] / wards['Population'] * 100).round(1)\n",
    "wards['16-59 population %'] = (wards['16-59 population'] / wards['Population'] * 100).round(1)"
   ]
  },
  {
   "cell_type": "code",
   "execution_count": null,
   "id": "ba05b4ed-eab4-47e2-ac71-a47dfdab82d5",
   "metadata": {},
   "outputs": [],
   "source": [
    "# Use Queen contiguity to define wards as neighbors when their borders touch\n",
    "w = Queen.from_dataframe(wards, use_index = False)\n",
    "w.transform = 'r'"
   ]
  },
  {
   "cell_type": "code",
   "execution_count": null,
   "id": "99df6769-762b-40db-9b06-d7d86f567af0",
   "metadata": {},
   "outputs": [],
   "source": [
    "y = wards['CrimeRate'].values.reshape(-1, 1)       # dependent variable\n",
    "X = wards[['Child population %', '16-59 population %']].values         # independent variables"
   ]
  },
  {
   "cell_type": "code",
   "execution_count": null,
   "id": "e1cf3e1d-310c-4e2e-a204-9e7c3c6619df",
   "metadata": {},
   "outputs": [],
   "source": [
    "model = ML_Lag(y, X, w=w, name_y='CrimeRate', name_x=indep_vars)\n",
    "print(model.summary)"
   ]
  },
  {
   "cell_type": "code",
   "execution_count": null,
   "id": "11644406-6907-4cfe-a322-1a0ce37fb8a4",
   "metadata": {},
   "outputs": [],
   "source": [
    "mi = Moran(y, w)\n",
    "\n",
    "mi.I, mi.p_sim"
   ]
  },
  {
   "cell_type": "code",
   "execution_count": null,
   "id": "23228a9d-a083-4fc4-b3c0-60b706763b5e",
   "metadata": {},
   "outputs": [],
   "source": [
    "fig, ax = moran_scatterplot(mi, aspect_equal=True)\n",
    "plt.show()"
   ]
  },
  {
   "cell_type": "code",
   "execution_count": null,
   "id": "32531a58-073d-4af9-8906-2f85e233f1a5",
   "metadata": {},
   "outputs": [],
   "source": [
    "lisa = Moran_Local(y, w)\n",
    "\n",
    "# Plot cluster map\n",
    "fig, ax = plt.subplots(1, figsize=(10, 6))\n",
    "lisa_cluster(lisa, wards, p=0.05, ax=ax)\n",
    "plt.title('')\n",
    "plt.show()"
   ]
  },
  {
   "cell_type": "code",
   "execution_count": null,
   "id": "e55d1cb4-0dfd-4dc7-b551-d3e87da09963",
   "metadata": {},
   "outputs": [],
   "source": [
    "fig = px.choropleth_map(\n",
    "    wards,\n",
    "    geojson=json.loads(wards.to_json()),\n",
    "    locations='GSS_CODE',\n",
    "    featureidkey=\"properties.GSS_CODE\",\n",
    "    color='Child population %',\n",
    "    range_color=(0, 40),\n",
    "    color_continuous_scale=\"OrRd\",\n",
    "    map_style=\"open-street-map\",\n",
    "    zoom=9,\n",
    "    center={\"lat\": 51.5072, \"lon\": -0.1276},\n",
    "    opacity=0.6,\n",
    "    height=600\n",
    ")\n",
    "\n",
    "fig.update_layout(title='Child Population % Heatmap by London Ward')\n",
    "fig.show()"
   ]
  }
 ],
 "metadata": {
  "kernelspec": {
   "display_name": "Python 3 (ipykernel)",
   "language": "python",
   "name": "python3"
  },
  "language_info": {
   "codemirror_mode": {
    "name": "ipython",
    "version": 3
   },
   "file_extension": ".py",
   "mimetype": "text/x-python",
   "name": "python",
   "nbconvert_exporter": "python",
   "pygments_lexer": "ipython3",
   "version": "3.10.0"
  }
 },
 "nbformat": 4,
 "nbformat_minor": 5
}
